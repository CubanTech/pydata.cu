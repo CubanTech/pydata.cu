{
 "cells": [
  {
   "cell_type": "markdown",
   "metadata": {},
   "source": [
    "# Ejercicio: Datos climatológicos anuales de Cuba\n",
    "\n",
    "En este ejercicio vamos a usar un conjunto de datos que incluye diferentes valores climáticos para Cuba publicados por la ONEI (Oficina Nacional de Estadística e Información) para el año 2013.\n",
    "\n",
    "![](onei tabla.jpg)"
   ]
  },
  {
   "cell_type": "markdown",
   "metadata": {},
   "source": [
    "Para los propósitos de este ejercicio, hemos guardado este conjunto de datos en un archivo Excel mejor preparado para ser procesado con programas de análisis de datos al que hemos llamado *`clima Cuba.xlsx`*\n",
    "\n",
    "A continuación aparecen diferentes tareas a resolver para guiarte a través del proceso básico de importación, exploración y análisis de un conjunto de datos.\n",
    "\n",
    "# Importa la librería y los datos\n",
    "\n",
    "En la celda siguiente, escribe el comando que permitirá importar la librería `pandas`. Usa la convención de importarla como \"pd\"."
   ]
  },
  {
   "cell_type": "code",
   "execution_count": null,
   "metadata": {
    "collapsed": true
   },
   "outputs": [],
   "source": []
  },
  {
   "cell_type": "markdown",
   "metadata": {},
   "source": [
    "En nuestro directorio de trabajo hemos guardado el conjunto de datos \"Principales indicadores del clima, año 2013\" en un archivo Excel llamado \"clima Cuba\" (con extensión .xlsx).\n",
    "\n",
    "Crea una variable llamada \"clima2013\" y almacena en ella el contenido del archivo \"clima Cuba.xlsx\" (importando los datos hacia un data frame)."
   ]
  },
  {
   "cell_type": "code",
   "execution_count": null,
   "metadata": {
    "collapsed": true
   },
   "outputs": [],
   "source": []
  },
  {
   "cell_type": "markdown",
   "metadata": {},
   "source": [
    "## Exploración"
   ]
  },
  {
   "cell_type": "markdown",
   "metadata": {},
   "source": [
    "Utiliza el comando `type` para determinar qué tipo de elemento contiene la variable \"clima2013\"."
   ]
  },
  {
   "cell_type": "code",
   "execution_count": null,
   "metadata": {
    "collapsed": false
   },
   "outputs": [],
   "source": []
  },
  {
   "cell_type": "markdown",
   "metadata": {},
   "source": [
    "Haz que se muestre la información de las dimensiones del conjunto de datos con el que estamos trabajando, es decir, cuántas filas y columnas contiene. \n",
    "\n",
    "Pista: el resultado debe ser un par de números entre paréntesis en la forma (filas, columnas)."
   ]
  },
  {
   "cell_type": "code",
   "execution_count": null,
   "metadata": {
    "collapsed": true
   },
   "outputs": [],
   "source": []
  },
  {
   "cell_type": "markdown",
   "metadata": {},
   "source": [
    "Ahora queremos ver la parte superior de nuestro data frame. Has que se muestren solamente el inicio del data frame, es decir, las primeras 5 filas para todas las columnas:"
   ]
  },
  {
   "cell_type": "code",
   "execution_count": null,
   "metadata": {
    "collapsed": true
   },
   "outputs": [],
   "source": []
  },
  {
   "cell_type": "markdown",
   "metadata": {},
   "source": [
    "Utiliza el mismo método de la celda anterior para que en lugar de aparecer 5 filas, aparezca solamente una. Pista: emplea el mismo método de la celda anterior con otros parámetros para indicar que debe mostrarse solamente 1 fila."
   ]
  },
  {
   "cell_type": "code",
   "execution_count": null,
   "metadata": {
    "collapsed": true
   },
   "outputs": [],
   "source": []
  },
  {
   "cell_type": "markdown",
   "metadata": {},
   "source": [
    "Ahora haz que se muestre solamente el final del conjunto de datos, específicamente las últimas cinco filas."
   ]
  },
  {
   "cell_type": "code",
   "execution_count": null,
   "metadata": {
    "collapsed": true
   },
   "outputs": [],
   "source": []
  },
  {
   "cell_type": "markdown",
   "metadata": {},
   "source": [
    "En lugar de mostrar las últimas cinco filas, haz que se muestre solamente la última fila de contenido."
   ]
  },
  {
   "cell_type": "code",
   "execution_count": null,
   "metadata": {
    "collapsed": true
   },
   "outputs": [],
   "source": []
  },
  {
   "cell_type": "markdown",
   "metadata": {},
   "source": [
    "Haz que se muestre únicamente el nombre de las columnas, sin mostrar el contenido de las filas:"
   ]
  },
  {
   "cell_type": "code",
   "execution_count": null,
   "metadata": {
    "collapsed": true
   },
   "outputs": [],
   "source": []
  },
  {
   "cell_type": "markdown",
   "metadata": {},
   "source": [
    "Halla el valor máximo de la Temperatura máxima media (ºC)."
   ]
  },
  {
   "cell_type": "code",
   "execution_count": null,
   "metadata": {
    "collapsed": true
   },
   "outputs": [],
   "source": []
  },
  {
   "cell_type": "markdown",
   "metadata": {},
   "source": [
    "Halla el valor mínimo de la Temperatura mínima media (ºC)."
   ]
  },
  {
   "cell_type": "code",
   "execution_count": null,
   "metadata": {
    "collapsed": true
   },
   "outputs": [],
   "source": []
  },
  {
   "cell_type": "markdown",
   "metadata": {},
   "source": [
    "Haz que se muestren solamente las estaciones (filas) donde la temperatura máxima haya sido 32ºC o más:"
   ]
  },
  {
   "cell_type": "code",
   "execution_count": null,
   "metadata": {
    "collapsed": true
   },
   "outputs": [],
   "source": []
  },
  {
   "cell_type": "markdown",
   "metadata": {},
   "source": [
    "Muestra solamente las filas correspondientes a Pinar del Río. Pista: se pueden compara textos de la misma forma que se comparan números, con la diferencia de que los textos deben estar entrecomillados."
   ]
  },
  {
   "cell_type": "code",
   "execution_count": null,
   "metadata": {
    "collapsed": true
   },
   "outputs": [],
   "source": []
  },
  {
   "cell_type": "markdown",
   "metadata": {},
   "source": []
  }
 ],
 "metadata": {
  "kernelspec": {
   "display_name": "Python 3",
   "language": "python",
   "name": "python3"
  },
  "language_info": {
   "codemirror_mode": {
    "name": "ipython",
    "version": 3
   },
   "file_extension": ".py",
   "mimetype": "text/x-python",
   "name": "python",
   "nbconvert_exporter": "python",
   "pygments_lexer": "ipython3",
   "version": "3.4.3"
  }
 },
 "nbformat": 4,
 "nbformat_minor": 0
}
