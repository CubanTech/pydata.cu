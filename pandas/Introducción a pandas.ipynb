{
 "cells": [
  {
   "cell_type": "markdown",
   "metadata": {},
   "source": [
    "# Introducción a pandas\n",
    "### *Librería de Python para manipulación y análisis de datos*\n",
    "\n",
    "### Conceptos básicos\n",
    "\n",
    "### 1. Variables y operaciones básicas\n",
    "\n",
    "#### 1.2 Asignación de variables\n",
    "\n",
    "Emplear variables es una forma sencilla y rápida de lidiar con muchos problemas. Permiten, por ejemplo, reutilizar una y otra vez una misma fórmula para calcular resultados con valores diferentes."
   ]
  },
  {
   "cell_type": "code",
   "execution_count": 5,
   "metadata": {
    "collapsed": true
   },
   "outputs": [],
   "source": [
    "# Asignación del valor 20 a la variable x\n",
    "\n",
    "x = 20"
   ]
  },
  {
   "cell_type": "markdown",
   "metadata": {},
   "source": [
    "Una vez asignado un valor a una variable se puede recuperar ese valor invocando solamente el nombre de la variable."
   ]
  },
  {
   "cell_type": "code",
   "execution_count": 6,
   "metadata": {
    "collapsed": false
   },
   "outputs": [
    {
     "data": {
      "text/plain": [
       "20"
      ]
     },
     "execution_count": 6,
     "metadata": {},
     "output_type": "execute_result"
    }
   ],
   "source": [
    "x"
   ]
  },
  {
   "cell_type": "markdown",
   "metadata": {},
   "source": [
    "#### 1.2.1. Reglas para elegir nombres de variables\n",
    "\n",
    "Digamos que queremos asignar a una variable la cantidad de alimentos producidos en Cuba en 2017. Usemos un valor hipotético de toneladas:"
   ]
  },
  {
   "cell_type": "code",
   "execution_count": 7,
   "metadata": {
    "collapsed": true
   },
   "outputs": [],
   "source": [
    "alimentos2017 = 20000"
   ]
  },
  {
   "cell_type": "markdown",
   "metadata": {},
   "source": [
    "Las mayúsculas y minúsculas se diferencian en los nombres de variables. Si tratamos de llamar a la variable anterior y nos equivocamos escribiéndola con mayúscula, obtendremos un error:"
   ]
  },
  {
   "cell_type": "code",
   "execution_count": 8,
   "metadata": {
    "collapsed": false
   },
   "outputs": [
    {
     "ename": "NameError",
     "evalue": "name 'Alimentos2017' is not defined",
     "output_type": "error",
     "traceback": [
      "\u001b[0;31m---------------------------------------------------------------------------\u001b[0m",
      "\u001b[0;31mNameError\u001b[0m                                 Traceback (most recent call last)",
      "\u001b[0;32m<ipython-input-8-3199779c5369>\u001b[0m in \u001b[0;36m<module>\u001b[0;34m()\u001b[0m\n\u001b[0;32m----> 1\u001b[0;31m \u001b[0mAlimentos2017\u001b[0m\u001b[0;34m\u001b[0m\u001b[0m\n\u001b[0m",
      "\u001b[0;31mNameError\u001b[0m: name 'Alimentos2017' is not defined"
     ]
    }
   ],
   "source": [
    "Alimentos2017"
   ]
  },
  {
   "cell_type": "markdown",
   "metadata": {},
   "source": [
    "Los nombres de variables pueden incluir guiones bajos:"
   ]
  },
  {
   "cell_type": "code",
   "execution_count": null,
   "metadata": {
    "collapsed": true
   },
   "outputs": [],
   "source": [
    "alimentos_2017 = 20000"
   ]
  },
  {
   "cell_type": "markdown",
   "metadata": {},
   "source": [
    "Y pueden incluir también \"Ñ\" y tildes:"
   ]
  },
  {
   "cell_type": "code",
   "execution_count": null,
   "metadata": {
    "collapsed": false
   },
   "outputs": [],
   "source": [
    "tamaño = 100\n",
    "mínimo = 20"
   ]
  },
  {
   "cell_type": "markdown",
   "metadata": {},
   "source": [
    "#### 1.2.1.1 Restricciones al elegir nombres de variables\n",
    "Como vimos en la variable anterior, los nombres pueden incluir números, PERO **no pueden comenzar con números**:"
   ]
  },
  {
   "cell_type": "code",
   "execution_count": 9,
   "metadata": {
    "collapsed": false
   },
   "outputs": [
    {
     "ename": "SyntaxError",
     "evalue": "invalid syntax (<ipython-input-9-fd13dd1588e9>, line 1)",
     "output_type": "error",
     "traceback": [
      "\u001b[0;36m  File \u001b[0;32m\"<ipython-input-9-fd13dd1588e9>\"\u001b[0;36m, line \u001b[0;32m1\u001b[0m\n\u001b[0;31m    2017alimentos = 20000\u001b[0m\n\u001b[0m                ^\u001b[0m\n\u001b[0;31mSyntaxError\u001b[0m\u001b[0;31m:\u001b[0m invalid syntax\n"
     ]
    }
   ],
   "source": [
    "2017alimentos = 20000"
   ]
  },
  {
   "cell_type": "markdown",
   "metadata": {},
   "source": [
    "Tampoco pueden incluir guiones intermedios:"
   ]
  },
  {
   "cell_type": "code",
   "execution_count": 10,
   "metadata": {
    "collapsed": false
   },
   "outputs": [
    {
     "ename": "NameError",
     "evalue": "name 'alimentos' is not defined",
     "output_type": "error",
     "traceback": [
      "\u001b[0;31m---------------------------------------------------------------------------\u001b[0m",
      "\u001b[0;31mNameError\u001b[0m                                 Traceback (most recent call last)",
      "\u001b[0;32m<ipython-input-10-f2470d2fa037>\u001b[0m in \u001b[0;36m<module>\u001b[0;34m()\u001b[0m\n\u001b[0;32m----> 1\u001b[0;31m \u001b[0malimentos\u001b[0m\u001b[0;34m-\u001b[0m\u001b[0;36m2017\u001b[0m\u001b[0;34m\u001b[0m\u001b[0m\n\u001b[0m",
      "\u001b[0;31mNameError\u001b[0m: name 'alimentos' is not defined"
     ]
    }
   ],
   "source": [
    "alimentos-2017"
   ]
  },
  {
   "cell_type": "markdown",
   "metadata": {},
   "source": [
    "Ni pueden incluir otros signos, como por ciento, barras, interrogaciones y demás:"
   ]
  },
  {
   "cell_type": "code",
   "execution_count": 11,
   "metadata": {
    "collapsed": false
   },
   "outputs": [
    {
     "ename": "SyntaxError",
     "evalue": "can't assign to operator (<ipython-input-11-d989a6b6da52>, line 2)",
     "output_type": "error",
     "traceback": [
      "\u001b[0;36m  File \u001b[0;32m\"<ipython-input-11-d989a6b6da52>\"\u001b[0;36m, line \u001b[0;32m2\u001b[0m\n\u001b[0;31m    alimentos%2017 = 120\u001b[0m\n\u001b[0m                        ^\u001b[0m\n\u001b[0;31mSyntaxError\u001b[0m\u001b[0;31m:\u001b[0m can't assign to operator\n"
     ]
    }
   ],
   "source": [
    "# Los nombres de variables no pueden incluir el signo \"%\"\n",
    "alimentos%2017 = 120"
   ]
  },
  {
   "cell_type": "code",
   "execution_count": 12,
   "metadata": {
    "collapsed": false
   },
   "outputs": [
    {
     "ename": "SyntaxError",
     "evalue": "invalid syntax (<ipython-input-12-021e59c58f43>, line 2)",
     "output_type": "error",
     "traceback": [
      "\u001b[0;36m  File \u001b[0;32m\"<ipython-input-12-021e59c58f43>\"\u001b[0;36m, line \u001b[0;32m2\u001b[0m\n\u001b[0;31m    alimentos?2017 = 120\u001b[0m\n\u001b[0m             ^\u001b[0m\n\u001b[0;31mSyntaxError\u001b[0m\u001b[0;31m:\u001b[0m invalid syntax\n"
     ]
    }
   ],
   "source": [
    "# Los nombres de variables no pueden incluir el signo \"?\"\n",
    "alimentos?2017 = 120"
   ]
  },
  {
   "cell_type": "code",
   "execution_count": 13,
   "metadata": {
    "collapsed": false
   },
   "outputs": [
    {
     "ename": "SyntaxError",
     "evalue": "invalid syntax (<ipython-input-13-caa86776fc2b>, line 2)",
     "output_type": "error",
     "traceback": [
      "\u001b[0;36m  File \u001b[0;32m\"<ipython-input-13-caa86776fc2b>\"\u001b[0;36m, line \u001b[0;32m2\u001b[0m\n\u001b[0;31m    alimentos.2017 = 120\u001b[0m\n\u001b[0m                 ^\u001b[0m\n\u001b[0;31mSyntaxError\u001b[0m\u001b[0;31m:\u001b[0m invalid syntax\n"
     ]
    }
   ],
   "source": [
    "# Los nombres de variables no pueden incluir puntos\n",
    "alimentos.2017 = 120"
   ]
  },
  {
   "cell_type": "markdown",
   "metadata": {},
   "source": [
    "## Operaciones básicas\n",
    "\n",
    "Diferentes signos, métodos y funciones nos permiten realizar diferentes cálculos con nuestros datos.\n",
    "\n",
    "Si tuviéramos la cantidad de alimentos producidos de 2013 a 2017 asignados cada uno a una variable por el valor anual... "
   ]
  },
  {
   "cell_type": "code",
   "execution_count": 14,
   "metadata": {
    "collapsed": true
   },
   "outputs": [],
   "source": [
    "alimentos2013 = 2000000\n",
    "alimentos2014 = 1500000\n",
    "alimentos2015 = 1300000\n",
    "alimentos2016 = 1200000\n",
    "alimentos2017 = 1100000"
   ]
  },
  {
   "cell_type": "markdown",
   "metadata": {},
   "source": [
    "...podríamos calcular la producción del quinquenio sumando todos los valores:"
   ]
  },
  {
   "cell_type": "code",
   "execution_count": 15,
   "metadata": {
    "collapsed": false
   },
   "outputs": [
    {
     "data": {
      "text/plain": [
       "7100000"
      ]
     },
     "execution_count": 15,
     "metadata": {},
     "output_type": "execute_result"
    }
   ],
   "source": [
    "alimentos2013+alimentos2014+alimentos2015+alimentos2016+alimentos2017"
   ]
  },
  {
   "cell_type": "markdown",
   "metadata": {},
   "source": [
    "También podríamos asignar ese resultado a una nueva variable para "
   ]
  },
  {
   "cell_type": "code",
   "execution_count": 16,
   "metadata": {
    "collapsed": false
   },
   "outputs": [],
   "source": [
    "produccionTotal = alimentos2013+alimentos2014+alimentos2015+alimentos2016+alimentos2017"
   ]
  },
  {
   "cell_type": "code",
   "execution_count": 17,
   "metadata": {
    "collapsed": false
   },
   "outputs": [
    {
     "data": {
      "text/plain": [
       "7100000"
      ]
     },
     "execution_count": 17,
     "metadata": {},
     "output_type": "execute_result"
    }
   ],
   "source": [
    "produccionTotal"
   ]
  },
  {
   "cell_type": "code",
   "execution_count": 18,
   "metadata": {
    "collapsed": false
   },
   "outputs": [
    {
     "data": {
      "text/plain": [
       "645.4545454545455"
      ]
     },
     "execution_count": 18,
     "metadata": {},
     "output_type": "execute_result"
    }
   ],
   "source": [
    "produccionTotal/11000000*1000"
   ]
  },
  {
   "cell_type": "code",
   "execution_count": 19,
   "metadata": {
    "collapsed": false
   },
   "outputs": [
    {
     "data": {
      "text/plain": [
       "1100000"
      ]
     },
     "execution_count": 19,
     "metadata": {},
     "output_type": "execute_result"
    }
   ],
   "source": [
    "min(alimentos2013, alimentos2014, alimentos2015, alimentos2016, alimentos2017)"
   ]
  },
  {
   "cell_type": "code",
   "execution_count": 20,
   "metadata": {
    "collapsed": false
   },
   "outputs": [
    {
     "data": {
      "text/plain": [
       "2000000"
      ]
     },
     "execution_count": 20,
     "metadata": {},
     "output_type": "execute_result"
    }
   ],
   "source": [
    "max(alimentos2013, alimentos2014, alimentos2015, alimentos2016, alimentos2017)"
   ]
  },
  {
   "cell_type": "markdown",
   "metadata": {},
   "source": [
    "Operadores de comparación:\n",
    "\n",
    "* `==` (igual condicional)\n",
    "* `!=` (distinto de)\n",
    "* `<` (menor que)\n",
    "* `>` (mayor que)\n",
    "* `<=` (menor o igual que)\n",
    "* `>=` (mayor o igual que)"
   ]
  },
  {
   "cell_type": "markdown",
   "metadata": {},
   "source": [
    "## Pandas\n",
    "\n",
    "### Importar librería"
   ]
  },
  {
   "cell_type": "code",
   "execution_count": 47,
   "metadata": {
    "collapsed": false
   },
   "outputs": [],
   "source": [
    "# comenzamos siempre importando las librerías que vamos a usar\n",
    "import pandas as pd"
   ]
  },
  {
   "cell_type": "markdown",
   "metadata": {},
   "source": [
    "### Importar o cargar conjuntos de datos"
   ]
  },
  {
   "cell_type": "code",
   "execution_count": 4,
   "metadata": {
    "collapsed": false
   },
   "outputs": [],
   "source": [
    "lluvias2013 = pd.read_excel(\"precipitaciones2013.xlsx\")"
   ]
  },
  {
   "cell_type": "code",
   "execution_count": 5,
   "metadata": {
    "collapsed": false
   },
   "outputs": [
    {
     "data": {
      "text/plain": [
       "pandas.core.frame.DataFrame"
      ]
     },
     "execution_count": 5,
     "metadata": {},
     "output_type": "execute_result"
    }
   ],
   "source": [
    "type(lluvias2013)"
   ]
  },
  {
   "cell_type": "markdown",
   "metadata": {},
   "source": [
    "### Explorar los datos\n",
    "\n",
    "El método `shape` permite obtener las dimensiones del data frame, es decir, la cantidad de columnas y filas que lo integran, de la forma `(filas, columnas)`.\n",
    "\n",
    "Su sintaxis es Nombre_del_Dataframe.shape:"
   ]
  },
  {
   "cell_type": "code",
   "execution_count": 80,
   "metadata": {
    "collapsed": false
   },
   "outputs": [
    {
     "data": {
      "text/plain": [
       "(16, 12)"
      ]
     },
     "execution_count": 80,
     "metadata": {},
     "output_type": "execute_result"
    }
   ],
   "source": [
    "lluvias2013.shape"
   ]
  },
  {
   "cell_type": "markdown",
   "metadata": {},
   "source": [
    "Si ejecutamos el nombre del dataframe obtenemos una vista total de nuestros datos, abreviada en el centro a veces en dependencia del tamaño del data frame."
   ]
  },
  {
   "cell_type": "code",
   "execution_count": 25,
   "metadata": {
    "collapsed": false
   },
   "outputs": [
    {
     "data": {
      "text/html": [
       "<div>\n",
       "<table border=\"1\" class=\"dataframe\">\n",
       "  <thead>\n",
       "    <tr style=\"text-align: right;\">\n",
       "      <th></th>\n",
       "      <th>Ene.</th>\n",
       "      <th>Feb.</th>\n",
       "      <th>Mar.</th>\n",
       "      <th>Abr.</th>\n",
       "      <th>May.</th>\n",
       "      <th>Jun.</th>\n",
       "      <th>Jul.</th>\n",
       "      <th>Ago.</th>\n",
       "      <th>Sept.</th>\n",
       "      <th>Oct.</th>\n",
       "      <th>Nov.</th>\n",
       "      <th>Dic.</th>\n",
       "    </tr>\n",
       "  </thead>\n",
       "  <tbody>\n",
       "    <tr>\n",
       "      <th>Pinar del Río</th>\n",
       "      <td>14.1</td>\n",
       "      <td>37.8</td>\n",
       "      <td>73.7</td>\n",
       "      <td>71.4</td>\n",
       "      <td>116.0</td>\n",
       "      <td>677.0</td>\n",
       "      <td>181.6</td>\n",
       "      <td>168.2</td>\n",
       "      <td>173.6</td>\n",
       "      <td>122.4</td>\n",
       "      <td>87.5</td>\n",
       "      <td>56.2</td>\n",
       "    </tr>\n",
       "    <tr>\n",
       "      <th>Artemisa</th>\n",
       "      <td>31.0</td>\n",
       "      <td>38.2</td>\n",
       "      <td>88.5</td>\n",
       "      <td>70.7</td>\n",
       "      <td>131.1</td>\n",
       "      <td>520.6</td>\n",
       "      <td>209.8</td>\n",
       "      <td>119.6</td>\n",
       "      <td>169.9</td>\n",
       "      <td>135.1</td>\n",
       "      <td>195.9</td>\n",
       "      <td>58.3</td>\n",
       "    </tr>\n",
       "    <tr>\n",
       "      <th>La Habana</th>\n",
       "      <td>5.3</td>\n",
       "      <td>38.5</td>\n",
       "      <td>65.8</td>\n",
       "      <td>63.0</td>\n",
       "      <td>132.0</td>\n",
       "      <td>190.9</td>\n",
       "      <td>214.3</td>\n",
       "      <td>200.4</td>\n",
       "      <td>243.6</td>\n",
       "      <td>50.6</td>\n",
       "      <td>322.2</td>\n",
       "      <td>71.1</td>\n",
       "    </tr>\n",
       "    <tr>\n",
       "      <th>Mayabeque</th>\n",
       "      <td>6.0</td>\n",
       "      <td>22.5</td>\n",
       "      <td>40.2</td>\n",
       "      <td>99.8</td>\n",
       "      <td>127.5</td>\n",
       "      <td>246.4</td>\n",
       "      <td>224.4</td>\n",
       "      <td>182.8</td>\n",
       "      <td>188.3</td>\n",
       "      <td>106.6</td>\n",
       "      <td>88.0</td>\n",
       "      <td>58.3</td>\n",
       "    </tr>\n",
       "    <tr>\n",
       "      <th>Matanzas</th>\n",
       "      <td>3.1</td>\n",
       "      <td>10.7</td>\n",
       "      <td>23.9</td>\n",
       "      <td>74.1</td>\n",
       "      <td>134.4</td>\n",
       "      <td>104.7</td>\n",
       "      <td>150.3</td>\n",
       "      <td>100.9</td>\n",
       "      <td>103.8</td>\n",
       "      <td>46.5</td>\n",
       "      <td>13.9</td>\n",
       "      <td>13.8</td>\n",
       "    </tr>\n",
       "    <tr>\n",
       "      <th>Villa Clara</th>\n",
       "      <td>34.1</td>\n",
       "      <td>15.7</td>\n",
       "      <td>45.7</td>\n",
       "      <td>115.8</td>\n",
       "      <td>181.8</td>\n",
       "      <td>129.2</td>\n",
       "      <td>163.5</td>\n",
       "      <td>172.8</td>\n",
       "      <td>232.5</td>\n",
       "      <td>240.6</td>\n",
       "      <td>153.1</td>\n",
       "      <td>34.6</td>\n",
       "    </tr>\n",
       "    <tr>\n",
       "      <th>Cienfuegos</th>\n",
       "      <td>21.1</td>\n",
       "      <td>20.6</td>\n",
       "      <td>31.8</td>\n",
       "      <td>121.3</td>\n",
       "      <td>197.9</td>\n",
       "      <td>191.6</td>\n",
       "      <td>234.4</td>\n",
       "      <td>211.3</td>\n",
       "      <td>189.3</td>\n",
       "      <td>140.1</td>\n",
       "      <td>77.0</td>\n",
       "      <td>22.2</td>\n",
       "    </tr>\n",
       "    <tr>\n",
       "      <th>Sancti Spíritus</th>\n",
       "      <td>21.9</td>\n",
       "      <td>11.4</td>\n",
       "      <td>19.3</td>\n",
       "      <td>98.9</td>\n",
       "      <td>174.9</td>\n",
       "      <td>205.9</td>\n",
       "      <td>217.3</td>\n",
       "      <td>169.9</td>\n",
       "      <td>160.8</td>\n",
       "      <td>196.7</td>\n",
       "      <td>81.8</td>\n",
       "      <td>29.1</td>\n",
       "    </tr>\n",
       "    <tr>\n",
       "      <th>Ciego de Ávila</th>\n",
       "      <td>26.2</td>\n",
       "      <td>7.3</td>\n",
       "      <td>18.7</td>\n",
       "      <td>59.7</td>\n",
       "      <td>242.0</td>\n",
       "      <td>130.5</td>\n",
       "      <td>207.1</td>\n",
       "      <td>122.8</td>\n",
       "      <td>183.4</td>\n",
       "      <td>145.1</td>\n",
       "      <td>90.0</td>\n",
       "      <td>26.0</td>\n",
       "    </tr>\n",
       "    <tr>\n",
       "      <th>Camagüey</th>\n",
       "      <td>33.8</td>\n",
       "      <td>12.8</td>\n",
       "      <td>22.5</td>\n",
       "      <td>104.1</td>\n",
       "      <td>270.7</td>\n",
       "      <td>141.6</td>\n",
       "      <td>159.1</td>\n",
       "      <td>130.8</td>\n",
       "      <td>190.1</td>\n",
       "      <td>106.1</td>\n",
       "      <td>74.2</td>\n",
       "      <td>24.3</td>\n",
       "    </tr>\n",
       "    <tr>\n",
       "      <th>Las Tunas</th>\n",
       "      <td>72.8</td>\n",
       "      <td>6.3</td>\n",
       "      <td>20.5</td>\n",
       "      <td>54.5</td>\n",
       "      <td>162.3</td>\n",
       "      <td>147.8</td>\n",
       "      <td>103.4</td>\n",
       "      <td>142.2</td>\n",
       "      <td>145.3</td>\n",
       "      <td>101.5</td>\n",
       "      <td>67.4</td>\n",
       "      <td>9.4</td>\n",
       "    </tr>\n",
       "    <tr>\n",
       "      <th>Holguín</th>\n",
       "      <td>85.3</td>\n",
       "      <td>49.2</td>\n",
       "      <td>44.3</td>\n",
       "      <td>101.2</td>\n",
       "      <td>160.8</td>\n",
       "      <td>144.9</td>\n",
       "      <td>82.5</td>\n",
       "      <td>90.7</td>\n",
       "      <td>153.3</td>\n",
       "      <td>136.9</td>\n",
       "      <td>130.9</td>\n",
       "      <td>27.4</td>\n",
       "    </tr>\n",
       "    <tr>\n",
       "      <th>Granma</th>\n",
       "      <td>17.3</td>\n",
       "      <td>16.5</td>\n",
       "      <td>15.7</td>\n",
       "      <td>103.6</td>\n",
       "      <td>182.4</td>\n",
       "      <td>165.4</td>\n",
       "      <td>131.0</td>\n",
       "      <td>159.2</td>\n",
       "      <td>189.9</td>\n",
       "      <td>141.0</td>\n",
       "      <td>88.5</td>\n",
       "      <td>20.8</td>\n",
       "    </tr>\n",
       "    <tr>\n",
       "      <th>Santiago de Cuba</th>\n",
       "      <td>27.5</td>\n",
       "      <td>12.6</td>\n",
       "      <td>22.8</td>\n",
       "      <td>119.9</td>\n",
       "      <td>157.1</td>\n",
       "      <td>150.1</td>\n",
       "      <td>126.3</td>\n",
       "      <td>125.7</td>\n",
       "      <td>164.1</td>\n",
       "      <td>125.0</td>\n",
       "      <td>64.8</td>\n",
       "      <td>21.9</td>\n",
       "    </tr>\n",
       "    <tr>\n",
       "      <th>Guantánamo</th>\n",
       "      <td>79.9</td>\n",
       "      <td>57.9</td>\n",
       "      <td>54.8</td>\n",
       "      <td>111.2</td>\n",
       "      <td>156.3</td>\n",
       "      <td>94.1</td>\n",
       "      <td>98.7</td>\n",
       "      <td>73.4</td>\n",
       "      <td>149.4</td>\n",
       "      <td>126.3</td>\n",
       "      <td>98.9</td>\n",
       "      <td>83.1</td>\n",
       "    </tr>\n",
       "    <tr>\n",
       "      <th>Isla de la Juventud</th>\n",
       "      <td>16.0</td>\n",
       "      <td>17.6</td>\n",
       "      <td>94.2</td>\n",
       "      <td>87.5</td>\n",
       "      <td>123.7</td>\n",
       "      <td>467.3</td>\n",
       "      <td>181.1</td>\n",
       "      <td>145.5</td>\n",
       "      <td>246.3</td>\n",
       "      <td>128.8</td>\n",
       "      <td>19.7</td>\n",
       "      <td>23.9</td>\n",
       "    </tr>\n",
       "  </tbody>\n",
       "</table>\n",
       "</div>"
      ],
      "text/plain": [
       "                     Ene.   Feb.     Mar.    Abr.     May.    Jun.    Jul.  \\\n",
       "Pinar del Río        14.1   37.8     73.7    71.4    116.0   677.0   181.6   \n",
       "Artemisa             31.0   38.2     88.5    70.7    131.1   520.6   209.8   \n",
       "La Habana             5.3   38.5     65.8    63.0    132.0   190.9   214.3   \n",
       "Mayabeque             6.0   22.5     40.2    99.8    127.5   246.4   224.4   \n",
       "Matanzas              3.1   10.7     23.9    74.1    134.4   104.7   150.3   \n",
       "Villa Clara          34.1   15.7     45.7   115.8    181.8   129.2   163.5   \n",
       "Cienfuegos           21.1   20.6     31.8   121.3    197.9   191.6   234.4   \n",
       "Sancti Spíritus      21.9   11.4     19.3    98.9    174.9   205.9   217.3   \n",
       "Ciego de Ávila       26.2    7.3     18.7    59.7    242.0   130.5   207.1   \n",
       "Camagüey             33.8   12.8     22.5   104.1    270.7   141.6   159.1   \n",
       "Las Tunas            72.8    6.3     20.5    54.5    162.3   147.8   103.4   \n",
       "Holguín              85.3   49.2     44.3   101.2    160.8   144.9    82.5   \n",
       "Granma               17.3   16.5     15.7   103.6    182.4   165.4   131.0   \n",
       "Santiago de Cuba     27.5   12.6     22.8   119.9    157.1   150.1   126.3   \n",
       "Guantánamo           79.9   57.9     54.8   111.2    156.3    94.1    98.7   \n",
       "Isla de la Juventud  16.0   17.6     94.2    87.5    123.7   467.3   181.1   \n",
       "\n",
       "                       Ago.    Sept.    Oct.    Nov.    Dic.  \n",
       "Pinar del Río         168.2    173.6   122.4    87.5    56.2  \n",
       "Artemisa              119.6    169.9   135.1   195.9    58.3  \n",
       "La Habana             200.4    243.6    50.6   322.2    71.1  \n",
       "Mayabeque             182.8    188.3   106.6    88.0    58.3  \n",
       "Matanzas              100.9    103.8    46.5    13.9    13.8  \n",
       "Villa Clara           172.8    232.5   240.6   153.1    34.6  \n",
       "Cienfuegos            211.3    189.3   140.1    77.0    22.2  \n",
       "Sancti Spíritus       169.9    160.8   196.7    81.8    29.1  \n",
       "Ciego de Ávila        122.8    183.4   145.1    90.0    26.0  \n",
       "Camagüey              130.8    190.1   106.1    74.2    24.3  \n",
       "Las Tunas             142.2    145.3   101.5    67.4     9.4  \n",
       "Holguín                90.7    153.3   136.9   130.9    27.4  \n",
       "Granma                159.2    189.9   141.0    88.5    20.8  \n",
       "Santiago de Cuba      125.7    164.1   125.0    64.8    21.9  \n",
       "Guantánamo             73.4    149.4   126.3    98.9    83.1  \n",
       "Isla de la Juventud   145.5    246.3   128.8    19.7    23.9  "
      ]
     },
     "execution_count": 25,
     "metadata": {},
     "output_type": "execute_result"
    }
   ],
   "source": [
    "lluvias2013"
   ]
  },
  {
   "cell_type": "code",
   "execution_count": 26,
   "metadata": {
    "collapsed": false
   },
   "outputs": [
    {
     "data": {
      "text/plain": [
       "Index(['Ene.', ' Feb.', '   Mar.', '  Abr.', '   May.', '  Jun.', '  Jul.',\n",
       "       '  Ago.', '  Sept.', '  Oct.', '  Nov.', '  Dic.'],\n",
       "      dtype='object')"
      ]
     },
     "execution_count": 26,
     "metadata": {},
     "output_type": "execute_result"
    }
   ],
   "source": [
    "lluvias2013.columns"
   ]
  },
  {
   "cell_type": "code",
   "execution_count": 27,
   "metadata": {
    "collapsed": false
   },
   "outputs": [
    {
     "data": {
      "text/html": [
       "<div>\n",
       "<table border=\"1\" class=\"dataframe\">\n",
       "  <thead>\n",
       "    <tr style=\"text-align: right;\">\n",
       "      <th></th>\n",
       "      <th>Ene.</th>\n",
       "      <th>Feb.</th>\n",
       "      <th>Mar.</th>\n",
       "      <th>Abr.</th>\n",
       "      <th>May.</th>\n",
       "      <th>Jun.</th>\n",
       "      <th>Jul.</th>\n",
       "      <th>Ago.</th>\n",
       "      <th>Sept.</th>\n",
       "      <th>Oct.</th>\n",
       "      <th>Nov.</th>\n",
       "      <th>Dic.</th>\n",
       "    </tr>\n",
       "  </thead>\n",
       "  <tbody>\n",
       "    <tr>\n",
       "      <th>Pinar del Río</th>\n",
       "      <td>14.1</td>\n",
       "      <td>37.8</td>\n",
       "      <td>73.7</td>\n",
       "      <td>71.4</td>\n",
       "      <td>116.0</td>\n",
       "      <td>677.0</td>\n",
       "      <td>181.6</td>\n",
       "      <td>168.2</td>\n",
       "      <td>173.6</td>\n",
       "      <td>122.4</td>\n",
       "      <td>87.5</td>\n",
       "      <td>56.2</td>\n",
       "    </tr>\n",
       "    <tr>\n",
       "      <th>Artemisa</th>\n",
       "      <td>31.0</td>\n",
       "      <td>38.2</td>\n",
       "      <td>88.5</td>\n",
       "      <td>70.7</td>\n",
       "      <td>131.1</td>\n",
       "      <td>520.6</td>\n",
       "      <td>209.8</td>\n",
       "      <td>119.6</td>\n",
       "      <td>169.9</td>\n",
       "      <td>135.1</td>\n",
       "      <td>195.9</td>\n",
       "      <td>58.3</td>\n",
       "    </tr>\n",
       "    <tr>\n",
       "      <th>La Habana</th>\n",
       "      <td>5.3</td>\n",
       "      <td>38.5</td>\n",
       "      <td>65.8</td>\n",
       "      <td>63.0</td>\n",
       "      <td>132.0</td>\n",
       "      <td>190.9</td>\n",
       "      <td>214.3</td>\n",
       "      <td>200.4</td>\n",
       "      <td>243.6</td>\n",
       "      <td>50.6</td>\n",
       "      <td>322.2</td>\n",
       "      <td>71.1</td>\n",
       "    </tr>\n",
       "    <tr>\n",
       "      <th>Mayabeque</th>\n",
       "      <td>6.0</td>\n",
       "      <td>22.5</td>\n",
       "      <td>40.2</td>\n",
       "      <td>99.8</td>\n",
       "      <td>127.5</td>\n",
       "      <td>246.4</td>\n",
       "      <td>224.4</td>\n",
       "      <td>182.8</td>\n",
       "      <td>188.3</td>\n",
       "      <td>106.6</td>\n",
       "      <td>88.0</td>\n",
       "      <td>58.3</td>\n",
       "    </tr>\n",
       "    <tr>\n",
       "      <th>Matanzas</th>\n",
       "      <td>3.1</td>\n",
       "      <td>10.7</td>\n",
       "      <td>23.9</td>\n",
       "      <td>74.1</td>\n",
       "      <td>134.4</td>\n",
       "      <td>104.7</td>\n",
       "      <td>150.3</td>\n",
       "      <td>100.9</td>\n",
       "      <td>103.8</td>\n",
       "      <td>46.5</td>\n",
       "      <td>13.9</td>\n",
       "      <td>13.8</td>\n",
       "    </tr>\n",
       "  </tbody>\n",
       "</table>\n",
       "</div>"
      ],
      "text/plain": [
       "               Ene.   Feb.     Mar.    Abr.     May.    Jun.    Jul.    Ago.  \\\n",
       "Pinar del Río  14.1   37.8     73.7    71.4    116.0   677.0   181.6   168.2   \n",
       "Artemisa       31.0   38.2     88.5    70.7    131.1   520.6   209.8   119.6   \n",
       "La Habana       5.3   38.5     65.8    63.0    132.0   190.9   214.3   200.4   \n",
       "Mayabeque       6.0   22.5     40.2    99.8    127.5   246.4   224.4   182.8   \n",
       "Matanzas        3.1   10.7     23.9    74.1    134.4   104.7   150.3   100.9   \n",
       "\n",
       "                 Sept.    Oct.    Nov.    Dic.  \n",
       "Pinar del Río    173.6   122.4    87.5    56.2  \n",
       "Artemisa         169.9   135.1   195.9    58.3  \n",
       "La Habana        243.6    50.6   322.2    71.1  \n",
       "Mayabeque        188.3   106.6    88.0    58.3  \n",
       "Matanzas         103.8    46.5    13.9    13.8  "
      ]
     },
     "execution_count": 27,
     "metadata": {},
     "output_type": "execute_result"
    }
   ],
   "source": [
    "lluvias2013.head()"
   ]
  },
  {
   "cell_type": "markdown",
   "metadata": {},
   "source": [
    "Si indicamos un argumento numérico para el método `head` podemos controlar la cantidad de filas que se muestran, como en el ejemplo siguiente que muestra las 7 primeras filas, en lugar de las 5 predeterminadas:"
   ]
  },
  {
   "cell_type": "code",
   "execution_count": 107,
   "metadata": {
    "collapsed": false
   },
   "outputs": [
    {
     "data": {
      "text/html": [
       "<div>\n",
       "<table border=\"1\" class=\"dataframe\">\n",
       "  <thead>\n",
       "    <tr style=\"text-align: right;\">\n",
       "      <th></th>\n",
       "      <th>Ene</th>\n",
       "      <th>Feb</th>\n",
       "      <th>Mar</th>\n",
       "      <th>Abr</th>\n",
       "      <th>May</th>\n",
       "      <th>Jun</th>\n",
       "      <th>Jul</th>\n",
       "      <th>Ago</th>\n",
       "      <th>Sept</th>\n",
       "      <th>Oct</th>\n",
       "      <th>Nov</th>\n",
       "      <th>Dic</th>\n",
       "    </tr>\n",
       "  </thead>\n",
       "  <tbody>\n",
       "    <tr>\n",
       "      <th>Pinar del Río</th>\n",
       "      <td>14.1</td>\n",
       "      <td>37.8</td>\n",
       "      <td>73.7</td>\n",
       "      <td>71.4</td>\n",
       "      <td>116.0</td>\n",
       "      <td>677.0</td>\n",
       "      <td>181.6</td>\n",
       "      <td>168.2</td>\n",
       "      <td>173.6</td>\n",
       "      <td>122.4</td>\n",
       "      <td>87.5</td>\n",
       "      <td>56.2</td>\n",
       "    </tr>\n",
       "    <tr>\n",
       "      <th>Artemisa</th>\n",
       "      <td>31.0</td>\n",
       "      <td>38.2</td>\n",
       "      <td>88.5</td>\n",
       "      <td>70.7</td>\n",
       "      <td>131.1</td>\n",
       "      <td>520.6</td>\n",
       "      <td>209.8</td>\n",
       "      <td>119.6</td>\n",
       "      <td>169.9</td>\n",
       "      <td>135.1</td>\n",
       "      <td>195.9</td>\n",
       "      <td>58.3</td>\n",
       "    </tr>\n",
       "    <tr>\n",
       "      <th>La Habana</th>\n",
       "      <td>5.3</td>\n",
       "      <td>38.5</td>\n",
       "      <td>65.8</td>\n",
       "      <td>63.0</td>\n",
       "      <td>132.0</td>\n",
       "      <td>190.9</td>\n",
       "      <td>214.3</td>\n",
       "      <td>200.4</td>\n",
       "      <td>243.6</td>\n",
       "      <td>50.6</td>\n",
       "      <td>322.2</td>\n",
       "      <td>71.1</td>\n",
       "    </tr>\n",
       "    <tr>\n",
       "      <th>Mayabeque</th>\n",
       "      <td>6.0</td>\n",
       "      <td>22.5</td>\n",
       "      <td>40.2</td>\n",
       "      <td>99.8</td>\n",
       "      <td>127.5</td>\n",
       "      <td>246.4</td>\n",
       "      <td>224.4</td>\n",
       "      <td>182.8</td>\n",
       "      <td>188.3</td>\n",
       "      <td>106.6</td>\n",
       "      <td>88.0</td>\n",
       "      <td>58.3</td>\n",
       "    </tr>\n",
       "    <tr>\n",
       "      <th>Matanzas</th>\n",
       "      <td>3.1</td>\n",
       "      <td>10.7</td>\n",
       "      <td>23.9</td>\n",
       "      <td>74.1</td>\n",
       "      <td>134.4</td>\n",
       "      <td>104.7</td>\n",
       "      <td>150.3</td>\n",
       "      <td>100.9</td>\n",
       "      <td>103.8</td>\n",
       "      <td>46.5</td>\n",
       "      <td>13.9</td>\n",
       "      <td>13.8</td>\n",
       "    </tr>\n",
       "    <tr>\n",
       "      <th>Villa Clara</th>\n",
       "      <td>34.1</td>\n",
       "      <td>15.7</td>\n",
       "      <td>45.7</td>\n",
       "      <td>115.8</td>\n",
       "      <td>181.8</td>\n",
       "      <td>129.2</td>\n",
       "      <td>163.5</td>\n",
       "      <td>172.8</td>\n",
       "      <td>232.5</td>\n",
       "      <td>240.6</td>\n",
       "      <td>153.1</td>\n",
       "      <td>34.6</td>\n",
       "    </tr>\n",
       "    <tr>\n",
       "      <th>Cienfuegos</th>\n",
       "      <td>21.1</td>\n",
       "      <td>20.6</td>\n",
       "      <td>31.8</td>\n",
       "      <td>121.3</td>\n",
       "      <td>197.9</td>\n",
       "      <td>191.6</td>\n",
       "      <td>234.4</td>\n",
       "      <td>211.3</td>\n",
       "      <td>189.3</td>\n",
       "      <td>140.1</td>\n",
       "      <td>77.0</td>\n",
       "      <td>22.2</td>\n",
       "    </tr>\n",
       "  </tbody>\n",
       "</table>\n",
       "</div>"
      ],
      "text/plain": [
       "                Ene   Feb   Mar    Abr    May    Jun    Jul    Ago   Sept  \\\n",
       "Pinar del Río  14.1  37.8  73.7   71.4  116.0  677.0  181.6  168.2  173.6   \n",
       "Artemisa       31.0  38.2  88.5   70.7  131.1  520.6  209.8  119.6  169.9   \n",
       "La Habana       5.3  38.5  65.8   63.0  132.0  190.9  214.3  200.4  243.6   \n",
       "Mayabeque       6.0  22.5  40.2   99.8  127.5  246.4  224.4  182.8  188.3   \n",
       "Matanzas        3.1  10.7  23.9   74.1  134.4  104.7  150.3  100.9  103.8   \n",
       "Villa Clara    34.1  15.7  45.7  115.8  181.8  129.2  163.5  172.8  232.5   \n",
       "Cienfuegos     21.1  20.6  31.8  121.3  197.9  191.6  234.4  211.3  189.3   \n",
       "\n",
       "                 Oct    Nov   Dic  \n",
       "Pinar del Río  122.4   87.5  56.2  \n",
       "Artemisa       135.1  195.9  58.3  \n",
       "La Habana       50.6  322.2  71.1  \n",
       "Mayabeque      106.6   88.0  58.3  \n",
       "Matanzas        46.5   13.9  13.8  \n",
       "Villa Clara    240.6  153.1  34.6  \n",
       "Cienfuegos     140.1   77.0  22.2  "
      ]
     },
     "execution_count": 107,
     "metadata": {},
     "output_type": "execute_result"
    }
   ],
   "source": [
    "lluvias2013.head(7)"
   ]
  },
  {
   "cell_type": "code",
   "execution_count": 28,
   "metadata": {
    "collapsed": false
   },
   "outputs": [
    {
     "data": {
      "text/html": [
       "<div>\n",
       "<table border=\"1\" class=\"dataframe\">\n",
       "  <thead>\n",
       "    <tr style=\"text-align: right;\">\n",
       "      <th></th>\n",
       "      <th>Ene.</th>\n",
       "      <th>Feb.</th>\n",
       "      <th>Mar.</th>\n",
       "      <th>Abr.</th>\n",
       "      <th>May.</th>\n",
       "      <th>Jun.</th>\n",
       "      <th>Jul.</th>\n",
       "      <th>Ago.</th>\n",
       "      <th>Sept.</th>\n",
       "      <th>Oct.</th>\n",
       "      <th>Nov.</th>\n",
       "      <th>Dic.</th>\n",
       "    </tr>\n",
       "  </thead>\n",
       "  <tbody>\n",
       "    <tr>\n",
       "      <th>Holguín</th>\n",
       "      <td>85.3</td>\n",
       "      <td>49.2</td>\n",
       "      <td>44.3</td>\n",
       "      <td>101.2</td>\n",
       "      <td>160.8</td>\n",
       "      <td>144.9</td>\n",
       "      <td>82.5</td>\n",
       "      <td>90.7</td>\n",
       "      <td>153.3</td>\n",
       "      <td>136.9</td>\n",
       "      <td>130.9</td>\n",
       "      <td>27.4</td>\n",
       "    </tr>\n",
       "    <tr>\n",
       "      <th>Granma</th>\n",
       "      <td>17.3</td>\n",
       "      <td>16.5</td>\n",
       "      <td>15.7</td>\n",
       "      <td>103.6</td>\n",
       "      <td>182.4</td>\n",
       "      <td>165.4</td>\n",
       "      <td>131.0</td>\n",
       "      <td>159.2</td>\n",
       "      <td>189.9</td>\n",
       "      <td>141.0</td>\n",
       "      <td>88.5</td>\n",
       "      <td>20.8</td>\n",
       "    </tr>\n",
       "    <tr>\n",
       "      <th>Santiago de Cuba</th>\n",
       "      <td>27.5</td>\n",
       "      <td>12.6</td>\n",
       "      <td>22.8</td>\n",
       "      <td>119.9</td>\n",
       "      <td>157.1</td>\n",
       "      <td>150.1</td>\n",
       "      <td>126.3</td>\n",
       "      <td>125.7</td>\n",
       "      <td>164.1</td>\n",
       "      <td>125.0</td>\n",
       "      <td>64.8</td>\n",
       "      <td>21.9</td>\n",
       "    </tr>\n",
       "    <tr>\n",
       "      <th>Guantánamo</th>\n",
       "      <td>79.9</td>\n",
       "      <td>57.9</td>\n",
       "      <td>54.8</td>\n",
       "      <td>111.2</td>\n",
       "      <td>156.3</td>\n",
       "      <td>94.1</td>\n",
       "      <td>98.7</td>\n",
       "      <td>73.4</td>\n",
       "      <td>149.4</td>\n",
       "      <td>126.3</td>\n",
       "      <td>98.9</td>\n",
       "      <td>83.1</td>\n",
       "    </tr>\n",
       "    <tr>\n",
       "      <th>Isla de la Juventud</th>\n",
       "      <td>16.0</td>\n",
       "      <td>17.6</td>\n",
       "      <td>94.2</td>\n",
       "      <td>87.5</td>\n",
       "      <td>123.7</td>\n",
       "      <td>467.3</td>\n",
       "      <td>181.1</td>\n",
       "      <td>145.5</td>\n",
       "      <td>246.3</td>\n",
       "      <td>128.8</td>\n",
       "      <td>19.7</td>\n",
       "      <td>23.9</td>\n",
       "    </tr>\n",
       "  </tbody>\n",
       "</table>\n",
       "</div>"
      ],
      "text/plain": [
       "                     Ene.   Feb.     Mar.    Abr.     May.    Jun.    Jul.  \\\n",
       "Holguín              85.3   49.2     44.3   101.2    160.8   144.9    82.5   \n",
       "Granma               17.3   16.5     15.7   103.6    182.4   165.4   131.0   \n",
       "Santiago de Cuba     27.5   12.6     22.8   119.9    157.1   150.1   126.3   \n",
       "Guantánamo           79.9   57.9     54.8   111.2    156.3    94.1    98.7   \n",
       "Isla de la Juventud  16.0   17.6     94.2    87.5    123.7   467.3   181.1   \n",
       "\n",
       "                       Ago.    Sept.    Oct.    Nov.    Dic.  \n",
       "Holguín                90.7    153.3   136.9   130.9    27.4  \n",
       "Granma                159.2    189.9   141.0    88.5    20.8  \n",
       "Santiago de Cuba      125.7    164.1   125.0    64.8    21.9  \n",
       "Guantánamo             73.4    149.4   126.3    98.9    83.1  \n",
       "Isla de la Juventud   145.5    246.3   128.8    19.7    23.9  "
      ]
     },
     "execution_count": 28,
     "metadata": {},
     "output_type": "execute_result"
    }
   ],
   "source": [
    "lluvias2013.tail()"
   ]
  },
  {
   "cell_type": "markdown",
   "metadata": {},
   "source": [
    "Al igual que el método head, tails puede tomar como argumento el número de filas que deseamos ver."
   ]
  },
  {
   "cell_type": "code",
   "execution_count": 108,
   "metadata": {
    "collapsed": false
   },
   "outputs": [
    {
     "data": {
      "text/html": [
       "<div>\n",
       "<table border=\"1\" class=\"dataframe\">\n",
       "  <thead>\n",
       "    <tr style=\"text-align: right;\">\n",
       "      <th></th>\n",
       "      <th>Ene</th>\n",
       "      <th>Feb</th>\n",
       "      <th>Mar</th>\n",
       "      <th>Abr</th>\n",
       "      <th>May</th>\n",
       "      <th>Jun</th>\n",
       "      <th>Jul</th>\n",
       "      <th>Ago</th>\n",
       "      <th>Sept</th>\n",
       "      <th>Oct</th>\n",
       "      <th>Nov</th>\n",
       "      <th>Dic</th>\n",
       "    </tr>\n",
       "  </thead>\n",
       "  <tbody>\n",
       "    <tr>\n",
       "      <th>Guantánamo</th>\n",
       "      <td>79.9</td>\n",
       "      <td>57.9</td>\n",
       "      <td>54.8</td>\n",
       "      <td>111.2</td>\n",
       "      <td>156.3</td>\n",
       "      <td>94.1</td>\n",
       "      <td>98.7</td>\n",
       "      <td>73.4</td>\n",
       "      <td>149.4</td>\n",
       "      <td>126.3</td>\n",
       "      <td>98.9</td>\n",
       "      <td>83.1</td>\n",
       "    </tr>\n",
       "    <tr>\n",
       "      <th>Isla de la Juventud</th>\n",
       "      <td>16.0</td>\n",
       "      <td>17.6</td>\n",
       "      <td>94.2</td>\n",
       "      <td>87.5</td>\n",
       "      <td>123.7</td>\n",
       "      <td>467.3</td>\n",
       "      <td>181.1</td>\n",
       "      <td>145.5</td>\n",
       "      <td>246.3</td>\n",
       "      <td>128.8</td>\n",
       "      <td>19.7</td>\n",
       "      <td>23.9</td>\n",
       "    </tr>\n",
       "  </tbody>\n",
       "</table>\n",
       "</div>"
      ],
      "text/plain": [
       "                      Ene   Feb   Mar    Abr    May    Jun    Jul    Ago  \\\n",
       "Guantánamo           79.9  57.9  54.8  111.2  156.3   94.1   98.7   73.4   \n",
       "Isla de la Juventud  16.0  17.6  94.2   87.5  123.7  467.3  181.1  145.5   \n",
       "\n",
       "                      Sept    Oct   Nov   Dic  \n",
       "Guantánamo           149.4  126.3  98.9  83.1  \n",
       "Isla de la Juventud  246.3  128.8  19.7  23.9  "
      ]
     },
     "execution_count": 108,
     "metadata": {},
     "output_type": "execute_result"
    }
   ],
   "source": [
    "lluvias2013.tail(2)"
   ]
  },
  {
   "cell_type": "markdown",
   "metadata": {},
   "source": [
    "## Selecciones\n",
    "\n",
    "Por columnas"
   ]
  },
  {
   "cell_type": "code",
   "execution_count": 30,
   "metadata": {
    "collapsed": false
   },
   "outputs": [
    {
     "data": {
      "text/plain": [
       "Pinar del Río          14.1\n",
       "Artemisa               31.0\n",
       "La Habana               5.3\n",
       "Mayabeque               6.0\n",
       "Matanzas                3.1\n",
       "Villa Clara            34.1\n",
       "Cienfuegos             21.1\n",
       "Sancti Spíritus        21.9\n",
       "Ciego de Ávila         26.2\n",
       "Camagüey               33.8\n",
       "Las Tunas              72.8\n",
       "Holguín                85.3\n",
       "Granma                 17.3\n",
       "Santiago de Cuba       27.5\n",
       "Guantánamo             79.9\n",
       "Isla de la Juventud    16.0\n",
       "Name: Ene., dtype: float64"
      ]
     },
     "execution_count": 30,
     "metadata": {},
     "output_type": "execute_result"
    }
   ],
   "source": [
    "# Nombre del df seguido del nombre de la columna deseada entre corchetes y comillas:\n",
    "lluvias2013[\"Ene.\"]"
   ]
  },
  {
   "cell_type": "code",
   "execution_count": 7,
   "metadata": {
    "collapsed": false
   },
   "outputs": [
    {
     "data": {
      "text/html": [
       "<div>\n",
       "<table border=\"1\" class=\"dataframe\">\n",
       "  <thead>\n",
       "    <tr style=\"text-align: right;\">\n",
       "      <th></th>\n",
       "      <th>Ene.</th>\n",
       "      <th>Feb.</th>\n",
       "    </tr>\n",
       "  </thead>\n",
       "  <tbody>\n",
       "    <tr>\n",
       "      <th>Pinar del Río</th>\n",
       "      <td>14.1</td>\n",
       "      <td>37.8</td>\n",
       "    </tr>\n",
       "    <tr>\n",
       "      <th>Artemisa</th>\n",
       "      <td>31.0</td>\n",
       "      <td>38.2</td>\n",
       "    </tr>\n",
       "    <tr>\n",
       "      <th>La Habana</th>\n",
       "      <td>5.3</td>\n",
       "      <td>38.5</td>\n",
       "    </tr>\n",
       "    <tr>\n",
       "      <th>Mayabeque</th>\n",
       "      <td>6.0</td>\n",
       "      <td>22.5</td>\n",
       "    </tr>\n",
       "    <tr>\n",
       "      <th>Matanzas</th>\n",
       "      <td>3.1</td>\n",
       "      <td>10.7</td>\n",
       "    </tr>\n",
       "    <tr>\n",
       "      <th>Villa Clara</th>\n",
       "      <td>34.1</td>\n",
       "      <td>15.7</td>\n",
       "    </tr>\n",
       "    <tr>\n",
       "      <th>Cienfuegos</th>\n",
       "      <td>21.1</td>\n",
       "      <td>20.6</td>\n",
       "    </tr>\n",
       "    <tr>\n",
       "      <th>Sancti Spíritus</th>\n",
       "      <td>21.9</td>\n",
       "      <td>11.4</td>\n",
       "    </tr>\n",
       "    <tr>\n",
       "      <th>Ciego de Ávila</th>\n",
       "      <td>26.2</td>\n",
       "      <td>7.3</td>\n",
       "    </tr>\n",
       "    <tr>\n",
       "      <th>Camagüey</th>\n",
       "      <td>33.8</td>\n",
       "      <td>12.8</td>\n",
       "    </tr>\n",
       "    <tr>\n",
       "      <th>Las Tunas</th>\n",
       "      <td>72.8</td>\n",
       "      <td>6.3</td>\n",
       "    </tr>\n",
       "    <tr>\n",
       "      <th>Holguín</th>\n",
       "      <td>85.3</td>\n",
       "      <td>49.2</td>\n",
       "    </tr>\n",
       "    <tr>\n",
       "      <th>Granma</th>\n",
       "      <td>17.3</td>\n",
       "      <td>16.5</td>\n",
       "    </tr>\n",
       "    <tr>\n",
       "      <th>Santiago de Cuba</th>\n",
       "      <td>27.5</td>\n",
       "      <td>12.6</td>\n",
       "    </tr>\n",
       "    <tr>\n",
       "      <th>Guantánamo</th>\n",
       "      <td>79.9</td>\n",
       "      <td>57.9</td>\n",
       "    </tr>\n",
       "    <tr>\n",
       "      <th>Isla de la Juventud</th>\n",
       "      <td>16.0</td>\n",
       "      <td>17.6</td>\n",
       "    </tr>\n",
       "  </tbody>\n",
       "</table>\n",
       "</div>"
      ],
      "text/plain": [
       "                     Ene.   Feb.\n",
       "Pinar del Río        14.1   37.8\n",
       "Artemisa             31.0   38.2\n",
       "La Habana             5.3   38.5\n",
       "Mayabeque             6.0   22.5\n",
       "Matanzas              3.1   10.7\n",
       "Villa Clara          34.1   15.7\n",
       "Cienfuegos           21.1   20.6\n",
       "Sancti Spíritus      21.9   11.4\n",
       "Ciego de Ávila       26.2    7.3\n",
       "Camagüey             33.8   12.8\n",
       "Las Tunas            72.8    6.3\n",
       "Holguín              85.3   49.2\n",
       "Granma               17.3   16.5\n",
       "Santiago de Cuba     27.5   12.6\n",
       "Guantánamo           79.9   57.9\n",
       "Isla de la Juventud  16.0   17.6"
      ]
     },
     "execution_count": 7,
     "metadata": {},
     "output_type": "execute_result"
    }
   ],
   "source": [
    "lluvias2013[['Ene.', ' Feb.']]"
   ]
  },
  {
   "cell_type": "markdown",
   "metadata": {},
   "source": [
    "Para seleccionar un rango de columnas es necesario incluir `ix` al principio para indicar que se desean todas las filas de ese rango. De lo contrario dará un error:\n",
    "\n",
    "dataframe.ix[:,\"ColumnaInicial\":\"ColumnaFinal\"]"
   ]
  },
  {
   "cell_type": "code",
   "execution_count": 67,
   "metadata": {
    "collapsed": false
   },
   "outputs": [
    {
     "ename": "SyntaxError",
     "evalue": "invalid syntax (<ipython-input-67-fc147b8949fe>, line 1)",
     "output_type": "error",
     "traceback": [
      "\u001b[0;36m  File \u001b[0;32m\"<ipython-input-67-fc147b8949fe>\"\u001b[0;36m, line \u001b[0;32m1\u001b[0m\n\u001b[0;31m    lluvias2013[['Ene.': ' Mar.']]\u001b[0m\n\u001b[0m                       ^\u001b[0m\n\u001b[0;31mSyntaxError\u001b[0m\u001b[0;31m:\u001b[0m invalid syntax\n"
     ]
    }
   ],
   "source": [
    "lluvias2013[['Ene.': ' Mar.']]"
   ]
  },
  {
   "cell_type": "code",
   "execution_count": 68,
   "metadata": {
    "collapsed": false
   },
   "outputs": [
    {
     "data": {
      "text/html": [
       "<div>\n",
       "<table border=\"1\" class=\"dataframe\">\n",
       "  <thead>\n",
       "    <tr style=\"text-align: right;\">\n",
       "      <th></th>\n",
       "      <th>Ene.</th>\n",
       "      <th>Feb.</th>\n",
       "      <th>Mar.</th>\n",
       "    </tr>\n",
       "  </thead>\n",
       "  <tbody>\n",
       "    <tr>\n",
       "      <th>Pinar del Río</th>\n",
       "      <td>14.1</td>\n",
       "      <td>37.8</td>\n",
       "      <td>73.7</td>\n",
       "    </tr>\n",
       "    <tr>\n",
       "      <th>Artemisa</th>\n",
       "      <td>31.0</td>\n",
       "      <td>38.2</td>\n",
       "      <td>88.5</td>\n",
       "    </tr>\n",
       "    <tr>\n",
       "      <th>La Habana</th>\n",
       "      <td>5.3</td>\n",
       "      <td>38.5</td>\n",
       "      <td>65.8</td>\n",
       "    </tr>\n",
       "    <tr>\n",
       "      <th>Mayabeque</th>\n",
       "      <td>6.0</td>\n",
       "      <td>22.5</td>\n",
       "      <td>40.2</td>\n",
       "    </tr>\n",
       "    <tr>\n",
       "      <th>Matanzas</th>\n",
       "      <td>3.1</td>\n",
       "      <td>10.7</td>\n",
       "      <td>23.9</td>\n",
       "    </tr>\n",
       "  </tbody>\n",
       "</table>\n",
       "</div>"
      ],
      "text/plain": [
       "               Ene.   Feb.     Mar.\n",
       "Pinar del Río  14.1   37.8     73.7\n",
       "Artemisa       31.0   38.2     88.5\n",
       "La Habana       5.3   38.5     65.8\n",
       "Mayabeque       6.0   22.5     40.2\n",
       "Matanzas        3.1   10.7     23.9"
      ]
     },
     "execution_count": 68,
     "metadata": {},
     "output_type": "execute_result"
    }
   ],
   "source": [
    "lluvias2013.ix[:,'Ene.': '   Mar.'].head()"
   ]
  },
  {
   "cell_type": "markdown",
   "metadata": {},
   "source": [
    "Por filas\n",
    "\n",
    "Cada fila está identificada por un índice según su orden de aparición en el conjunto de datos que puede recuperarse indicando el número de índice deseado como argumento del método `.irow()`"
   ]
  },
  {
   "cell_type": "code",
   "execution_count": 8,
   "metadata": {
    "collapsed": false
   },
   "outputs": [
    {
     "data": {
      "text/plain": [
       "Ene.        14.1\n",
       " Feb.       37.8\n",
       "   Mar.     73.7\n",
       "  Abr.      71.4\n",
       "   May.    116.0\n",
       "  Jun.     677.0\n",
       "  Jul.     181.6\n",
       "  Ago.     168.2\n",
       "  Sept.    173.6\n",
       "  Oct.     122.4\n",
       "  Nov.      87.5\n",
       "  Dic.      56.2\n",
       "Name: Pinar del Río, dtype: float64"
      ]
     },
     "execution_count": 8,
     "metadata": {},
     "output_type": "execute_result"
    }
   ],
   "source": [
    "lluvias2013.irow(0)"
   ]
  },
  {
   "cell_type": "markdown",
   "metadata": {},
   "source": [
    "Filas y columnas específicas:"
   ]
  },
  {
   "cell_type": "code",
   "execution_count": 90,
   "metadata": {
    "collapsed": false
   },
   "outputs": [
    {
     "data": {
      "text/plain": [
       "5.2999999999999998"
      ]
     },
     "execution_count": 90,
     "metadata": {},
     "output_type": "execute_result"
    }
   ],
   "source": [
    "lluvias2013[\"Ene\"].irow(2)"
   ]
  },
  {
   "cell_type": "code",
   "execution_count": 17,
   "metadata": {
    "collapsed": false
   },
   "outputs": [
    {
     "data": {
      "text/html": [
       "<div>\n",
       "<table border=\"1\" class=\"dataframe\">\n",
       "  <thead>\n",
       "    <tr style=\"text-align: right;\">\n",
       "      <th></th>\n",
       "      <th>Ene.</th>\n",
       "      <th>Feb.</th>\n",
       "      <th>Mar.</th>\n",
       "      <th>Abr.</th>\n",
       "      <th>May.</th>\n",
       "      <th>Jun.</th>\n",
       "      <th>Jul.</th>\n",
       "      <th>Ago.</th>\n",
       "      <th>Sept.</th>\n",
       "      <th>Oct.</th>\n",
       "      <th>Nov.</th>\n",
       "      <th>Dic.</th>\n",
       "    </tr>\n",
       "  </thead>\n",
       "  <tbody>\n",
       "    <tr>\n",
       "      <th>Pinar del Río</th>\n",
       "      <td>14.1</td>\n",
       "      <td>37.8</td>\n",
       "      <td>73.7</td>\n",
       "      <td>71.4</td>\n",
       "      <td>116.0</td>\n",
       "      <td>677.0</td>\n",
       "      <td>181.6</td>\n",
       "      <td>168.2</td>\n",
       "      <td>173.6</td>\n",
       "      <td>122.4</td>\n",
       "      <td>87.5</td>\n",
       "      <td>56.2</td>\n",
       "    </tr>\n",
       "    <tr>\n",
       "      <th>Artemisa</th>\n",
       "      <td>31.0</td>\n",
       "      <td>38.2</td>\n",
       "      <td>88.5</td>\n",
       "      <td>70.7</td>\n",
       "      <td>131.1</td>\n",
       "      <td>520.6</td>\n",
       "      <td>209.8</td>\n",
       "      <td>119.6</td>\n",
       "      <td>169.9</td>\n",
       "      <td>135.1</td>\n",
       "      <td>195.9</td>\n",
       "      <td>58.3</td>\n",
       "    </tr>\n",
       "    <tr>\n",
       "      <th>La Habana</th>\n",
       "      <td>5.3</td>\n",
       "      <td>38.5</td>\n",
       "      <td>65.8</td>\n",
       "      <td>63.0</td>\n",
       "      <td>132.0</td>\n",
       "      <td>190.9</td>\n",
       "      <td>214.3</td>\n",
       "      <td>200.4</td>\n",
       "      <td>243.6</td>\n",
       "      <td>50.6</td>\n",
       "      <td>322.2</td>\n",
       "      <td>71.1</td>\n",
       "    </tr>\n",
       "    <tr>\n",
       "      <th>Mayabeque</th>\n",
       "      <td>6.0</td>\n",
       "      <td>22.5</td>\n",
       "      <td>40.2</td>\n",
       "      <td>99.8</td>\n",
       "      <td>127.5</td>\n",
       "      <td>246.4</td>\n",
       "      <td>224.4</td>\n",
       "      <td>182.8</td>\n",
       "      <td>188.3</td>\n",
       "      <td>106.6</td>\n",
       "      <td>88.0</td>\n",
       "      <td>58.3</td>\n",
       "    </tr>\n",
       "    <tr>\n",
       "      <th>Matanzas</th>\n",
       "      <td>3.1</td>\n",
       "      <td>10.7</td>\n",
       "      <td>23.9</td>\n",
       "      <td>74.1</td>\n",
       "      <td>134.4</td>\n",
       "      <td>104.7</td>\n",
       "      <td>150.3</td>\n",
       "      <td>100.9</td>\n",
       "      <td>103.8</td>\n",
       "      <td>46.5</td>\n",
       "      <td>13.9</td>\n",
       "      <td>13.8</td>\n",
       "    </tr>\n",
       "    <tr>\n",
       "      <th>Villa Clara</th>\n",
       "      <td>34.1</td>\n",
       "      <td>15.7</td>\n",
       "      <td>45.7</td>\n",
       "      <td>115.8</td>\n",
       "      <td>181.8</td>\n",
       "      <td>129.2</td>\n",
       "      <td>163.5</td>\n",
       "      <td>172.8</td>\n",
       "      <td>232.5</td>\n",
       "      <td>240.6</td>\n",
       "      <td>153.1</td>\n",
       "      <td>34.6</td>\n",
       "    </tr>\n",
       "    <tr>\n",
       "      <th>Cienfuegos</th>\n",
       "      <td>21.1</td>\n",
       "      <td>20.6</td>\n",
       "      <td>31.8</td>\n",
       "      <td>121.3</td>\n",
       "      <td>197.9</td>\n",
       "      <td>191.6</td>\n",
       "      <td>234.4</td>\n",
       "      <td>211.3</td>\n",
       "      <td>189.3</td>\n",
       "      <td>140.1</td>\n",
       "      <td>77.0</td>\n",
       "      <td>22.2</td>\n",
       "    </tr>\n",
       "    <tr>\n",
       "      <th>Sancti Spíritus</th>\n",
       "      <td>21.9</td>\n",
       "      <td>11.4</td>\n",
       "      <td>19.3</td>\n",
       "      <td>98.9</td>\n",
       "      <td>174.9</td>\n",
       "      <td>205.9</td>\n",
       "      <td>217.3</td>\n",
       "      <td>169.9</td>\n",
       "      <td>160.8</td>\n",
       "      <td>196.7</td>\n",
       "      <td>81.8</td>\n",
       "      <td>29.1</td>\n",
       "    </tr>\n",
       "    <tr>\n",
       "      <th>Ciego de Ávila</th>\n",
       "      <td>26.2</td>\n",
       "      <td>7.3</td>\n",
       "      <td>18.7</td>\n",
       "      <td>59.7</td>\n",
       "      <td>242.0</td>\n",
       "      <td>130.5</td>\n",
       "      <td>207.1</td>\n",
       "      <td>122.8</td>\n",
       "      <td>183.4</td>\n",
       "      <td>145.1</td>\n",
       "      <td>90.0</td>\n",
       "      <td>26.0</td>\n",
       "    </tr>\n",
       "    <tr>\n",
       "      <th>Camagüey</th>\n",
       "      <td>33.8</td>\n",
       "      <td>12.8</td>\n",
       "      <td>22.5</td>\n",
       "      <td>104.1</td>\n",
       "      <td>270.7</td>\n",
       "      <td>141.6</td>\n",
       "      <td>159.1</td>\n",
       "      <td>130.8</td>\n",
       "      <td>190.1</td>\n",
       "      <td>106.1</td>\n",
       "      <td>74.2</td>\n",
       "      <td>24.3</td>\n",
       "    </tr>\n",
       "    <tr>\n",
       "      <th>Las Tunas</th>\n",
       "      <td>72.8</td>\n",
       "      <td>6.3</td>\n",
       "      <td>20.5</td>\n",
       "      <td>54.5</td>\n",
       "      <td>162.3</td>\n",
       "      <td>147.8</td>\n",
       "      <td>103.4</td>\n",
       "      <td>142.2</td>\n",
       "      <td>145.3</td>\n",
       "      <td>101.5</td>\n",
       "      <td>67.4</td>\n",
       "      <td>9.4</td>\n",
       "    </tr>\n",
       "    <tr>\n",
       "      <th>Holguín</th>\n",
       "      <td>85.3</td>\n",
       "      <td>49.2</td>\n",
       "      <td>44.3</td>\n",
       "      <td>101.2</td>\n",
       "      <td>160.8</td>\n",
       "      <td>144.9</td>\n",
       "      <td>82.5</td>\n",
       "      <td>90.7</td>\n",
       "      <td>153.3</td>\n",
       "      <td>136.9</td>\n",
       "      <td>130.9</td>\n",
       "      <td>27.4</td>\n",
       "    </tr>\n",
       "    <tr>\n",
       "      <th>Granma</th>\n",
       "      <td>17.3</td>\n",
       "      <td>16.5</td>\n",
       "      <td>15.7</td>\n",
       "      <td>103.6</td>\n",
       "      <td>182.4</td>\n",
       "      <td>165.4</td>\n",
       "      <td>131.0</td>\n",
       "      <td>159.2</td>\n",
       "      <td>189.9</td>\n",
       "      <td>141.0</td>\n",
       "      <td>88.5</td>\n",
       "      <td>20.8</td>\n",
       "    </tr>\n",
       "    <tr>\n",
       "      <th>Santiago de Cuba</th>\n",
       "      <td>27.5</td>\n",
       "      <td>12.6</td>\n",
       "      <td>22.8</td>\n",
       "      <td>119.9</td>\n",
       "      <td>157.1</td>\n",
       "      <td>150.1</td>\n",
       "      <td>126.3</td>\n",
       "      <td>125.7</td>\n",
       "      <td>164.1</td>\n",
       "      <td>125.0</td>\n",
       "      <td>64.8</td>\n",
       "      <td>21.9</td>\n",
       "    </tr>\n",
       "    <tr>\n",
       "      <th>Guantánamo</th>\n",
       "      <td>79.9</td>\n",
       "      <td>57.9</td>\n",
       "      <td>54.8</td>\n",
       "      <td>111.2</td>\n",
       "      <td>156.3</td>\n",
       "      <td>94.1</td>\n",
       "      <td>98.7</td>\n",
       "      <td>73.4</td>\n",
       "      <td>149.4</td>\n",
       "      <td>126.3</td>\n",
       "      <td>98.9</td>\n",
       "      <td>83.1</td>\n",
       "    </tr>\n",
       "    <tr>\n",
       "      <th>Isla de la Juventud</th>\n",
       "      <td>16.0</td>\n",
       "      <td>17.6</td>\n",
       "      <td>94.2</td>\n",
       "      <td>87.5</td>\n",
       "      <td>123.7</td>\n",
       "      <td>467.3</td>\n",
       "      <td>181.1</td>\n",
       "      <td>145.5</td>\n",
       "      <td>246.3</td>\n",
       "      <td>128.8</td>\n",
       "      <td>19.7</td>\n",
       "      <td>23.9</td>\n",
       "    </tr>\n",
       "  </tbody>\n",
       "</table>\n",
       "</div>"
      ],
      "text/plain": [
       "                     Ene.   Feb.     Mar.    Abr.     May.    Jun.    Jul.  \\\n",
       "Pinar del Río        14.1   37.8     73.7    71.4    116.0   677.0   181.6   \n",
       "Artemisa             31.0   38.2     88.5    70.7    131.1   520.6   209.8   \n",
       "La Habana             5.3   38.5     65.8    63.0    132.0   190.9   214.3   \n",
       "Mayabeque             6.0   22.5     40.2    99.8    127.5   246.4   224.4   \n",
       "Matanzas              3.1   10.7     23.9    74.1    134.4   104.7   150.3   \n",
       "Villa Clara          34.1   15.7     45.7   115.8    181.8   129.2   163.5   \n",
       "Cienfuegos           21.1   20.6     31.8   121.3    197.9   191.6   234.4   \n",
       "Sancti Spíritus      21.9   11.4     19.3    98.9    174.9   205.9   217.3   \n",
       "Ciego de Ávila       26.2    7.3     18.7    59.7    242.0   130.5   207.1   \n",
       "Camagüey             33.8   12.8     22.5   104.1    270.7   141.6   159.1   \n",
       "Las Tunas            72.8    6.3     20.5    54.5    162.3   147.8   103.4   \n",
       "Holguín              85.3   49.2     44.3   101.2    160.8   144.9    82.5   \n",
       "Granma               17.3   16.5     15.7   103.6    182.4   165.4   131.0   \n",
       "Santiago de Cuba     27.5   12.6     22.8   119.9    157.1   150.1   126.3   \n",
       "Guantánamo           79.9   57.9     54.8   111.2    156.3    94.1    98.7   \n",
       "Isla de la Juventud  16.0   17.6     94.2    87.5    123.7   467.3   181.1   \n",
       "\n",
       "                       Ago.    Sept.    Oct.    Nov.    Dic.  \n",
       "Pinar del Río         168.2    173.6   122.4    87.5    56.2  \n",
       "Artemisa              119.6    169.9   135.1   195.9    58.3  \n",
       "La Habana             200.4    243.6    50.6   322.2    71.1  \n",
       "Mayabeque             182.8    188.3   106.6    88.0    58.3  \n",
       "Matanzas              100.9    103.8    46.5    13.9    13.8  \n",
       "Villa Clara           172.8    232.5   240.6   153.1    34.6  \n",
       "Cienfuegos            211.3    189.3   140.1    77.0    22.2  \n",
       "Sancti Spíritus       169.9    160.8   196.7    81.8    29.1  \n",
       "Ciego de Ávila        122.8    183.4   145.1    90.0    26.0  \n",
       "Camagüey              130.8    190.1   106.1    74.2    24.3  \n",
       "Las Tunas             142.2    145.3   101.5    67.4     9.4  \n",
       "Holguín                90.7    153.3   136.9   130.9    27.4  \n",
       "Granma                159.2    189.9   141.0    88.5    20.8  \n",
       "Santiago de Cuba      125.7    164.1   125.0    64.8    21.9  \n",
       "Guantánamo             73.4    149.4   126.3    98.9    83.1  \n",
       "Isla de la Juventud   145.5    246.3   128.8    19.7    23.9  "
      ]
     },
     "execution_count": 17,
     "metadata": {},
     "output_type": "execute_result"
    }
   ],
   "source": [
    "lluvias2013"
   ]
  },
  {
   "cell_type": "code",
   "execution_count": 134,
   "metadata": {
    "collapsed": false
   },
   "outputs": [
    {
     "data": {
      "text/html": [
       "<div>\n",
       "<table border=\"1\" class=\"dataframe\">\n",
       "  <thead>\n",
       "    <tr style=\"text-align: right;\">\n",
       "      <th></th>\n",
       "      <th>Ene</th>\n",
       "      <th>Feb</th>\n",
       "      <th>Mar</th>\n",
       "      <th>Abr</th>\n",
       "      <th>May</th>\n",
       "      <th>Jun</th>\n",
       "      <th>Jul</th>\n",
       "      <th>Ago</th>\n",
       "      <th>Sept</th>\n",
       "      <th>Oct</th>\n",
       "      <th>Nov</th>\n",
       "      <th>Dic</th>\n",
       "    </tr>\n",
       "  </thead>\n",
       "  <tbody>\n",
       "    <tr>\n",
       "      <th>La Habana</th>\n",
       "      <td>5.3</td>\n",
       "      <td>38.5</td>\n",
       "      <td>65.8</td>\n",
       "      <td>63.0</td>\n",
       "      <td>132.0</td>\n",
       "      <td>190.9</td>\n",
       "      <td>214.3</td>\n",
       "      <td>200.4</td>\n",
       "      <td>243.6</td>\n",
       "      <td>50.6</td>\n",
       "      <td>322.2</td>\n",
       "      <td>71.1</td>\n",
       "    </tr>\n",
       "    <tr>\n",
       "      <th>Mayabeque</th>\n",
       "      <td>6.0</td>\n",
       "      <td>22.5</td>\n",
       "      <td>40.2</td>\n",
       "      <td>99.8</td>\n",
       "      <td>127.5</td>\n",
       "      <td>246.4</td>\n",
       "      <td>224.4</td>\n",
       "      <td>182.8</td>\n",
       "      <td>188.3</td>\n",
       "      <td>106.6</td>\n",
       "      <td>88.0</td>\n",
       "      <td>58.3</td>\n",
       "    </tr>\n",
       "    <tr>\n",
       "      <th>Matanzas</th>\n",
       "      <td>3.1</td>\n",
       "      <td>10.7</td>\n",
       "      <td>23.9</td>\n",
       "      <td>74.1</td>\n",
       "      <td>134.4</td>\n",
       "      <td>104.7</td>\n",
       "      <td>150.3</td>\n",
       "      <td>100.9</td>\n",
       "      <td>103.8</td>\n",
       "      <td>46.5</td>\n",
       "      <td>13.9</td>\n",
       "      <td>13.8</td>\n",
       "    </tr>\n",
       "    <tr>\n",
       "      <th>Villa Clara</th>\n",
       "      <td>34.1</td>\n",
       "      <td>15.7</td>\n",
       "      <td>45.7</td>\n",
       "      <td>115.8</td>\n",
       "      <td>181.8</td>\n",
       "      <td>129.2</td>\n",
       "      <td>163.5</td>\n",
       "      <td>172.8</td>\n",
       "      <td>232.5</td>\n",
       "      <td>240.6</td>\n",
       "      <td>153.1</td>\n",
       "      <td>34.6</td>\n",
       "    </tr>\n",
       "  </tbody>\n",
       "</table>\n",
       "</div>"
      ],
      "text/plain": [
       "              Ene   Feb   Mar    Abr    May    Jun    Jul    Ago   Sept  \\\n",
       "La Habana     5.3  38.5  65.8   63.0  132.0  190.9  214.3  200.4  243.6   \n",
       "Mayabeque     6.0  22.5  40.2   99.8  127.5  246.4  224.4  182.8  188.3   \n",
       "Matanzas      3.1  10.7  23.9   74.1  134.4  104.7  150.3  100.9  103.8   \n",
       "Villa Clara  34.1  15.7  45.7  115.8  181.8  129.2  163.5  172.8  232.5   \n",
       "\n",
       "               Oct    Nov   Dic  \n",
       "La Habana     50.6  322.2  71.1  \n",
       "Mayabeque    106.6   88.0  58.3  \n",
       "Matanzas      46.5   13.9  13.8  \n",
       "Villa Clara  240.6  153.1  34.6  "
      ]
     },
     "execution_count": 134,
     "metadata": {},
     "output_type": "execute_result"
    }
   ],
   "source": [
    "lluvias2013[2:6]"
   ]
  },
  {
   "cell_type": "code",
   "execution_count": 19,
   "metadata": {
    "collapsed": false
   },
   "outputs": [
    {
     "data": {
      "text/html": [
       "<div>\n",
       "<table border=\"1\" class=\"dataframe\">\n",
       "  <thead>\n",
       "    <tr style=\"text-align: right;\">\n",
       "      <th></th>\n",
       "      <th>Ene.</th>\n",
       "      <th>Feb.</th>\n",
       "    </tr>\n",
       "  </thead>\n",
       "  <tbody>\n",
       "    <tr>\n",
       "      <th>La Habana</th>\n",
       "      <td>5.3</td>\n",
       "      <td>38.5</td>\n",
       "    </tr>\n",
       "    <tr>\n",
       "      <th>Mayabeque</th>\n",
       "      <td>6.0</td>\n",
       "      <td>22.5</td>\n",
       "    </tr>\n",
       "    <tr>\n",
       "      <th>Matanzas</th>\n",
       "      <td>3.1</td>\n",
       "      <td>10.7</td>\n",
       "    </tr>\n",
       "    <tr>\n",
       "      <th>Villa Clara</th>\n",
       "      <td>34.1</td>\n",
       "      <td>15.7</td>\n",
       "    </tr>\n",
       "  </tbody>\n",
       "</table>\n",
       "</div>"
      ],
      "text/plain": [
       "             Ene.   Feb.\n",
       "La Habana     5.3   38.5\n",
       "Mayabeque     6.0   22.5\n",
       "Matanzas      3.1   10.7\n",
       "Villa Clara  34.1   15.7"
      ]
     },
     "execution_count": 19,
     "metadata": {},
     "output_type": "execute_result"
    }
   ],
   "source": [
    "# por fila y columna\n",
    "lluvias2013.ix[2:6, [\"Ene.\", \" Feb.\"]]"
   ]
  },
  {
   "cell_type": "code",
   "execution_count": null,
   "metadata": {
    "collapsed": true
   },
   "outputs": [],
   "source": [
    "lluvias2013.ix[1,2,3'Ene.': '   Mar.'].head()"
   ]
  },
  {
   "cell_type": "markdown",
   "metadata": {},
   "source": [
    "## Modificaciones"
   ]
  },
  {
   "cell_type": "code",
   "execution_count": 32,
   "metadata": {
    "collapsed": false
   },
   "outputs": [
    {
     "data": {
      "text/html": [
       "<div>\n",
       "<table border=\"1\" class=\"dataframe\">\n",
       "  <thead>\n",
       "    <tr style=\"text-align: right;\">\n",
       "      <th></th>\n",
       "      <th>Ene</th>\n",
       "      <th>Feb.</th>\n",
       "      <th>Mar.</th>\n",
       "      <th>Abr.</th>\n",
       "      <th>May.</th>\n",
       "      <th>Jun.</th>\n",
       "      <th>Jul.</th>\n",
       "      <th>Ago.</th>\n",
       "      <th>Sept.</th>\n",
       "      <th>Oct.</th>\n",
       "      <th>Nov.</th>\n",
       "      <th>Dic.</th>\n",
       "    </tr>\n",
       "  </thead>\n",
       "  <tbody>\n",
       "    <tr>\n",
       "      <th>Pinar del Río</th>\n",
       "      <td>14.1</td>\n",
       "      <td>37.8</td>\n",
       "      <td>73.7</td>\n",
       "      <td>71.4</td>\n",
       "      <td>116.0</td>\n",
       "      <td>677.0</td>\n",
       "      <td>181.6</td>\n",
       "      <td>168.2</td>\n",
       "      <td>173.6</td>\n",
       "      <td>122.4</td>\n",
       "      <td>87.5</td>\n",
       "      <td>56.2</td>\n",
       "    </tr>\n",
       "    <tr>\n",
       "      <th>Artemisa</th>\n",
       "      <td>31.0</td>\n",
       "      <td>38.2</td>\n",
       "      <td>88.5</td>\n",
       "      <td>70.7</td>\n",
       "      <td>131.1</td>\n",
       "      <td>520.6</td>\n",
       "      <td>209.8</td>\n",
       "      <td>119.6</td>\n",
       "      <td>169.9</td>\n",
       "      <td>135.1</td>\n",
       "      <td>195.9</td>\n",
       "      <td>58.3</td>\n",
       "    </tr>\n",
       "    <tr>\n",
       "      <th>La Habana</th>\n",
       "      <td>5.3</td>\n",
       "      <td>38.5</td>\n",
       "      <td>65.8</td>\n",
       "      <td>63.0</td>\n",
       "      <td>132.0</td>\n",
       "      <td>190.9</td>\n",
       "      <td>214.3</td>\n",
       "      <td>200.4</td>\n",
       "      <td>243.6</td>\n",
       "      <td>50.6</td>\n",
       "      <td>322.2</td>\n",
       "      <td>71.1</td>\n",
       "    </tr>\n",
       "    <tr>\n",
       "      <th>Mayabeque</th>\n",
       "      <td>6.0</td>\n",
       "      <td>22.5</td>\n",
       "      <td>40.2</td>\n",
       "      <td>99.8</td>\n",
       "      <td>127.5</td>\n",
       "      <td>246.4</td>\n",
       "      <td>224.4</td>\n",
       "      <td>182.8</td>\n",
       "      <td>188.3</td>\n",
       "      <td>106.6</td>\n",
       "      <td>88.0</td>\n",
       "      <td>58.3</td>\n",
       "    </tr>\n",
       "    <tr>\n",
       "      <th>Matanzas</th>\n",
       "      <td>3.1</td>\n",
       "      <td>10.7</td>\n",
       "      <td>23.9</td>\n",
       "      <td>74.1</td>\n",
       "      <td>134.4</td>\n",
       "      <td>104.7</td>\n",
       "      <td>150.3</td>\n",
       "      <td>100.9</td>\n",
       "      <td>103.8</td>\n",
       "      <td>46.5</td>\n",
       "      <td>13.9</td>\n",
       "      <td>13.8</td>\n",
       "    </tr>\n",
       "  </tbody>\n",
       "</table>\n",
       "</div>"
      ],
      "text/plain": [
       "                Ene   Feb.     Mar.    Abr.     May.    Jun.    Jul.    Ago.  \\\n",
       "Pinar del Río  14.1   37.8     73.7    71.4    116.0   677.0   181.6   168.2   \n",
       "Artemisa       31.0   38.2     88.5    70.7    131.1   520.6   209.8   119.6   \n",
       "La Habana       5.3   38.5     65.8    63.0    132.0   190.9   214.3   200.4   \n",
       "Mayabeque       6.0   22.5     40.2    99.8    127.5   246.4   224.4   182.8   \n",
       "Matanzas        3.1   10.7     23.9    74.1    134.4   104.7   150.3   100.9   \n",
       "\n",
       "                 Sept.    Oct.    Nov.    Dic.  \n",
       "Pinar del Río    173.6   122.4    87.5    56.2  \n",
       "Artemisa         169.9   135.1   195.9    58.3  \n",
       "La Habana        243.6    50.6   322.2    71.1  \n",
       "Mayabeque        188.3   106.6    88.0    58.3  \n",
       "Matanzas         103.8    46.5    13.9    13.8  "
      ]
     },
     "execution_count": 32,
     "metadata": {},
     "output_type": "execute_result"
    }
   ],
   "source": [
    "# cambiar nombres de columnas\n",
    "lluvias2013.rename(columns= {\"Ene.\":\"Ene\"}, inplace=False).head()\n",
    "# lluvias2013.rename(columns= {\"Ene.\":\"Ene\", \"Feb.\":\"Feb\"}, inplace=False)"
   ]
  },
  {
   "cell_type": "code",
   "execution_count": 69,
   "metadata": {
    "collapsed": false
   },
   "outputs": [
    {
     "data": {
      "text/plain": [
       "Index(['Ene.', ' Feb.', '   Mar.', '  Abr.', '   May.', '  Jun.', '  Jul.',\n",
       "       '  Ago.', '  Sept.', '  Oct.', '  Nov.', '  Dic.'],\n",
       "      dtype='object')"
      ]
     },
     "execution_count": 69,
     "metadata": {},
     "output_type": "execute_result"
    }
   ],
   "source": [
    "# cambiar varios nombres de columnas a la vez\n",
    "\n",
    "# manualmente\n",
    "lluvias2013.columns"
   ]
  },
  {
   "cell_type": "code",
   "execution_count": 70,
   "metadata": {
    "collapsed": true
   },
   "outputs": [],
   "source": [
    "nombresNuevos = ['Ene', 'Feb', 'Mar', 'Abr', 'May', 'Jun', 'Jul', 'Ago', 'Sept', 'Oct', 'Nov', 'Dic']"
   ]
  },
  {
   "cell_type": "code",
   "execution_count": 71,
   "metadata": {
    "collapsed": false
   },
   "outputs": [
    {
     "data": {
      "text/html": [
       "<div>\n",
       "<table border=\"1\" class=\"dataframe\">\n",
       "  <thead>\n",
       "    <tr style=\"text-align: right;\">\n",
       "      <th></th>\n",
       "      <th>Ene</th>\n",
       "      <th>Feb</th>\n",
       "      <th>Mar</th>\n",
       "      <th>Abr</th>\n",
       "      <th>May</th>\n",
       "      <th>Jun</th>\n",
       "      <th>Jul</th>\n",
       "      <th>Ago</th>\n",
       "      <th>Sept</th>\n",
       "      <th>Oct</th>\n",
       "      <th>Nov</th>\n",
       "      <th>Dic</th>\n",
       "    </tr>\n",
       "  </thead>\n",
       "  <tbody>\n",
       "    <tr>\n",
       "      <th>Pinar del Río</th>\n",
       "      <td>14.1</td>\n",
       "      <td>37.8</td>\n",
       "      <td>73.7</td>\n",
       "      <td>71.4</td>\n",
       "      <td>116.0</td>\n",
       "      <td>677.0</td>\n",
       "      <td>181.6</td>\n",
       "      <td>168.2</td>\n",
       "      <td>173.6</td>\n",
       "      <td>122.4</td>\n",
       "      <td>87.5</td>\n",
       "      <td>56.2</td>\n",
       "    </tr>\n",
       "    <tr>\n",
       "      <th>Artemisa</th>\n",
       "      <td>31.0</td>\n",
       "      <td>38.2</td>\n",
       "      <td>88.5</td>\n",
       "      <td>70.7</td>\n",
       "      <td>131.1</td>\n",
       "      <td>520.6</td>\n",
       "      <td>209.8</td>\n",
       "      <td>119.6</td>\n",
       "      <td>169.9</td>\n",
       "      <td>135.1</td>\n",
       "      <td>195.9</td>\n",
       "      <td>58.3</td>\n",
       "    </tr>\n",
       "    <tr>\n",
       "      <th>La Habana</th>\n",
       "      <td>5.3</td>\n",
       "      <td>38.5</td>\n",
       "      <td>65.8</td>\n",
       "      <td>63.0</td>\n",
       "      <td>132.0</td>\n",
       "      <td>190.9</td>\n",
       "      <td>214.3</td>\n",
       "      <td>200.4</td>\n",
       "      <td>243.6</td>\n",
       "      <td>50.6</td>\n",
       "      <td>322.2</td>\n",
       "      <td>71.1</td>\n",
       "    </tr>\n",
       "    <tr>\n",
       "      <th>Mayabeque</th>\n",
       "      <td>6.0</td>\n",
       "      <td>22.5</td>\n",
       "      <td>40.2</td>\n",
       "      <td>99.8</td>\n",
       "      <td>127.5</td>\n",
       "      <td>246.4</td>\n",
       "      <td>224.4</td>\n",
       "      <td>182.8</td>\n",
       "      <td>188.3</td>\n",
       "      <td>106.6</td>\n",
       "      <td>88.0</td>\n",
       "      <td>58.3</td>\n",
       "    </tr>\n",
       "    <tr>\n",
       "      <th>Matanzas</th>\n",
       "      <td>3.1</td>\n",
       "      <td>10.7</td>\n",
       "      <td>23.9</td>\n",
       "      <td>74.1</td>\n",
       "      <td>134.4</td>\n",
       "      <td>104.7</td>\n",
       "      <td>150.3</td>\n",
       "      <td>100.9</td>\n",
       "      <td>103.8</td>\n",
       "      <td>46.5</td>\n",
       "      <td>13.9</td>\n",
       "      <td>13.8</td>\n",
       "    </tr>\n",
       "  </tbody>\n",
       "</table>\n",
       "</div>"
      ],
      "text/plain": [
       "                Ene   Feb   Mar   Abr    May    Jun    Jul    Ago   Sept  \\\n",
       "Pinar del Río  14.1  37.8  73.7  71.4  116.0  677.0  181.6  168.2  173.6   \n",
       "Artemisa       31.0  38.2  88.5  70.7  131.1  520.6  209.8  119.6  169.9   \n",
       "La Habana       5.3  38.5  65.8  63.0  132.0  190.9  214.3  200.4  243.6   \n",
       "Mayabeque       6.0  22.5  40.2  99.8  127.5  246.4  224.4  182.8  188.3   \n",
       "Matanzas        3.1  10.7  23.9  74.1  134.4  104.7  150.3  100.9  103.8   \n",
       "\n",
       "                 Oct    Nov   Dic  \n",
       "Pinar del Río  122.4   87.5  56.2  \n",
       "Artemisa       135.1  195.9  58.3  \n",
       "La Habana       50.6  322.2  71.1  \n",
       "Mayabeque      106.6   88.0  58.3  \n",
       "Matanzas        46.5   13.9  13.8  "
      ]
     },
     "execution_count": 71,
     "metadata": {},
     "output_type": "execute_result"
    }
   ],
   "source": [
    "lluvias2013.columns = nombresNuevos\n",
    "lluvias2013.head()"
   ]
  },
  {
   "cell_type": "code",
   "execution_count": null,
   "metadata": {
    "collapsed": false
   },
   "outputs": [],
   "source": [
    "# usando método str para reemplazar caracteres indeseados\n",
    "lluvias2013.columns"
   ]
  },
  {
   "cell_type": "code",
   "execution_count": null,
   "metadata": {
    "collapsed": false
   },
   "outputs": [],
   "source": [
    "lluvias2013.columns = lluvias2013.columns.str.replace(\".\", \"\")\n",
    "lluvias2013.columns"
   ]
  },
  {
   "cell_type": "code",
   "execution_count": null,
   "metadata": {
    "collapsed": false
   },
   "outputs": [],
   "source": [
    "lluvias2013.columns = lluvias2013.columns.str.replace(\" \", \"\")\n",
    "lluvias2013.columns"
   ]
  },
  {
   "cell_type": "markdown",
   "metadata": {},
   "source": [
    "### Ordenar y filtrar"
   ]
  },
  {
   "cell_type": "code",
   "execution_count": 105,
   "metadata": {
    "collapsed": false
   },
   "outputs": [
    {
     "data": {
      "text/html": [
       "<div>\n",
       "<table border=\"1\" class=\"dataframe\">\n",
       "  <thead>\n",
       "    <tr style=\"text-align: right;\">\n",
       "      <th></th>\n",
       "      <th>Ene</th>\n",
       "      <th>Feb</th>\n",
       "      <th>Mar</th>\n",
       "      <th>Abr</th>\n",
       "      <th>May</th>\n",
       "      <th>Jun</th>\n",
       "      <th>Jul</th>\n",
       "      <th>Ago</th>\n",
       "      <th>Sept</th>\n",
       "      <th>Oct</th>\n",
       "      <th>Nov</th>\n",
       "      <th>Dic</th>\n",
       "    </tr>\n",
       "  </thead>\n",
       "  <tbody>\n",
       "    <tr>\n",
       "      <th>Pinar del Río</th>\n",
       "      <td>14.1</td>\n",
       "      <td>37.8</td>\n",
       "      <td>73.7</td>\n",
       "      <td>71.4</td>\n",
       "      <td>116.0</td>\n",
       "      <td>677.0</td>\n",
       "      <td>181.6</td>\n",
       "      <td>168.2</td>\n",
       "      <td>173.6</td>\n",
       "      <td>122.4</td>\n",
       "      <td>87.5</td>\n",
       "      <td>56.2</td>\n",
       "    </tr>\n",
       "    <tr>\n",
       "      <th>Artemisa</th>\n",
       "      <td>31.0</td>\n",
       "      <td>38.2</td>\n",
       "      <td>88.5</td>\n",
       "      <td>70.7</td>\n",
       "      <td>131.1</td>\n",
       "      <td>520.6</td>\n",
       "      <td>209.8</td>\n",
       "      <td>119.6</td>\n",
       "      <td>169.9</td>\n",
       "      <td>135.1</td>\n",
       "      <td>195.9</td>\n",
       "      <td>58.3</td>\n",
       "    </tr>\n",
       "    <tr>\n",
       "      <th>La Habana</th>\n",
       "      <td>5.3</td>\n",
       "      <td>38.5</td>\n",
       "      <td>65.8</td>\n",
       "      <td>63.0</td>\n",
       "      <td>132.0</td>\n",
       "      <td>190.9</td>\n",
       "      <td>214.3</td>\n",
       "      <td>200.4</td>\n",
       "      <td>243.6</td>\n",
       "      <td>50.6</td>\n",
       "      <td>322.2</td>\n",
       "      <td>71.1</td>\n",
       "    </tr>\n",
       "    <tr>\n",
       "      <th>Mayabeque</th>\n",
       "      <td>6.0</td>\n",
       "      <td>22.5</td>\n",
       "      <td>40.2</td>\n",
       "      <td>99.8</td>\n",
       "      <td>127.5</td>\n",
       "      <td>246.4</td>\n",
       "      <td>224.4</td>\n",
       "      <td>182.8</td>\n",
       "      <td>188.3</td>\n",
       "      <td>106.6</td>\n",
       "      <td>88.0</td>\n",
       "      <td>58.3</td>\n",
       "    </tr>\n",
       "    <tr>\n",
       "      <th>Cienfuegos</th>\n",
       "      <td>21.1</td>\n",
       "      <td>20.6</td>\n",
       "      <td>31.8</td>\n",
       "      <td>121.3</td>\n",
       "      <td>197.9</td>\n",
       "      <td>191.6</td>\n",
       "      <td>234.4</td>\n",
       "      <td>211.3</td>\n",
       "      <td>189.3</td>\n",
       "      <td>140.1</td>\n",
       "      <td>77.0</td>\n",
       "      <td>22.2</td>\n",
       "    </tr>\n",
       "    <tr>\n",
       "      <th>Sancti Spíritus</th>\n",
       "      <td>21.9</td>\n",
       "      <td>11.4</td>\n",
       "      <td>19.3</td>\n",
       "      <td>98.9</td>\n",
       "      <td>174.9</td>\n",
       "      <td>205.9</td>\n",
       "      <td>217.3</td>\n",
       "      <td>169.9</td>\n",
       "      <td>160.8</td>\n",
       "      <td>196.7</td>\n",
       "      <td>81.8</td>\n",
       "      <td>29.1</td>\n",
       "    </tr>\n",
       "    <tr>\n",
       "      <th>Granma</th>\n",
       "      <td>17.3</td>\n",
       "      <td>16.5</td>\n",
       "      <td>15.7</td>\n",
       "      <td>103.6</td>\n",
       "      <td>182.4</td>\n",
       "      <td>165.4</td>\n",
       "      <td>131.0</td>\n",
       "      <td>159.2</td>\n",
       "      <td>189.9</td>\n",
       "      <td>141.0</td>\n",
       "      <td>88.5</td>\n",
       "      <td>20.8</td>\n",
       "    </tr>\n",
       "    <tr>\n",
       "      <th>Santiago de Cuba</th>\n",
       "      <td>27.5</td>\n",
       "      <td>12.6</td>\n",
       "      <td>22.8</td>\n",
       "      <td>119.9</td>\n",
       "      <td>157.1</td>\n",
       "      <td>150.1</td>\n",
       "      <td>126.3</td>\n",
       "      <td>125.7</td>\n",
       "      <td>164.1</td>\n",
       "      <td>125.0</td>\n",
       "      <td>64.8</td>\n",
       "      <td>21.9</td>\n",
       "    </tr>\n",
       "    <tr>\n",
       "      <th>Isla de la Juventud</th>\n",
       "      <td>16.0</td>\n",
       "      <td>17.6</td>\n",
       "      <td>94.2</td>\n",
       "      <td>87.5</td>\n",
       "      <td>123.7</td>\n",
       "      <td>467.3</td>\n",
       "      <td>181.1</td>\n",
       "      <td>145.5</td>\n",
       "      <td>246.3</td>\n",
       "      <td>128.8</td>\n",
       "      <td>19.7</td>\n",
       "      <td>23.9</td>\n",
       "    </tr>\n",
       "  </tbody>\n",
       "</table>\n",
       "</div>"
      ],
      "text/plain": [
       "                      Ene   Feb   Mar    Abr    May    Jun    Jul    Ago  \\\n",
       "Pinar del Río        14.1  37.8  73.7   71.4  116.0  677.0  181.6  168.2   \n",
       "Artemisa             31.0  38.2  88.5   70.7  131.1  520.6  209.8  119.6   \n",
       "La Habana             5.3  38.5  65.8   63.0  132.0  190.9  214.3  200.4   \n",
       "Mayabeque             6.0  22.5  40.2   99.8  127.5  246.4  224.4  182.8   \n",
       "Cienfuegos           21.1  20.6  31.8  121.3  197.9  191.6  234.4  211.3   \n",
       "Sancti Spíritus      21.9  11.4  19.3   98.9  174.9  205.9  217.3  169.9   \n",
       "Granma               17.3  16.5  15.7  103.6  182.4  165.4  131.0  159.2   \n",
       "Santiago de Cuba     27.5  12.6  22.8  119.9  157.1  150.1  126.3  125.7   \n",
       "Isla de la Juventud  16.0  17.6  94.2   87.5  123.7  467.3  181.1  145.5   \n",
       "\n",
       "                      Sept    Oct    Nov   Dic  \n",
       "Pinar del Río        173.6  122.4   87.5  56.2  \n",
       "Artemisa             169.9  135.1  195.9  58.3  \n",
       "La Habana            243.6   50.6  322.2  71.1  \n",
       "Mayabeque            188.3  106.6   88.0  58.3  \n",
       "Cienfuegos           189.3  140.1   77.0  22.2  \n",
       "Sancti Spíritus      160.8  196.7   81.8  29.1  \n",
       "Granma               189.9  141.0   88.5  20.8  \n",
       "Santiago de Cuba     164.1  125.0   64.8  21.9  \n",
       "Isla de la Juventud  246.3  128.8   19.7  23.9  "
      ]
     },
     "execution_count": 105,
     "metadata": {},
     "output_type": "execute_result"
    }
   ],
   "source": [
    "lluvias2013[lluvias2013['Jun'] > 150]"
   ]
  },
  {
   "cell_type": "code",
   "execution_count": 111,
   "metadata": {
    "collapsed": false
   },
   "outputs": [
    {
     "data": {
      "text/html": [
       "<div>\n",
       "<table border=\"1\" class=\"dataframe\">\n",
       "  <thead>\n",
       "    <tr style=\"text-align: right;\">\n",
       "      <th></th>\n",
       "      <th>Ene</th>\n",
       "      <th>Feb</th>\n",
       "      <th>Mar</th>\n",
       "      <th>Abr</th>\n",
       "      <th>May</th>\n",
       "      <th>Jun</th>\n",
       "      <th>Jul</th>\n",
       "      <th>Ago</th>\n",
       "      <th>Sept</th>\n",
       "      <th>Oct</th>\n",
       "      <th>Nov</th>\n",
       "      <th>Dic</th>\n",
       "    </tr>\n",
       "  </thead>\n",
       "  <tbody>\n",
       "  </tbody>\n",
       "</table>\n",
       "</div>"
      ],
      "text/plain": [
       "Empty DataFrame\n",
       "Columns: [Ene, Feb, Mar, Abr, May, Jun, Jul, Ago, Sept, Oct, Nov, Dic]\n",
       "Index: []"
      ]
     },
     "execution_count": 111,
     "metadata": {},
     "output_type": "execute_result"
    }
   ],
   "source": [
    "lluvias2013[(lluvias2013['Jun'] > 150) & (lluvias2013['May'] > 200)]"
   ]
  },
  {
   "cell_type": "code",
   "execution_count": 109,
   "metadata": {
    "collapsed": false
   },
   "outputs": [
    {
     "data": {
      "text/html": [
       "<div>\n",
       "<table border=\"1\" class=\"dataframe\">\n",
       "  <thead>\n",
       "    <tr style=\"text-align: right;\">\n",
       "      <th></th>\n",
       "      <th>Ene</th>\n",
       "      <th>Feb</th>\n",
       "      <th>Mar</th>\n",
       "      <th>Abr</th>\n",
       "      <th>May</th>\n",
       "      <th>Jun</th>\n",
       "      <th>Jul</th>\n",
       "      <th>Ago</th>\n",
       "      <th>Sept</th>\n",
       "      <th>Oct</th>\n",
       "      <th>Nov</th>\n",
       "      <th>Dic</th>\n",
       "    </tr>\n",
       "  </thead>\n",
       "  <tbody>\n",
       "    <tr>\n",
       "      <th>Pinar del Río</th>\n",
       "      <td>14.1</td>\n",
       "      <td>37.8</td>\n",
       "      <td>73.7</td>\n",
       "      <td>71.4</td>\n",
       "      <td>116.0</td>\n",
       "      <td>677.0</td>\n",
       "      <td>181.6</td>\n",
       "      <td>168.2</td>\n",
       "      <td>173.6</td>\n",
       "      <td>122.4</td>\n",
       "      <td>87.5</td>\n",
       "      <td>56.2</td>\n",
       "    </tr>\n",
       "    <tr>\n",
       "      <th>Artemisa</th>\n",
       "      <td>31.0</td>\n",
       "      <td>38.2</td>\n",
       "      <td>88.5</td>\n",
       "      <td>70.7</td>\n",
       "      <td>131.1</td>\n",
       "      <td>520.6</td>\n",
       "      <td>209.8</td>\n",
       "      <td>119.6</td>\n",
       "      <td>169.9</td>\n",
       "      <td>135.1</td>\n",
       "      <td>195.9</td>\n",
       "      <td>58.3</td>\n",
       "    </tr>\n",
       "    <tr>\n",
       "      <th>La Habana</th>\n",
       "      <td>5.3</td>\n",
       "      <td>38.5</td>\n",
       "      <td>65.8</td>\n",
       "      <td>63.0</td>\n",
       "      <td>132.0</td>\n",
       "      <td>190.9</td>\n",
       "      <td>214.3</td>\n",
       "      <td>200.4</td>\n",
       "      <td>243.6</td>\n",
       "      <td>50.6</td>\n",
       "      <td>322.2</td>\n",
       "      <td>71.1</td>\n",
       "    </tr>\n",
       "    <tr>\n",
       "      <th>Mayabeque</th>\n",
       "      <td>6.0</td>\n",
       "      <td>22.5</td>\n",
       "      <td>40.2</td>\n",
       "      <td>99.8</td>\n",
       "      <td>127.5</td>\n",
       "      <td>246.4</td>\n",
       "      <td>224.4</td>\n",
       "      <td>182.8</td>\n",
       "      <td>188.3</td>\n",
       "      <td>106.6</td>\n",
       "      <td>88.0</td>\n",
       "      <td>58.3</td>\n",
       "    </tr>\n",
       "    <tr>\n",
       "      <th>Matanzas</th>\n",
       "      <td>3.1</td>\n",
       "      <td>10.7</td>\n",
       "      <td>23.9</td>\n",
       "      <td>74.1</td>\n",
       "      <td>134.4</td>\n",
       "      <td>104.7</td>\n",
       "      <td>150.3</td>\n",
       "      <td>100.9</td>\n",
       "      <td>103.8</td>\n",
       "      <td>46.5</td>\n",
       "      <td>13.9</td>\n",
       "      <td>13.8</td>\n",
       "    </tr>\n",
       "    <tr>\n",
       "      <th>Villa Clara</th>\n",
       "      <td>34.1</td>\n",
       "      <td>15.7</td>\n",
       "      <td>45.7</td>\n",
       "      <td>115.8</td>\n",
       "      <td>181.8</td>\n",
       "      <td>129.2</td>\n",
       "      <td>163.5</td>\n",
       "      <td>172.8</td>\n",
       "      <td>232.5</td>\n",
       "      <td>240.6</td>\n",
       "      <td>153.1</td>\n",
       "      <td>34.6</td>\n",
       "    </tr>\n",
       "    <tr>\n",
       "      <th>Cienfuegos</th>\n",
       "      <td>21.1</td>\n",
       "      <td>20.6</td>\n",
       "      <td>31.8</td>\n",
       "      <td>121.3</td>\n",
       "      <td>197.9</td>\n",
       "      <td>191.6</td>\n",
       "      <td>234.4</td>\n",
       "      <td>211.3</td>\n",
       "      <td>189.3</td>\n",
       "      <td>140.1</td>\n",
       "      <td>77.0</td>\n",
       "      <td>22.2</td>\n",
       "    </tr>\n",
       "    <tr>\n",
       "      <th>Sancti Spíritus</th>\n",
       "      <td>21.9</td>\n",
       "      <td>11.4</td>\n",
       "      <td>19.3</td>\n",
       "      <td>98.9</td>\n",
       "      <td>174.9</td>\n",
       "      <td>205.9</td>\n",
       "      <td>217.3</td>\n",
       "      <td>169.9</td>\n",
       "      <td>160.8</td>\n",
       "      <td>196.7</td>\n",
       "      <td>81.8</td>\n",
       "      <td>29.1</td>\n",
       "    </tr>\n",
       "    <tr>\n",
       "      <th>Ciego de Ávila</th>\n",
       "      <td>26.2</td>\n",
       "      <td>7.3</td>\n",
       "      <td>18.7</td>\n",
       "      <td>59.7</td>\n",
       "      <td>242.0</td>\n",
       "      <td>130.5</td>\n",
       "      <td>207.1</td>\n",
       "      <td>122.8</td>\n",
       "      <td>183.4</td>\n",
       "      <td>145.1</td>\n",
       "      <td>90.0</td>\n",
       "      <td>26.0</td>\n",
       "    </tr>\n",
       "    <tr>\n",
       "      <th>Camagüey</th>\n",
       "      <td>33.8</td>\n",
       "      <td>12.8</td>\n",
       "      <td>22.5</td>\n",
       "      <td>104.1</td>\n",
       "      <td>270.7</td>\n",
       "      <td>141.6</td>\n",
       "      <td>159.1</td>\n",
       "      <td>130.8</td>\n",
       "      <td>190.1</td>\n",
       "      <td>106.1</td>\n",
       "      <td>74.2</td>\n",
       "      <td>24.3</td>\n",
       "    </tr>\n",
       "    <tr>\n",
       "      <th>Las Tunas</th>\n",
       "      <td>72.8</td>\n",
       "      <td>6.3</td>\n",
       "      <td>20.5</td>\n",
       "      <td>54.5</td>\n",
       "      <td>162.3</td>\n",
       "      <td>147.8</td>\n",
       "      <td>103.4</td>\n",
       "      <td>142.2</td>\n",
       "      <td>145.3</td>\n",
       "      <td>101.5</td>\n",
       "      <td>67.4</td>\n",
       "      <td>9.4</td>\n",
       "    </tr>\n",
       "    <tr>\n",
       "      <th>Holguín</th>\n",
       "      <td>85.3</td>\n",
       "      <td>49.2</td>\n",
       "      <td>44.3</td>\n",
       "      <td>101.2</td>\n",
       "      <td>160.8</td>\n",
       "      <td>144.9</td>\n",
       "      <td>82.5</td>\n",
       "      <td>90.7</td>\n",
       "      <td>153.3</td>\n",
       "      <td>136.9</td>\n",
       "      <td>130.9</td>\n",
       "      <td>27.4</td>\n",
       "    </tr>\n",
       "    <tr>\n",
       "      <th>Granma</th>\n",
       "      <td>17.3</td>\n",
       "      <td>16.5</td>\n",
       "      <td>15.7</td>\n",
       "      <td>103.6</td>\n",
       "      <td>182.4</td>\n",
       "      <td>165.4</td>\n",
       "      <td>131.0</td>\n",
       "      <td>159.2</td>\n",
       "      <td>189.9</td>\n",
       "      <td>141.0</td>\n",
       "      <td>88.5</td>\n",
       "      <td>20.8</td>\n",
       "    </tr>\n",
       "    <tr>\n",
       "      <th>Santiago de Cuba</th>\n",
       "      <td>27.5</td>\n",
       "      <td>12.6</td>\n",
       "      <td>22.8</td>\n",
       "      <td>119.9</td>\n",
       "      <td>157.1</td>\n",
       "      <td>150.1</td>\n",
       "      <td>126.3</td>\n",
       "      <td>125.7</td>\n",
       "      <td>164.1</td>\n",
       "      <td>125.0</td>\n",
       "      <td>64.8</td>\n",
       "      <td>21.9</td>\n",
       "    </tr>\n",
       "    <tr>\n",
       "      <th>Isla de la Juventud</th>\n",
       "      <td>16.0</td>\n",
       "      <td>17.6</td>\n",
       "      <td>94.2</td>\n",
       "      <td>87.5</td>\n",
       "      <td>123.7</td>\n",
       "      <td>467.3</td>\n",
       "      <td>181.1</td>\n",
       "      <td>145.5</td>\n",
       "      <td>246.3</td>\n",
       "      <td>128.8</td>\n",
       "      <td>19.7</td>\n",
       "      <td>23.9</td>\n",
       "    </tr>\n",
       "  </tbody>\n",
       "</table>\n",
       "</div>"
      ],
      "text/plain": [
       "                      Ene   Feb   Mar    Abr    May    Jun    Jul    Ago  \\\n",
       "Pinar del Río        14.1  37.8  73.7   71.4  116.0  677.0  181.6  168.2   \n",
       "Artemisa             31.0  38.2  88.5   70.7  131.1  520.6  209.8  119.6   \n",
       "La Habana             5.3  38.5  65.8   63.0  132.0  190.9  214.3  200.4   \n",
       "Mayabeque             6.0  22.5  40.2   99.8  127.5  246.4  224.4  182.8   \n",
       "Matanzas              3.1  10.7  23.9   74.1  134.4  104.7  150.3  100.9   \n",
       "Villa Clara          34.1  15.7  45.7  115.8  181.8  129.2  163.5  172.8   \n",
       "Cienfuegos           21.1  20.6  31.8  121.3  197.9  191.6  234.4  211.3   \n",
       "Sancti Spíritus      21.9  11.4  19.3   98.9  174.9  205.9  217.3  169.9   \n",
       "Ciego de Ávila       26.2   7.3  18.7   59.7  242.0  130.5  207.1  122.8   \n",
       "Camagüey             33.8  12.8  22.5  104.1  270.7  141.6  159.1  130.8   \n",
       "Las Tunas            72.8   6.3  20.5   54.5  162.3  147.8  103.4  142.2   \n",
       "Holguín              85.3  49.2  44.3  101.2  160.8  144.9   82.5   90.7   \n",
       "Granma               17.3  16.5  15.7  103.6  182.4  165.4  131.0  159.2   \n",
       "Santiago de Cuba     27.5  12.6  22.8  119.9  157.1  150.1  126.3  125.7   \n",
       "Isla de la Juventud  16.0  17.6  94.2   87.5  123.7  467.3  181.1  145.5   \n",
       "\n",
       "                      Sept    Oct    Nov   Dic  \n",
       "Pinar del Río        173.6  122.4   87.5  56.2  \n",
       "Artemisa             169.9  135.1  195.9  58.3  \n",
       "La Habana            243.6   50.6  322.2  71.1  \n",
       "Mayabeque            188.3  106.6   88.0  58.3  \n",
       "Matanzas             103.8   46.5   13.9  13.8  \n",
       "Villa Clara          232.5  240.6  153.1  34.6  \n",
       "Cienfuegos           189.3  140.1   77.0  22.2  \n",
       "Sancti Spíritus      160.8  196.7   81.8  29.1  \n",
       "Ciego de Ávila       183.4  145.1   90.0  26.0  \n",
       "Camagüey             190.1  106.1   74.2  24.3  \n",
       "Las Tunas            145.3  101.5   67.4   9.4  \n",
       "Holguín              153.3  136.9  130.9  27.4  \n",
       "Granma               189.9  141.0   88.5  20.8  \n",
       "Santiago de Cuba     164.1  125.0   64.8  21.9  \n",
       "Isla de la Juventud  246.3  128.8   19.7  23.9  "
      ]
     },
     "execution_count": 109,
     "metadata": {},
     "output_type": "execute_result"
    }
   ],
   "source": [
    "lluvias2013[(lluvias2013['May'] > 200) | (lluvias2013['Jun'] > 100)]"
   ]
  },
  {
   "cell_type": "code",
   "execution_count": 132,
   "metadata": {
    "collapsed": false
   },
   "outputs": [
    {
     "data": {
      "text/plain": [
       "Ene      495.4\n",
       "Feb      375.6\n",
       "Mar      682.4\n",
       "Abr     1456.7\n",
       "May     2650.9\n",
       "Jun     3708.0\n",
       "Jul     2684.8\n",
       "Ago     2316.2\n",
       "Sept    2883.6\n",
       "Oct     2049.3\n",
       "Nov     1653.8\n",
       "Dic      580.4\n",
       "dtype: float64"
      ]
     },
     "execution_count": 132,
     "metadata": {},
     "output_type": "execute_result"
    }
   ],
   "source": [
    "lluvias2013.sum()"
   ]
  },
  {
   "cell_type": "code",
   "execution_count": 14,
   "metadata": {
    "collapsed": false
   },
   "outputs": [
    {
     "data": {
      "text/plain": [
       "Ene.        24.05\n",
       " Feb.       17.05\n",
       "   Mar.     36.00\n",
       "  Abr.      99.35\n",
       "   May.    158.95\n",
       "  Jun.     157.75\n",
       "  Jul.     172.30\n",
       "  Ago.     143.85\n",
       "  Sept.    178.50\n",
       "  Oct.     127.55\n",
       "  Nov.      87.75\n",
       "  Dic.      26.70\n",
       "dtype: float64"
      ]
     },
     "execution_count": 14,
     "metadata": {},
     "output_type": "execute_result"
    }
   ],
   "source": [
    "lluvias2013.median()"
   ]
  },
  {
   "cell_type": "code",
   "execution_count": 58,
   "metadata": {
    "collapsed": false
   },
   "outputs": [
    {
     "data": {
      "text/plain": [
       "Ene.        25.926405\n",
       " Feb.       15.801498\n",
       "   Mar.     25.859080\n",
       "  Abr.      22.421209\n",
       "   May.     42.980635\n",
       "  Jun.     169.503817\n",
       "  Jul.      48.718662\n",
       "  Ago.      38.957753\n",
       "  Sept.     37.405214\n",
       "  Oct.      46.513442\n",
       "  Nov.      73.205582\n",
       "  Dic.      21.877462\n",
       "dtype: float64"
      ]
     },
     "execution_count": 58,
     "metadata": {},
     "output_type": "execute_result"
    }
   ],
   "source": [
    "lluvias2013.std()"
   ]
  },
  {
   "cell_type": "code",
   "execution_count": 59,
   "metadata": {
    "collapsed": false
   },
   "outputs": [
    {
     "data": {
      "text/html": [
       "<div>\n",
       "<table border=\"1\" class=\"dataframe\">\n",
       "  <thead>\n",
       "    <tr style=\"text-align: right;\">\n",
       "      <th></th>\n",
       "      <th>Ene.</th>\n",
       "      <th>Feb.</th>\n",
       "      <th>Mar.</th>\n",
       "      <th>Abr.</th>\n",
       "      <th>May.</th>\n",
       "      <th>Jun.</th>\n",
       "      <th>Jul.</th>\n",
       "      <th>Ago.</th>\n",
       "      <th>Sept.</th>\n",
       "      <th>Oct.</th>\n",
       "      <th>Nov.</th>\n",
       "      <th>Dic.</th>\n",
       "    </tr>\n",
       "  </thead>\n",
       "  <tbody>\n",
       "    <tr>\n",
       "      <th>count</th>\n",
       "      <td>16.000000</td>\n",
       "      <td>16.000000</td>\n",
       "      <td>16.00000</td>\n",
       "      <td>16.000000</td>\n",
       "      <td>16.000000</td>\n",
       "      <td>16.000000</td>\n",
       "      <td>16.000000</td>\n",
       "      <td>16.000000</td>\n",
       "      <td>16.000000</td>\n",
       "      <td>16.000000</td>\n",
       "      <td>16.000000</td>\n",
       "      <td>16.000000</td>\n",
       "    </tr>\n",
       "    <tr>\n",
       "      <th>mean</th>\n",
       "      <td>30.962500</td>\n",
       "      <td>23.475000</td>\n",
       "      <td>42.65000</td>\n",
       "      <td>91.043750</td>\n",
       "      <td>165.681250</td>\n",
       "      <td>231.750000</td>\n",
       "      <td>167.800000</td>\n",
       "      <td>144.762500</td>\n",
       "      <td>180.225000</td>\n",
       "      <td>128.081250</td>\n",
       "      <td>103.362500</td>\n",
       "      <td>36.275000</td>\n",
       "    </tr>\n",
       "    <tr>\n",
       "      <th>std</th>\n",
       "      <td>25.926405</td>\n",
       "      <td>15.801498</td>\n",
       "      <td>25.85908</td>\n",
       "      <td>22.421209</td>\n",
       "      <td>42.980635</td>\n",
       "      <td>169.503817</td>\n",
       "      <td>48.718662</td>\n",
       "      <td>38.957753</td>\n",
       "      <td>37.405214</td>\n",
       "      <td>46.513442</td>\n",
       "      <td>73.205582</td>\n",
       "      <td>21.877462</td>\n",
       "    </tr>\n",
       "    <tr>\n",
       "      <th>min</th>\n",
       "      <td>3.100000</td>\n",
       "      <td>6.300000</td>\n",
       "      <td>15.70000</td>\n",
       "      <td>54.500000</td>\n",
       "      <td>116.000000</td>\n",
       "      <td>94.100000</td>\n",
       "      <td>82.500000</td>\n",
       "      <td>73.400000</td>\n",
       "      <td>103.800000</td>\n",
       "      <td>46.500000</td>\n",
       "      <td>13.900000</td>\n",
       "      <td>9.400000</td>\n",
       "    </tr>\n",
       "    <tr>\n",
       "      <th>25%</th>\n",
       "      <td>15.525000</td>\n",
       "      <td>12.300000</td>\n",
       "      <td>22.00000</td>\n",
       "      <td>71.225000</td>\n",
       "      <td>131.775000</td>\n",
       "      <td>138.825000</td>\n",
       "      <td>129.825000</td>\n",
       "      <td>122.000000</td>\n",
       "      <td>158.925000</td>\n",
       "      <td>106.475000</td>\n",
       "      <td>72.500000</td>\n",
       "      <td>22.125000</td>\n",
       "    </tr>\n",
       "    <tr>\n",
       "      <th>50%</th>\n",
       "      <td>24.050000</td>\n",
       "      <td>17.050000</td>\n",
       "      <td>36.00000</td>\n",
       "      <td>99.350000</td>\n",
       "      <td>158.950000</td>\n",
       "      <td>157.750000</td>\n",
       "      <td>172.300000</td>\n",
       "      <td>143.850000</td>\n",
       "      <td>178.500000</td>\n",
       "      <td>127.550000</td>\n",
       "      <td>87.750000</td>\n",
       "      <td>26.700000</td>\n",
       "    </tr>\n",
       "    <tr>\n",
       "      <th>75%</th>\n",
       "      <td>33.875000</td>\n",
       "      <td>37.900000</td>\n",
       "      <td>57.55000</td>\n",
       "      <td>105.875000</td>\n",
       "      <td>181.950000</td>\n",
       "      <td>216.025000</td>\n",
       "      <td>210.925000</td>\n",
       "      <td>170.625000</td>\n",
       "      <td>189.950000</td>\n",
       "      <td>140.325000</td>\n",
       "      <td>106.900000</td>\n",
       "      <td>56.725000</td>\n",
       "    </tr>\n",
       "    <tr>\n",
       "      <th>max</th>\n",
       "      <td>85.300000</td>\n",
       "      <td>57.900000</td>\n",
       "      <td>94.20000</td>\n",
       "      <td>121.300000</td>\n",
       "      <td>270.700000</td>\n",
       "      <td>677.000000</td>\n",
       "      <td>234.400000</td>\n",
       "      <td>211.300000</td>\n",
       "      <td>246.300000</td>\n",
       "      <td>240.600000</td>\n",
       "      <td>322.200000</td>\n",
       "      <td>83.100000</td>\n",
       "    </tr>\n",
       "  </tbody>\n",
       "</table>\n",
       "</div>"
      ],
      "text/plain": [
       "            Ene.       Feb.      Mar.        Abr.        May.        Jun.  \\\n",
       "count  16.000000  16.000000  16.00000   16.000000   16.000000   16.000000   \n",
       "mean   30.962500  23.475000  42.65000   91.043750  165.681250  231.750000   \n",
       "std    25.926405  15.801498  25.85908   22.421209   42.980635  169.503817   \n",
       "min     3.100000   6.300000  15.70000   54.500000  116.000000   94.100000   \n",
       "25%    15.525000  12.300000  22.00000   71.225000  131.775000  138.825000   \n",
       "50%    24.050000  17.050000  36.00000   99.350000  158.950000  157.750000   \n",
       "75%    33.875000  37.900000  57.55000  105.875000  181.950000  216.025000   \n",
       "max    85.300000  57.900000  94.20000  121.300000  270.700000  677.000000   \n",
       "\n",
       "             Jul.        Ago.       Sept.        Oct.        Nov.       Dic.  \n",
       "count   16.000000   16.000000   16.000000   16.000000   16.000000  16.000000  \n",
       "mean   167.800000  144.762500  180.225000  128.081250  103.362500  36.275000  \n",
       "std     48.718662   38.957753   37.405214   46.513442   73.205582  21.877462  \n",
       "min     82.500000   73.400000  103.800000   46.500000   13.900000   9.400000  \n",
       "25%    129.825000  122.000000  158.925000  106.475000   72.500000  22.125000  \n",
       "50%    172.300000  143.850000  178.500000  127.550000   87.750000  26.700000  \n",
       "75%    210.925000  170.625000  189.950000  140.325000  106.900000  56.725000  \n",
       "max    234.400000  211.300000  246.300000  240.600000  322.200000  83.100000  "
      ]
     },
     "execution_count": 59,
     "metadata": {},
     "output_type": "execute_result"
    }
   ],
   "source": [
    "lluvias2013.describe()"
   ]
  },
  {
   "cell_type": "code",
   "execution_count": 25,
   "metadata": {
    "collapsed": false
   },
   "outputs": [
    {
     "data": {
      "text/plain": [
       "1768.7"
      ]
     },
     "execution_count": 25,
     "metadata": {},
     "output_type": "execute_result"
    }
   ],
   "source": [
    "lluvias2013.ix[1].sum()"
   ]
  },
  {
   "cell_type": "code",
   "execution_count": 138,
   "metadata": {
    "collapsed": false
   },
   "outputs": [
    {
     "data": {
      "text/plain": [
       "'C:\\\\Users\\\\ADMIN\\\\Desktop\\\\CubanTech Meetup'"
      ]
     },
     "execution_count": 138,
     "metadata": {},
     "output_type": "execute_result"
    }
   ],
   "source": [
    "pwd"
   ]
  },
  {
   "cell_type": "markdown",
   "metadata": {},
   "source": [
    "## Algunas funciones más avanzadas"
   ]
  },
  {
   "cell_type": "markdown",
   "metadata": {},
   "source": [
    "### Agrupar valores\n",
    "\n"
   ]
  },
  {
   "cell_type": "code",
   "execution_count": 34,
   "metadata": {
    "collapsed": false
   },
   "outputs": [
    {
     "data": {
      "text/html": [
       "<div>\n",
       "<table border=\"1\" class=\"dataframe\">\n",
       "  <thead>\n",
       "    <tr style=\"text-align: right;\">\n",
       "      <th></th>\n",
       "      <th>sum</th>\n",
       "      <th>min</th>\n",
       "      <th>max</th>\n",
       "      <th>mean</th>\n",
       "    </tr>\n",
       "    <tr>\n",
       "      <th>Provincia</th>\n",
       "      <th></th>\n",
       "      <th></th>\n",
       "      <th></th>\n",
       "      <th></th>\n",
       "    </tr>\n",
       "  </thead>\n",
       "  <tbody>\n",
       "    <tr>\n",
       "      <th>Artemisa</th>\n",
       "      <td>63.3</td>\n",
       "      <td>20.4</td>\n",
       "      <td>22.0</td>\n",
       "      <td>21.100000</td>\n",
       "    </tr>\n",
       "    <tr>\n",
       "      <th>Camagüey</th>\n",
       "      <td>126.7</td>\n",
       "      <td>20.3</td>\n",
       "      <td>23.1</td>\n",
       "      <td>21.116667</td>\n",
       "    </tr>\n",
       "    <tr>\n",
       "      <th>Ciego de Ávila</th>\n",
       "      <td>84.1</td>\n",
       "      <td>19.5</td>\n",
       "      <td>24.0</td>\n",
       "      <td>21.025000</td>\n",
       "    </tr>\n",
       "    <tr>\n",
       "      <th>Cienfuegos</th>\n",
       "      <td>41.4</td>\n",
       "      <td>20.2</td>\n",
       "      <td>21.2</td>\n",
       "      <td>20.700000</td>\n",
       "    </tr>\n",
       "    <tr>\n",
       "      <th>Granma</th>\n",
       "      <td>106.4</td>\n",
       "      <td>20.5</td>\n",
       "      <td>22.8</td>\n",
       "      <td>21.280000</td>\n",
       "    </tr>\n",
       "    <tr>\n",
       "      <th>Guantánamo</th>\n",
       "      <td>105.9</td>\n",
       "      <td>18.3</td>\n",
       "      <td>25.0</td>\n",
       "      <td>21.180000</td>\n",
       "    </tr>\n",
       "    <tr>\n",
       "      <th>Holguín</th>\n",
       "      <td>126.2</td>\n",
       "      <td>16.0</td>\n",
       "      <td>24.2</td>\n",
       "      <td>21.033333</td>\n",
       "    </tr>\n",
       "    <tr>\n",
       "      <th>Isla de la Juventud</th>\n",
       "      <td>70.4</td>\n",
       "      <td>21.6</td>\n",
       "      <td>25.3</td>\n",
       "      <td>23.466667</td>\n",
       "    </tr>\n",
       "    <tr>\n",
       "      <th>La Habana</th>\n",
       "      <td>43.1</td>\n",
       "      <td>20.7</td>\n",
       "      <td>22.4</td>\n",
       "      <td>21.550000</td>\n",
       "    </tr>\n",
       "    <tr>\n",
       "      <th>Las Tunas</th>\n",
       "      <td>43.6</td>\n",
       "      <td>21.7</td>\n",
       "      <td>21.9</td>\n",
       "      <td>21.800000</td>\n",
       "    </tr>\n",
       "    <tr>\n",
       "      <th>Matanzas</th>\n",
       "      <td>143.6</td>\n",
       "      <td>18.7</td>\n",
       "      <td>23.9</td>\n",
       "      <td>20.514286</td>\n",
       "    </tr>\n",
       "    <tr>\n",
       "      <th>Mayabeque</th>\n",
       "      <td>78.9</td>\n",
       "      <td>18.7</td>\n",
       "      <td>20.4</td>\n",
       "      <td>19.725000</td>\n",
       "    </tr>\n",
       "    <tr>\n",
       "      <th>Pinar del Río</th>\n",
       "      <td>147.5</td>\n",
       "      <td>20.2</td>\n",
       "      <td>22.7</td>\n",
       "      <td>21.071429</td>\n",
       "    </tr>\n",
       "    <tr>\n",
       "      <th>Sancti Spíritus</th>\n",
       "      <td>81.4</td>\n",
       "      <td>17.9</td>\n",
       "      <td>22.3</td>\n",
       "      <td>20.350000</td>\n",
       "    </tr>\n",
       "    <tr>\n",
       "      <th>Santiago</th>\n",
       "      <td>61.2</td>\n",
       "      <td>17.0</td>\n",
       "      <td>23.8</td>\n",
       "      <td>20.400000</td>\n",
       "    </tr>\n",
       "    <tr>\n",
       "      <th>Villa Clara</th>\n",
       "      <td>102.5</td>\n",
       "      <td>19.4</td>\n",
       "      <td>21.9</td>\n",
       "      <td>20.500000</td>\n",
       "    </tr>\n",
       "  </tbody>\n",
       "</table>\n",
       "</div>"
      ],
      "text/plain": [
       "                       sum   min   max       mean\n",
       "Provincia                                        \n",
       "Artemisa              63.3  20.4  22.0  21.100000\n",
       "Camagüey             126.7  20.3  23.1  21.116667\n",
       "Ciego de Ávila        84.1  19.5  24.0  21.025000\n",
       "Cienfuegos            41.4  20.2  21.2  20.700000\n",
       "Granma               106.4  20.5  22.8  21.280000\n",
       "Guantánamo           105.9  18.3  25.0  21.180000\n",
       "Holguín              126.2  16.0  24.2  21.033333\n",
       "Isla de la Juventud   70.4  21.6  25.3  23.466667\n",
       "La Habana             43.1  20.7  22.4  21.550000\n",
       "Las Tunas             43.6  21.7  21.9  21.800000\n",
       "Matanzas             143.6  18.7  23.9  20.514286\n",
       "Mayabeque             78.9  18.7  20.4  19.725000\n",
       "Pinar del Río        147.5  20.2  22.7  21.071429\n",
       "Sancti Spíritus       81.4  17.9  22.3  20.350000\n",
       "Santiago              61.2  17.0  23.8  20.400000\n",
       "Villa Clara          102.5  19.4  21.9  20.500000"
      ]
     },
     "execution_count": 34,
     "metadata": {},
     "output_type": "execute_result"
    }
   ],
   "source": [
    "from numpy import mean\n",
    "clima2013 = pd.read_excel(\"clima Cuba.xlsx\")\n",
    "clima2013.groupby([\"Provincia\"])['Temperatura mínima media (ºC)'].aggregate([sum, min, max, mean])"
   ]
  },
  {
   "cell_type": "markdown",
   "metadata": {},
   "source": [
    "### Tablas dinámicas\n",
    "\n",
    "`pd.pivot_table(Nombre_del_DATAFRAME,\n",
    "                index= Columna_o_Lista_de_columnas_que_definen_las_filas_de_la_tabla_dinámica,\n",
    "                columns= Columna_o_Lista_de_col_que_definen_las_columnas_de_la_tabla_dinámica\n",
    "                values= Columna_de_datos_con_los_que_se_realizará_la_operación,\n",
    "                aggfunc=sum\n",
    "               )`"
   ]
  },
  {
   "cell_type": "code",
   "execution_count": 37,
   "metadata": {
    "collapsed": false
   },
   "outputs": [
    {
     "data": {
      "text/html": [
       "<div>\n",
       "<table border=\"1\" class=\"dataframe\">\n",
       "  <thead>\n",
       "    <tr style=\"text-align: right;\">\n",
       "      <th></th>\n",
       "      <th>Temperatura mínima media (ºC)</th>\n",
       "    </tr>\n",
       "    <tr>\n",
       "      <th>Provincia</th>\n",
       "      <th></th>\n",
       "    </tr>\n",
       "  </thead>\n",
       "  <tbody>\n",
       "    <tr>\n",
       "      <th>Artemisa</th>\n",
       "      <td>21.100000</td>\n",
       "    </tr>\n",
       "    <tr>\n",
       "      <th>Camagüey</th>\n",
       "      <td>21.116667</td>\n",
       "    </tr>\n",
       "    <tr>\n",
       "      <th>Ciego de Ávila</th>\n",
       "      <td>21.025000</td>\n",
       "    </tr>\n",
       "    <tr>\n",
       "      <th>Cienfuegos</th>\n",
       "      <td>20.700000</td>\n",
       "    </tr>\n",
       "    <tr>\n",
       "      <th>Granma</th>\n",
       "      <td>21.280000</td>\n",
       "    </tr>\n",
       "    <tr>\n",
       "      <th>Guantánamo</th>\n",
       "      <td>21.180000</td>\n",
       "    </tr>\n",
       "    <tr>\n",
       "      <th>Holguín</th>\n",
       "      <td>21.033333</td>\n",
       "    </tr>\n",
       "    <tr>\n",
       "      <th>Isla de la Juventud</th>\n",
       "      <td>23.466667</td>\n",
       "    </tr>\n",
       "    <tr>\n",
       "      <th>La Habana</th>\n",
       "      <td>21.550000</td>\n",
       "    </tr>\n",
       "    <tr>\n",
       "      <th>Las Tunas</th>\n",
       "      <td>21.800000</td>\n",
       "    </tr>\n",
       "    <tr>\n",
       "      <th>Matanzas</th>\n",
       "      <td>20.514286</td>\n",
       "    </tr>\n",
       "    <tr>\n",
       "      <th>Mayabeque</th>\n",
       "      <td>19.725000</td>\n",
       "    </tr>\n",
       "    <tr>\n",
       "      <th>Pinar del Río</th>\n",
       "      <td>21.071429</td>\n",
       "    </tr>\n",
       "    <tr>\n",
       "      <th>Sancti Spíritus</th>\n",
       "      <td>20.350000</td>\n",
       "    </tr>\n",
       "    <tr>\n",
       "      <th>Santiago</th>\n",
       "      <td>20.400000</td>\n",
       "    </tr>\n",
       "    <tr>\n",
       "      <th>Villa Clara</th>\n",
       "      <td>20.500000</td>\n",
       "    </tr>\n",
       "  </tbody>\n",
       "</table>\n",
       "</div>"
      ],
      "text/plain": [
       "                     Temperatura mínima media (ºC)\n",
       "Provincia                                         \n",
       "Artemisa                                 21.100000\n",
       "Camagüey                                 21.116667\n",
       "Ciego de Ávila                           21.025000\n",
       "Cienfuegos                               20.700000\n",
       "Granma                                   21.280000\n",
       "Guantánamo                               21.180000\n",
       "Holguín                                  21.033333\n",
       "Isla de la Juventud                      23.466667\n",
       "La Habana                                21.550000\n",
       "Las Tunas                                21.800000\n",
       "Matanzas                                 20.514286\n",
       "Mayabeque                                19.725000\n",
       "Pinar del Río                            21.071429\n",
       "Sancti Spíritus                          20.350000\n",
       "Santiago                                 20.400000\n",
       "Villa Clara                              20.500000"
      ]
     },
     "execution_count": 37,
     "metadata": {},
     "output_type": "execute_result"
    }
   ],
   "source": [
    "tempProvincias = pd.pivot_table(clima2013, index=[\"Provincia\"], values=[\"Temperatura mínima media (ºC)\"])\n",
    "tempProvincias"
   ]
  },
  {
   "cell_type": "markdown",
   "metadata": {},
   "source": [
    "Crear un data frame de cero:"
   ]
  },
  {
   "cell_type": "code",
   "execution_count": 55,
   "metadata": {
    "collapsed": false
   },
   "outputs": [
    {
     "data": {
      "text/html": [
       "<div>\n",
       "<table border=\"1\" class=\"dataframe\">\n",
       "  <thead>\n",
       "    <tr style=\"text-align: right;\">\n",
       "      <th></th>\n",
       "      <th>Provincia</th>\n",
       "      <th>Región</th>\n",
       "    </tr>\n",
       "  </thead>\n",
       "  <tbody>\n",
       "    <tr>\n",
       "      <th>0</th>\n",
       "      <td>Pinar del Río</td>\n",
       "      <td>Occidente</td>\n",
       "    </tr>\n",
       "    <tr>\n",
       "      <th>1</th>\n",
       "      <td>La Habana</td>\n",
       "      <td>Occidente</td>\n",
       "    </tr>\n",
       "    <tr>\n",
       "      <th>2</th>\n",
       "      <td>Artemisa</td>\n",
       "      <td>Occidente</td>\n",
       "    </tr>\n",
       "    <tr>\n",
       "      <th>3</th>\n",
       "      <td>Mayabeque</td>\n",
       "      <td>Occidente</td>\n",
       "    </tr>\n",
       "    <tr>\n",
       "      <th>4</th>\n",
       "      <td>Matanzas</td>\n",
       "      <td>Occidente</td>\n",
       "    </tr>\n",
       "    <tr>\n",
       "      <th>5</th>\n",
       "      <td>Isla de la Juventud</td>\n",
       "      <td>Occidente</td>\n",
       "    </tr>\n",
       "  </tbody>\n",
       "</table>\n",
       "</div>"
      ],
      "text/plain": [
       "             Provincia     Región\n",
       "0        Pinar del Río  Occidente\n",
       "1            La Habana  Occidente\n",
       "2             Artemisa  Occidente\n",
       "3            Mayabeque  Occidente\n",
       "4             Matanzas  Occidente\n",
       "5  Isla de la Juventud  Occidente"
      ]
     },
     "execution_count": 55,
     "metadata": {},
     "output_type": "execute_result"
    }
   ],
   "source": [
    "from pandas import DataFrame\n",
    "encabezados = [\"Provincia\", \"Región\"]\n",
    "tabla = [\n",
    "    [\"Pinar del Río\", \"Occidente\"],\n",
    "    [\"La Habana\", \"Occidente\"],\n",
    "    [\"Artemisa\", \"Occidente\"],\n",
    "    [\"Mayabeque\", \"Occidente\"],\n",
    "    [\"Matanzas\", \"Occidente\"],\n",
    "    [\"Isla de la Juventud\", \"Occidente\"],\n",
    "]\n",
    "regiones = DataFrame(columns=encabezados, data=tabla)\n",
    "regiones\n",
    "\n",
    "\"\"\"    [\"Cienfuegos\", \"Centro\"],\n",
    "    [\"Villa Clara\", \"Centro\"],\n",
    "    [\"Sancti Spíritus\", \"Centro\"],\n",
    "    [\"Ciego de Ávila\", \"Centro\"],\n",
    "    [\"Camagüey\", \"Centro\"],\n",
    "    [\"Las Tunas\", \"Oriente\"],\n",
    "    [\"Granma\", \"Oriente\"],\n",
    "    [\"Santiago de Cuba\", \"Oriente\"],\n",
    "    [\"Holguín\", \"Oriente\"],\n",
    "    [\"Guantánamo\", \"Oriente\"], \"\"\"\n",
    "regiones"
   ]
  },
  {
   "cell_type": "markdown",
   "metadata": {},
   "source": [
    "## Combinar dos conjuntos de datos\n",
    "\n",
    "Es posible usar diferentes tipos de uniones para combinar dos conjuntos de datos, siempre y cuando tengan una columna común.\n",
    "\n",
    "Digamos que queremos, por ejemplo, combinar los datos que hemos visto hasta ahora con datos de superficie territorial y población en cada provincia. Para ello, importamos el conjunto de datos siguiente, tomado también del sitio de la ONEI:"
   ]
  },
  {
   "cell_type": "code",
   "execution_count": 56,
   "metadata": {
    "collapsed": false
   },
   "outputs": [
    {
     "data": {
      "text/html": [
       "<div>\n",
       "<table border=\"1\" class=\"dataframe\">\n",
       "  <thead>\n",
       "    <tr style=\"text-align: right;\">\n",
       "      <th></th>\n",
       "      <th>Provincia</th>\n",
       "      <th>Superficie</th>\n",
       "      <th>Población</th>\n",
       "      <th>Densidad de población (hab/km2)</th>\n",
       "    </tr>\n",
       "  </thead>\n",
       "  <tbody>\n",
       "    <tr>\n",
       "      <th>0</th>\n",
       "      <td>Pinar del Río</td>\n",
       "      <td>8883.74</td>\n",
       "      <td>588296</td>\n",
       "      <td>66.221659</td>\n",
       "    </tr>\n",
       "    <tr>\n",
       "      <th>1</th>\n",
       "      <td>Artemisa</td>\n",
       "      <td>4003.24</td>\n",
       "      <td>498439</td>\n",
       "      <td>124.508898</td>\n",
       "    </tr>\n",
       "    <tr>\n",
       "      <th>2</th>\n",
       "      <td>La Habana</td>\n",
       "      <td>728.26</td>\n",
       "      <td>2117343</td>\n",
       "      <td>2907.399830</td>\n",
       "    </tr>\n",
       "    <tr>\n",
       "      <th>3</th>\n",
       "      <td>Mayabeque</td>\n",
       "      <td>3743.81</td>\n",
       "      <td>378382</td>\n",
       "      <td>101.068697</td>\n",
       "    </tr>\n",
       "    <tr>\n",
       "      <th>4</th>\n",
       "      <td>Matanzas</td>\n",
       "      <td>11791.82</td>\n",
       "      <td>699215</td>\n",
       "      <td>59.296614</td>\n",
       "    </tr>\n",
       "    <tr>\n",
       "      <th>5</th>\n",
       "      <td>Villa Clara</td>\n",
       "      <td>8411.81</td>\n",
       "      <td>792292</td>\n",
       "      <td>94.188052</td>\n",
       "    </tr>\n",
       "    <tr>\n",
       "      <th>6</th>\n",
       "      <td>Cienfuegos</td>\n",
       "      <td>4188.61</td>\n",
       "      <td>405823</td>\n",
       "      <td>96.887273</td>\n",
       "    </tr>\n",
       "    <tr>\n",
       "      <th>7</th>\n",
       "      <td>Sancti Spíritus</td>\n",
       "      <td>6777.28</td>\n",
       "      <td>465164</td>\n",
       "      <td>68.635795</td>\n",
       "    </tr>\n",
       "    <tr>\n",
       "      <th>8</th>\n",
       "      <td>Ciego de Ávila</td>\n",
       "      <td>6971.64</td>\n",
       "      <td>428439</td>\n",
       "      <td>61.454550</td>\n",
       "    </tr>\n",
       "    <tr>\n",
       "      <th>9</th>\n",
       "      <td>Camagüey</td>\n",
       "      <td>15386.16</td>\n",
       "      <td>773148</td>\n",
       "      <td>50.249575</td>\n",
       "    </tr>\n",
       "    <tr>\n",
       "      <th>10</th>\n",
       "      <td>Las Tunas</td>\n",
       "      <td>6592.66</td>\n",
       "      <td>535021</td>\n",
       "      <td>81.154041</td>\n",
       "    </tr>\n",
       "    <tr>\n",
       "      <th>11</th>\n",
       "      <td>Holguín</td>\n",
       "      <td>9215.72</td>\n",
       "      <td>1037770</td>\n",
       "      <td>112.608673</td>\n",
       "    </tr>\n",
       "    <tr>\n",
       "      <th>12</th>\n",
       "      <td>Granma</td>\n",
       "      <td>8374.24</td>\n",
       "      <td>836144</td>\n",
       "      <td>99.847150</td>\n",
       "    </tr>\n",
       "    <tr>\n",
       "      <th>13</th>\n",
       "      <td>Santiago de Cuba</td>\n",
       "      <td>6227.78</td>\n",
       "      <td>1053914</td>\n",
       "      <td>169.227879</td>\n",
       "    </tr>\n",
       "    <tr>\n",
       "      <th>14</th>\n",
       "      <td>Guantánamo</td>\n",
       "      <td>6167.97</td>\n",
       "      <td>515898</td>\n",
       "      <td>83.641457</td>\n",
       "    </tr>\n",
       "    <tr>\n",
       "      <th>15</th>\n",
       "      <td>Isla de la Juventud</td>\n",
       "      <td>2419.27</td>\n",
       "      <td>84776</td>\n",
       "      <td>35.041975</td>\n",
       "    </tr>\n",
       "  </tbody>\n",
       "</table>\n",
       "</div>"
      ],
      "text/plain": [
       "               Provincia  Superficie  Población  \\\n",
       "0          Pinar del Río     8883.74     588296   \n",
       "1               Artemisa     4003.24     498439   \n",
       "2              La Habana      728.26    2117343   \n",
       "3              Mayabeque     3743.81     378382   \n",
       "4               Matanzas    11791.82     699215   \n",
       "5            Villa Clara     8411.81     792292   \n",
       "6             Cienfuegos     4188.61     405823   \n",
       "7        Sancti Spíritus     6777.28     465164   \n",
       "8         Ciego de Ávila     6971.64     428439   \n",
       "9               Camagüey    15386.16     773148   \n",
       "10             Las Tunas     6592.66     535021   \n",
       "11               Holguín     9215.72    1037770   \n",
       "12                Granma     8374.24     836144   \n",
       "13      Santiago de Cuba     6227.78    1053914   \n",
       "14            Guantánamo     6167.97     515898   \n",
       "15   Isla de la Juventud     2419.27      84776   \n",
       "\n",
       "    Densidad de población (hab/km2)  \n",
       "0                         66.221659  \n",
       "1                        124.508898  \n",
       "2                       2907.399830  \n",
       "3                        101.068697  \n",
       "4                         59.296614  \n",
       "5                         94.188052  \n",
       "6                         96.887273  \n",
       "7                         68.635795  \n",
       "8                         61.454550  \n",
       "9                         50.249575  \n",
       "10                        81.154041  \n",
       "11                       112.608673  \n",
       "12                        99.847150  \n",
       "13                       169.227879  \n",
       "14                        83.641457  \n",
       "15                        35.041975  "
      ]
     },
     "execution_count": 56,
     "metadata": {},
     "output_type": "execute_result"
    }
   ],
   "source": [
    "pobYsup = pd.read_excel(\"poblacion y superficie.xlsx\")\n",
    "pobYsup"
   ]
  },
  {
   "cell_type": "markdown",
   "metadata": {},
   "source": [
    "### Tipos de uniones\n",
    "\n",
    "Hay cuatro formas de fusionar conjuntos de datos: uniones a la izquierda, a la derecha, internas y externas. La sintaxis del comando que permite fusionar dos conjuntos de datos es similar para los cuatro:\n",
    "\n",
    "`merge(dataframe1, dataframe2, on=\"Columna_común\", how=Tipo_de_union(left, right, inner, outer))`"
   ]
  },
  {
   "cell_type": "markdown",
   "metadata": {},
   "source": [
    "### Unión izquierda\n",
    "\n",
    "Se toman las filas de la tabla de la izquierda, y se le añaden las columnas correspoindientes de la tabla de la derecha."
   ]
  },
  {
   "cell_type": "code",
   "execution_count": 57,
   "metadata": {
    "collapsed": false
   },
   "outputs": [
    {
     "data": {
      "text/html": [
       "<div>\n",
       "<table border=\"1\" class=\"dataframe\">\n",
       "  <thead>\n",
       "    <tr style=\"text-align: right;\">\n",
       "      <th></th>\n",
       "      <th>Provincia</th>\n",
       "      <th>Región</th>\n",
       "      <th>Superficie</th>\n",
       "      <th>Población</th>\n",
       "      <th>Densidad de población (hab/km2)</th>\n",
       "    </tr>\n",
       "  </thead>\n",
       "  <tbody>\n",
       "    <tr>\n",
       "      <th>0</th>\n",
       "      <td>Pinar del Río</td>\n",
       "      <td>Occidente</td>\n",
       "      <td>8883.74</td>\n",
       "      <td>588296</td>\n",
       "      <td>66.221659</td>\n",
       "    </tr>\n",
       "    <tr>\n",
       "      <th>1</th>\n",
       "      <td>La Habana</td>\n",
       "      <td>Occidente</td>\n",
       "      <td>728.26</td>\n",
       "      <td>2117343</td>\n",
       "      <td>2907.399830</td>\n",
       "    </tr>\n",
       "    <tr>\n",
       "      <th>2</th>\n",
       "      <td>Artemisa</td>\n",
       "      <td>Occidente</td>\n",
       "      <td>4003.24</td>\n",
       "      <td>498439</td>\n",
       "      <td>124.508898</td>\n",
       "    </tr>\n",
       "    <tr>\n",
       "      <th>3</th>\n",
       "      <td>Mayabeque</td>\n",
       "      <td>Occidente</td>\n",
       "      <td>3743.81</td>\n",
       "      <td>378382</td>\n",
       "      <td>101.068697</td>\n",
       "    </tr>\n",
       "    <tr>\n",
       "      <th>4</th>\n",
       "      <td>Matanzas</td>\n",
       "      <td>Occidente</td>\n",
       "      <td>11791.82</td>\n",
       "      <td>699215</td>\n",
       "      <td>59.296614</td>\n",
       "    </tr>\n",
       "    <tr>\n",
       "      <th>5</th>\n",
       "      <td>Isla de la Juventud</td>\n",
       "      <td>Occidente</td>\n",
       "      <td>NaN</td>\n",
       "      <td>NaN</td>\n",
       "      <td>NaN</td>\n",
       "    </tr>\n",
       "  </tbody>\n",
       "</table>\n",
       "</div>"
      ],
      "text/plain": [
       "             Provincia     Región  Superficie  Población  \\\n",
       "0        Pinar del Río  Occidente     8883.74     588296   \n",
       "1            La Habana  Occidente      728.26    2117343   \n",
       "2             Artemisa  Occidente     4003.24     498439   \n",
       "3            Mayabeque  Occidente     3743.81     378382   \n",
       "4             Matanzas  Occidente    11791.82     699215   \n",
       "5  Isla de la Juventud  Occidente         NaN        NaN   \n",
       "\n",
       "   Densidad de población (hab/km2)  \n",
       "0                        66.221659  \n",
       "1                      2907.399830  \n",
       "2                       124.508898  \n",
       "3                       101.068697  \n",
       "4                        59.296614  \n",
       "5                              NaN  "
      ]
     },
     "execution_count": 57,
     "metadata": {},
     "output_type": "execute_result"
    }
   ],
   "source": [
    "merge(regiones, pobYsup, on='Provincia', how='left')"
   ]
  },
  {
   "cell_type": "markdown",
   "metadata": {},
   "source": [
    "### Unión derecha\n",
    "\n",
    "Se toman las filas de la tabla a la derecha, y se le añaden las columnas correspoindientes de la tabla izquierda."
   ]
  },
  {
   "cell_type": "code",
   "execution_count": 58,
   "metadata": {
    "collapsed": false
   },
   "outputs": [
    {
     "data": {
      "text/html": [
       "<div>\n",
       "<table border=\"1\" class=\"dataframe\">\n",
       "  <thead>\n",
       "    <tr style=\"text-align: right;\">\n",
       "      <th></th>\n",
       "      <th>Provincia</th>\n",
       "      <th>Región</th>\n",
       "      <th>Superficie</th>\n",
       "      <th>Población</th>\n",
       "      <th>Densidad de población (hab/km2)</th>\n",
       "    </tr>\n",
       "  </thead>\n",
       "  <tbody>\n",
       "    <tr>\n",
       "      <th>0</th>\n",
       "      <td>Pinar del Río</td>\n",
       "      <td>Occidente</td>\n",
       "      <td>8883.74</td>\n",
       "      <td>588296</td>\n",
       "      <td>66.221659</td>\n",
       "    </tr>\n",
       "    <tr>\n",
       "      <th>1</th>\n",
       "      <td>La Habana</td>\n",
       "      <td>Occidente</td>\n",
       "      <td>728.26</td>\n",
       "      <td>2117343</td>\n",
       "      <td>2907.399830</td>\n",
       "    </tr>\n",
       "    <tr>\n",
       "      <th>2</th>\n",
       "      <td>Artemisa</td>\n",
       "      <td>Occidente</td>\n",
       "      <td>4003.24</td>\n",
       "      <td>498439</td>\n",
       "      <td>124.508898</td>\n",
       "    </tr>\n",
       "    <tr>\n",
       "      <th>3</th>\n",
       "      <td>Mayabeque</td>\n",
       "      <td>Occidente</td>\n",
       "      <td>3743.81</td>\n",
       "      <td>378382</td>\n",
       "      <td>101.068697</td>\n",
       "    </tr>\n",
       "    <tr>\n",
       "      <th>4</th>\n",
       "      <td>Matanzas</td>\n",
       "      <td>Occidente</td>\n",
       "      <td>11791.82</td>\n",
       "      <td>699215</td>\n",
       "      <td>59.296614</td>\n",
       "    </tr>\n",
       "    <tr>\n",
       "      <th>5</th>\n",
       "      <td>Villa Clara</td>\n",
       "      <td>NaN</td>\n",
       "      <td>8411.81</td>\n",
       "      <td>792292</td>\n",
       "      <td>94.188052</td>\n",
       "    </tr>\n",
       "    <tr>\n",
       "      <th>6</th>\n",
       "      <td>Cienfuegos</td>\n",
       "      <td>NaN</td>\n",
       "      <td>4188.61</td>\n",
       "      <td>405823</td>\n",
       "      <td>96.887273</td>\n",
       "    </tr>\n",
       "    <tr>\n",
       "      <th>7</th>\n",
       "      <td>Sancti Spíritus</td>\n",
       "      <td>NaN</td>\n",
       "      <td>6777.28</td>\n",
       "      <td>465164</td>\n",
       "      <td>68.635795</td>\n",
       "    </tr>\n",
       "    <tr>\n",
       "      <th>8</th>\n",
       "      <td>Ciego de Ávila</td>\n",
       "      <td>NaN</td>\n",
       "      <td>6971.64</td>\n",
       "      <td>428439</td>\n",
       "      <td>61.454550</td>\n",
       "    </tr>\n",
       "    <tr>\n",
       "      <th>9</th>\n",
       "      <td>Camagüey</td>\n",
       "      <td>NaN</td>\n",
       "      <td>15386.16</td>\n",
       "      <td>773148</td>\n",
       "      <td>50.249575</td>\n",
       "    </tr>\n",
       "    <tr>\n",
       "      <th>10</th>\n",
       "      <td>Las Tunas</td>\n",
       "      <td>NaN</td>\n",
       "      <td>6592.66</td>\n",
       "      <td>535021</td>\n",
       "      <td>81.154041</td>\n",
       "    </tr>\n",
       "    <tr>\n",
       "      <th>11</th>\n",
       "      <td>Holguín</td>\n",
       "      <td>NaN</td>\n",
       "      <td>9215.72</td>\n",
       "      <td>1037770</td>\n",
       "      <td>112.608673</td>\n",
       "    </tr>\n",
       "    <tr>\n",
       "      <th>12</th>\n",
       "      <td>Granma</td>\n",
       "      <td>NaN</td>\n",
       "      <td>8374.24</td>\n",
       "      <td>836144</td>\n",
       "      <td>99.847150</td>\n",
       "    </tr>\n",
       "    <tr>\n",
       "      <th>13</th>\n",
       "      <td>Santiago de Cuba</td>\n",
       "      <td>NaN</td>\n",
       "      <td>6227.78</td>\n",
       "      <td>1053914</td>\n",
       "      <td>169.227879</td>\n",
       "    </tr>\n",
       "    <tr>\n",
       "      <th>14</th>\n",
       "      <td>Guantánamo</td>\n",
       "      <td>NaN</td>\n",
       "      <td>6167.97</td>\n",
       "      <td>515898</td>\n",
       "      <td>83.641457</td>\n",
       "    </tr>\n",
       "    <tr>\n",
       "      <th>15</th>\n",
       "      <td>Isla de la Juventud</td>\n",
       "      <td>NaN</td>\n",
       "      <td>2419.27</td>\n",
       "      <td>84776</td>\n",
       "      <td>35.041975</td>\n",
       "    </tr>\n",
       "  </tbody>\n",
       "</table>\n",
       "</div>"
      ],
      "text/plain": [
       "               Provincia     Región  Superficie  Población  \\\n",
       "0          Pinar del Río  Occidente     8883.74     588296   \n",
       "1              La Habana  Occidente      728.26    2117343   \n",
       "2               Artemisa  Occidente     4003.24     498439   \n",
       "3              Mayabeque  Occidente     3743.81     378382   \n",
       "4               Matanzas  Occidente    11791.82     699215   \n",
       "5            Villa Clara        NaN     8411.81     792292   \n",
       "6             Cienfuegos        NaN     4188.61     405823   \n",
       "7        Sancti Spíritus        NaN     6777.28     465164   \n",
       "8         Ciego de Ávila        NaN     6971.64     428439   \n",
       "9               Camagüey        NaN    15386.16     773148   \n",
       "10             Las Tunas        NaN     6592.66     535021   \n",
       "11               Holguín        NaN     9215.72    1037770   \n",
       "12                Granma        NaN     8374.24     836144   \n",
       "13      Santiago de Cuba        NaN     6227.78    1053914   \n",
       "14            Guantánamo        NaN     6167.97     515898   \n",
       "15   Isla de la Juventud        NaN     2419.27      84776   \n",
       "\n",
       "    Densidad de población (hab/km2)  \n",
       "0                         66.221659  \n",
       "1                       2907.399830  \n",
       "2                        124.508898  \n",
       "3                        101.068697  \n",
       "4                         59.296614  \n",
       "5                         94.188052  \n",
       "6                         96.887273  \n",
       "7                         68.635795  \n",
       "8                         61.454550  \n",
       "9                         50.249575  \n",
       "10                        81.154041  \n",
       "11                       112.608673  \n",
       "12                        99.847150  \n",
       "13                       169.227879  \n",
       "14                        83.641457  \n",
       "15                        35.041975  "
      ]
     },
     "execution_count": 58,
     "metadata": {},
     "output_type": "execute_result"
    }
   ],
   "source": [
    "merge(regiones, pobYsup, on='Provincia', how='right')"
   ]
  },
  {
   "cell_type": "markdown",
   "metadata": {},
   "source": [
    "### Unión externa\n",
    "\n",
    "Une todas las filas que hay en la tabla de la derecha y la izquierda, es decir, contiene todas las filas de ambas tablas."
   ]
  },
  {
   "cell_type": "code",
   "execution_count": 59,
   "metadata": {
    "collapsed": false
   },
   "outputs": [
    {
     "data": {
      "text/html": [
       "<div>\n",
       "<table border=\"1\" class=\"dataframe\">\n",
       "  <thead>\n",
       "    <tr style=\"text-align: right;\">\n",
       "      <th></th>\n",
       "      <th>Provincia</th>\n",
       "      <th>Región</th>\n",
       "      <th>Superficie</th>\n",
       "      <th>Población</th>\n",
       "      <th>Densidad de población (hab/km2)</th>\n",
       "    </tr>\n",
       "  </thead>\n",
       "  <tbody>\n",
       "    <tr>\n",
       "      <th>0</th>\n",
       "      <td>Pinar del Río</td>\n",
       "      <td>Occidente</td>\n",
       "      <td>8883.74</td>\n",
       "      <td>588296</td>\n",
       "      <td>66.221659</td>\n",
       "    </tr>\n",
       "    <tr>\n",
       "      <th>1</th>\n",
       "      <td>La Habana</td>\n",
       "      <td>Occidente</td>\n",
       "      <td>728.26</td>\n",
       "      <td>2117343</td>\n",
       "      <td>2907.399830</td>\n",
       "    </tr>\n",
       "    <tr>\n",
       "      <th>2</th>\n",
       "      <td>Artemisa</td>\n",
       "      <td>Occidente</td>\n",
       "      <td>4003.24</td>\n",
       "      <td>498439</td>\n",
       "      <td>124.508898</td>\n",
       "    </tr>\n",
       "    <tr>\n",
       "      <th>3</th>\n",
       "      <td>Mayabeque</td>\n",
       "      <td>Occidente</td>\n",
       "      <td>3743.81</td>\n",
       "      <td>378382</td>\n",
       "      <td>101.068697</td>\n",
       "    </tr>\n",
       "    <tr>\n",
       "      <th>4</th>\n",
       "      <td>Matanzas</td>\n",
       "      <td>Occidente</td>\n",
       "      <td>11791.82</td>\n",
       "      <td>699215</td>\n",
       "      <td>59.296614</td>\n",
       "    </tr>\n",
       "    <tr>\n",
       "      <th>5</th>\n",
       "      <td>Isla de la Juventud</td>\n",
       "      <td>Occidente</td>\n",
       "      <td>NaN</td>\n",
       "      <td>NaN</td>\n",
       "      <td>NaN</td>\n",
       "    </tr>\n",
       "    <tr>\n",
       "      <th>6</th>\n",
       "      <td>Villa Clara</td>\n",
       "      <td>NaN</td>\n",
       "      <td>8411.81</td>\n",
       "      <td>792292</td>\n",
       "      <td>94.188052</td>\n",
       "    </tr>\n",
       "    <tr>\n",
       "      <th>7</th>\n",
       "      <td>Cienfuegos</td>\n",
       "      <td>NaN</td>\n",
       "      <td>4188.61</td>\n",
       "      <td>405823</td>\n",
       "      <td>96.887273</td>\n",
       "    </tr>\n",
       "    <tr>\n",
       "      <th>8</th>\n",
       "      <td>Sancti Spíritus</td>\n",
       "      <td>NaN</td>\n",
       "      <td>6777.28</td>\n",
       "      <td>465164</td>\n",
       "      <td>68.635795</td>\n",
       "    </tr>\n",
       "    <tr>\n",
       "      <th>9</th>\n",
       "      <td>Ciego de Ávila</td>\n",
       "      <td>NaN</td>\n",
       "      <td>6971.64</td>\n",
       "      <td>428439</td>\n",
       "      <td>61.454550</td>\n",
       "    </tr>\n",
       "    <tr>\n",
       "      <th>10</th>\n",
       "      <td>Camagüey</td>\n",
       "      <td>NaN</td>\n",
       "      <td>15386.16</td>\n",
       "      <td>773148</td>\n",
       "      <td>50.249575</td>\n",
       "    </tr>\n",
       "    <tr>\n",
       "      <th>11</th>\n",
       "      <td>Las Tunas</td>\n",
       "      <td>NaN</td>\n",
       "      <td>6592.66</td>\n",
       "      <td>535021</td>\n",
       "      <td>81.154041</td>\n",
       "    </tr>\n",
       "    <tr>\n",
       "      <th>12</th>\n",
       "      <td>Holguín</td>\n",
       "      <td>NaN</td>\n",
       "      <td>9215.72</td>\n",
       "      <td>1037770</td>\n",
       "      <td>112.608673</td>\n",
       "    </tr>\n",
       "    <tr>\n",
       "      <th>13</th>\n",
       "      <td>Granma</td>\n",
       "      <td>NaN</td>\n",
       "      <td>8374.24</td>\n",
       "      <td>836144</td>\n",
       "      <td>99.847150</td>\n",
       "    </tr>\n",
       "    <tr>\n",
       "      <th>14</th>\n",
       "      <td>Santiago de Cuba</td>\n",
       "      <td>NaN</td>\n",
       "      <td>6227.78</td>\n",
       "      <td>1053914</td>\n",
       "      <td>169.227879</td>\n",
       "    </tr>\n",
       "    <tr>\n",
       "      <th>15</th>\n",
       "      <td>Guantánamo</td>\n",
       "      <td>NaN</td>\n",
       "      <td>6167.97</td>\n",
       "      <td>515898</td>\n",
       "      <td>83.641457</td>\n",
       "    </tr>\n",
       "    <tr>\n",
       "      <th>16</th>\n",
       "      <td>Isla de la Juventud</td>\n",
       "      <td>NaN</td>\n",
       "      <td>2419.27</td>\n",
       "      <td>84776</td>\n",
       "      <td>35.041975</td>\n",
       "    </tr>\n",
       "  </tbody>\n",
       "</table>\n",
       "</div>"
      ],
      "text/plain": [
       "               Provincia     Región  Superficie  Población  \\\n",
       "0          Pinar del Río  Occidente     8883.74     588296   \n",
       "1              La Habana  Occidente      728.26    2117343   \n",
       "2               Artemisa  Occidente     4003.24     498439   \n",
       "3              Mayabeque  Occidente     3743.81     378382   \n",
       "4               Matanzas  Occidente    11791.82     699215   \n",
       "5    Isla de la Juventud  Occidente         NaN        NaN   \n",
       "6            Villa Clara        NaN     8411.81     792292   \n",
       "7             Cienfuegos        NaN     4188.61     405823   \n",
       "8        Sancti Spíritus        NaN     6777.28     465164   \n",
       "9         Ciego de Ávila        NaN     6971.64     428439   \n",
       "10              Camagüey        NaN    15386.16     773148   \n",
       "11             Las Tunas        NaN     6592.66     535021   \n",
       "12               Holguín        NaN     9215.72    1037770   \n",
       "13                Granma        NaN     8374.24     836144   \n",
       "14      Santiago de Cuba        NaN     6227.78    1053914   \n",
       "15            Guantánamo        NaN     6167.97     515898   \n",
       "16   Isla de la Juventud        NaN     2419.27      84776   \n",
       "\n",
       "    Densidad de población (hab/km2)  \n",
       "0                         66.221659  \n",
       "1                       2907.399830  \n",
       "2                        124.508898  \n",
       "3                        101.068697  \n",
       "4                         59.296614  \n",
       "5                               NaN  \n",
       "6                         94.188052  \n",
       "7                         96.887273  \n",
       "8                         68.635795  \n",
       "9                         61.454550  \n",
       "10                        50.249575  \n",
       "11                        81.154041  \n",
       "12                       112.608673  \n",
       "13                        99.847150  \n",
       "14                       169.227879  \n",
       "15                        83.641457  \n",
       "16                        35.041975  "
      ]
     },
     "execution_count": 59,
     "metadata": {},
     "output_type": "execute_result"
    }
   ],
   "source": [
    "merge(regiones, pobYsup, on='Provincia', how='outer')"
   ]
  },
  {
   "cell_type": "markdown",
   "metadata": {},
   "source": [
    "### Unión interna\n",
    "\n",
    "Combina solamente las filas que les son comunes a ambas tablas."
   ]
  },
  {
   "cell_type": "code",
   "execution_count": 60,
   "metadata": {
    "collapsed": false
   },
   "outputs": [
    {
     "data": {
      "text/html": [
       "<div>\n",
       "<table border=\"1\" class=\"dataframe\">\n",
       "  <thead>\n",
       "    <tr style=\"text-align: right;\">\n",
       "      <th></th>\n",
       "      <th>Provincia</th>\n",
       "      <th>Región</th>\n",
       "      <th>Superficie</th>\n",
       "      <th>Población</th>\n",
       "      <th>Densidad de población (hab/km2)</th>\n",
       "    </tr>\n",
       "  </thead>\n",
       "  <tbody>\n",
       "    <tr>\n",
       "      <th>0</th>\n",
       "      <td>Pinar del Río</td>\n",
       "      <td>Occidente</td>\n",
       "      <td>8883.74</td>\n",
       "      <td>588296</td>\n",
       "      <td>66.221659</td>\n",
       "    </tr>\n",
       "    <tr>\n",
       "      <th>1</th>\n",
       "      <td>La Habana</td>\n",
       "      <td>Occidente</td>\n",
       "      <td>728.26</td>\n",
       "      <td>2117343</td>\n",
       "      <td>2907.399830</td>\n",
       "    </tr>\n",
       "    <tr>\n",
       "      <th>2</th>\n",
       "      <td>Artemisa</td>\n",
       "      <td>Occidente</td>\n",
       "      <td>4003.24</td>\n",
       "      <td>498439</td>\n",
       "      <td>124.508898</td>\n",
       "    </tr>\n",
       "    <tr>\n",
       "      <th>3</th>\n",
       "      <td>Mayabeque</td>\n",
       "      <td>Occidente</td>\n",
       "      <td>3743.81</td>\n",
       "      <td>378382</td>\n",
       "      <td>101.068697</td>\n",
       "    </tr>\n",
       "    <tr>\n",
       "      <th>4</th>\n",
       "      <td>Matanzas</td>\n",
       "      <td>Occidente</td>\n",
       "      <td>11791.82</td>\n",
       "      <td>699215</td>\n",
       "      <td>59.296614</td>\n",
       "    </tr>\n",
       "  </tbody>\n",
       "</table>\n",
       "</div>"
      ],
      "text/plain": [
       "       Provincia     Región  Superficie  Población  \\\n",
       "0  Pinar del Río  Occidente     8883.74     588296   \n",
       "1      La Habana  Occidente      728.26    2117343   \n",
       "2       Artemisa  Occidente     4003.24     498439   \n",
       "3      Mayabeque  Occidente     3743.81     378382   \n",
       "4       Matanzas  Occidente    11791.82     699215   \n",
       "\n",
       "   Densidad de población (hab/km2)  \n",
       "0                        66.221659  \n",
       "1                      2907.399830  \n",
       "2                       124.508898  \n",
       "3                       101.068697  \n",
       "4                        59.296614  "
      ]
     },
     "execution_count": 60,
     "metadata": {},
     "output_type": "execute_result"
    }
   ],
   "source": [
    "merge(regiones, pobYsup, on='Provincia', how='inner')"
   ]
  },
  {
   "cell_type": "code",
   "execution_count": 26,
   "metadata": {
    "collapsed": false
   },
   "outputs": [
    {
     "data": {
      "text/plain": [
       "<matplotlib.axes._subplots.AxesSubplot at 0x6f09f28>"
      ]
     },
     "execution_count": 26,
     "metadata": {},
     "output_type": "execute_result"
    },
    {
     "data": {
      "image/png": "[encoded data removed]",
      "text/plain": [
       "<matplotlib.figure.Figure at 0x6f0e710>"
      ]
     },
     "metadata": {},
     "output_type": "display_data"
    }
   ],
   "source": [
    "%matplotlib inline\n",
    "lluvias2013.ix[0].plot(grid=True, figsize=(10,5))"
   ]
  },
  {
   "cell_type": "code",
   "execution_count": 61,
   "metadata": {
    "collapsed": false
   },
   "outputs": [
    {
     "data": {
      "text/plain": [
       "<matplotlib.axes._subplots.AxesSubplot at 0x83f5f60>"
      ]
     },
     "execution_count": 61,
     "metadata": {},
     "output_type": "execute_result"
    },
    {
     "data": {
      "image/png": "[encoded data removed]",
      "text/plain": [
       "<matplotlib.figure.Figure at 0x8402c18>"
      ]
     },
     "metadata": {},
     "output_type": "display_data"
    }
   ],
   "source": [
    "pobYsup[\"Superficie\"].plot()"
   ]
  }
 ],
 "metadata": {
  "kernelspec": {
   "display_name": "Python 3",
   "language": "python",
   "name": "python3"
  },
  "language_info": {
   "codemirror_mode": {
    "name": "ipython",
    "version": 3
   },
   "file_extension": ".py",
   "mimetype": "text/x-python",
   "name": "python",
   "nbconvert_exporter": "python",
   "pygments_lexer": "ipython3",
   "version": "3.4.3"
  }
 },
 "nbformat": 4,
 "nbformat_minor": 0
}
