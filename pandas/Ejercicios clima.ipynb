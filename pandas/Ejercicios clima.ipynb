{
 "cells": [
  {
   "cell_type": "markdown",
   "metadata": {},
   "source": []
  },
  {
   "cell_type": "code",
   "execution_count": 2,
   "metadata": {
    "collapsed": true
   },
   "outputs": [],
   "source": [
    "import pandas as pd"
   ]
  },
  {
   "cell_type": "code",
   "execution_count": 9,
   "metadata": {
    "collapsed": false
   },
   "outputs": [
    {
     "data": {
      "text/plain": [
       "pandas.core.frame.DataFrame"
      ]
     },
     "execution_count": 9,
     "metadata": {},
     "output_type": "execute_result"
    }
   ],
   "source": [
    "clima2013 = pd.read_excel(\"clima Cuba.xlsx\")\n",
    "type(clima2013)"
   ]
  },
  {
   "cell_type": "code",
   "execution_count": 20,
   "metadata": {
    "collapsed": false
   },
   "outputs": [
    {
     "data": {
      "text/html": [
       "<div>\n",
       "<table border=\"1\" class=\"dataframe\">\n",
       "  <thead>\n",
       "    <tr style=\"text-align: right;\">\n",
       "      <th></th>\n",
       "      <th>Provincia</th>\n",
       "      <th>Estación</th>\n",
       "      <th>Lluvia total (mm)</th>\n",
       "      <th>Lluvia total (días)</th>\n",
       "      <th>Temperatura máxima media (ºC)</th>\n",
       "      <th>Temperatura mínima media (ºC)</th>\n",
       "      <th>Viento (dirección)</th>\n",
       "      <th>Viento (rapidez) (km/h)</th>\n",
       "      <th>Humedad relativa</th>\n",
       "      <th>Nubosidad media (octavos)</th>\n",
       "    </tr>\n",
       "  </thead>\n",
       "  <tbody>\n",
       "    <tr>\n",
       "      <th>0</th>\n",
       "      <td>Pinar del Río</td>\n",
       "      <td>Cabo de San Antonio</td>\n",
       "      <td>1812.3</td>\n",
       "      <td>122</td>\n",
       "      <td>29.5</td>\n",
       "      <td>22.7</td>\n",
       "      <td>E</td>\n",
       "      <td>9</td>\n",
       "      <td>82</td>\n",
       "      <td>4</td>\n",
       "    </tr>\n",
       "    <tr>\n",
       "      <th>1</th>\n",
       "      <td>Pinar del Río</td>\n",
       "      <td>Isabel Rubio</td>\n",
       "      <td>2066.4</td>\n",
       "      <td>134</td>\n",
       "      <td>30.1</td>\n",
       "      <td>20.7</td>\n",
       "      <td>E</td>\n",
       "      <td>9.6</td>\n",
       "      <td>80</td>\n",
       "      <td>4</td>\n",
       "    </tr>\n",
       "    <tr>\n",
       "      <th>2</th>\n",
       "      <td>Pinar del Río</td>\n",
       "      <td>La Palma</td>\n",
       "      <td>1580.1</td>\n",
       "      <td>141</td>\n",
       "      <td>30.5</td>\n",
       "      <td>20.9</td>\n",
       "      <td>SE</td>\n",
       "      <td>4.9</td>\n",
       "      <td>79</td>\n",
       "      <td>4</td>\n",
       "    </tr>\n",
       "    <tr>\n",
       "      <th>3</th>\n",
       "      <td>Pinar del Río</td>\n",
       "      <td>Paso Real de San Diego</td>\n",
       "      <td>1575.0</td>\n",
       "      <td>120</td>\n",
       "      <td>30.3</td>\n",
       "      <td>20.7</td>\n",
       "      <td>ENE</td>\n",
       "      <td>4.6</td>\n",
       "      <td>84</td>\n",
       "      <td>4</td>\n",
       "    </tr>\n",
       "    <tr>\n",
       "      <th>4</th>\n",
       "      <td>Pinar del Río</td>\n",
       "      <td>Pinar del Río</td>\n",
       "      <td>1716.8</td>\n",
       "      <td>128</td>\n",
       "      <td>30.1</td>\n",
       "      <td>20.2</td>\n",
       "      <td>E</td>\n",
       "      <td>8.7</td>\n",
       "      <td>79</td>\n",
       "      <td>4</td>\n",
       "    </tr>\n",
       "  </tbody>\n",
       "</table>\n",
       "</div>"
      ],
      "text/plain": [
       "       Provincia                Estación  Lluvia total (mm)  \\\n",
       "0  Pinar del Río     Cabo de San Antonio             1812.3   \n",
       "1  Pinar del Río            Isabel Rubio             2066.4   \n",
       "2  Pinar del Río                La Palma             1580.1   \n",
       "3  Pinar del Río  Paso Real de San Diego             1575.0   \n",
       "4  Pinar del Río           Pinar del Río             1716.8   \n",
       "\n",
       "   Lluvia total (días)  Temperatura máxima media (ºC)  \\\n",
       "0                  122                           29.5   \n",
       "1                  134                           30.1   \n",
       "2                  141                           30.5   \n",
       "3                  120                           30.3   \n",
       "4                  128                           30.1   \n",
       "\n",
       "   Temperatura mínima media (ºC) Viento (dirección) Viento (rapidez) (km/h)  \\\n",
       "0                           22.7                  E                       9   \n",
       "1                           20.7                  E                     9.6   \n",
       "2                           20.9                 SE                     4.9   \n",
       "3                           20.7                ENE                     4.6   \n",
       "4                           20.2                  E                     8.7   \n",
       "\n",
       "   Humedad relativa  Nubosidad media (octavos)  \n",
       "0                82                          4  \n",
       "1                80                          4  \n",
       "2                79                          4  \n",
       "3                84                          4  \n",
       "4                79                          4  "
      ]
     },
     "execution_count": 20,
     "metadata": {},
     "output_type": "execute_result"
    }
   ],
   "source": [
    "clima2013.head()"
   ]
  },
  {
   "cell_type": "code",
   "execution_count": 22,
   "metadata": {
    "collapsed": false
   },
   "outputs": [
    {
     "data": {
      "text/html": [
       "<div>\n",
       "<table border=\"1\" class=\"dataframe\">\n",
       "  <thead>\n",
       "    <tr style=\"text-align: right;\">\n",
       "      <th></th>\n",
       "      <th>Provincia</th>\n",
       "      <th>Estación</th>\n",
       "      <th>Lluvia total (mm)</th>\n",
       "      <th>Lluvia total (días)</th>\n",
       "      <th>Temperatura máxima media (ºC)</th>\n",
       "      <th>Temperatura mínima media (ºC)</th>\n",
       "      <th>Viento (dirección)</th>\n",
       "      <th>Viento (rapidez) (km/h)</th>\n",
       "      <th>Humedad relativa</th>\n",
       "      <th>Nubosidad media (octavos)</th>\n",
       "    </tr>\n",
       "  </thead>\n",
       "  <tbody>\n",
       "    <tr>\n",
       "      <th>54</th>\n",
       "      <td>Granma</td>\n",
       "      <td>Jucarito</td>\n",
       "      <td>1228.1</td>\n",
       "      <td>126</td>\n",
       "      <td>32.8</td>\n",
       "      <td>20.7</td>\n",
       "      <td>E</td>\n",
       "      <td>12.3</td>\n",
       "      <td>75</td>\n",
       "      <td>3</td>\n",
       "    </tr>\n",
       "    <tr>\n",
       "      <th>55</th>\n",
       "      <td>Granma</td>\n",
       "      <td>Manzanillo</td>\n",
       "      <td>989.5</td>\n",
       "      <td>86</td>\n",
       "      <td>32.3</td>\n",
       "      <td>21.1</td>\n",
       "      <td>E</td>\n",
       "      <td>8.8</td>\n",
       "      <td>77</td>\n",
       "      <td>3</td>\n",
       "    </tr>\n",
       "    <tr>\n",
       "      <th>56</th>\n",
       "      <td>Granma</td>\n",
       "      <td>Veguitas</td>\n",
       "      <td>1278.2</td>\n",
       "      <td>127</td>\n",
       "      <td>33.4</td>\n",
       "      <td>20.5</td>\n",
       "      <td>E</td>\n",
       "      <td>9.7</td>\n",
       "      <td>75</td>\n",
       "      <td>4</td>\n",
       "    </tr>\n",
       "    <tr>\n",
       "      <th>57</th>\n",
       "      <td>Granma</td>\n",
       "      <td>Media Provincial</td>\n",
       "      <td>1059.1</td>\n",
       "      <td>115</td>\n",
       "      <td>32.4</td>\n",
       "      <td>21.3</td>\n",
       "      <td>..</td>\n",
       "      <td>..</td>\n",
       "      <td>76</td>\n",
       "      <td>4</td>\n",
       "    </tr>\n",
       "    <tr>\n",
       "      <th>60</th>\n",
       "      <td>Santiago</td>\n",
       "      <td>Santiago de Cuba</td>\n",
       "      <td>998.4</td>\n",
       "      <td>121</td>\n",
       "      <td>32.6</td>\n",
       "      <td>23.8</td>\n",
       "      <td>NE</td>\n",
       "      <td>10.6</td>\n",
       "      <td>70</td>\n",
       "      <td>4</td>\n",
       "    </tr>\n",
       "    <tr>\n",
       "      <th>61</th>\n",
       "      <td>Guantánamo</td>\n",
       "      <td>Guantánamo</td>\n",
       "      <td>851.1</td>\n",
       "      <td>104</td>\n",
       "      <td>32.9</td>\n",
       "      <td>20.6</td>\n",
       "      <td>NNE</td>\n",
       "      <td>7.1</td>\n",
       "      <td>73</td>\n",
       "      <td>3</td>\n",
       "    </tr>\n",
       "  </tbody>\n",
       "</table>\n",
       "</div>"
      ],
      "text/plain": [
       "     Provincia          Estación  Lluvia total (mm)  Lluvia total (días)  \\\n",
       "54      Granma          Jucarito             1228.1                  126   \n",
       "55      Granma        Manzanillo              989.5                   86   \n",
       "56      Granma          Veguitas             1278.2                  127   \n",
       "57      Granma  Media Provincial             1059.1                  115   \n",
       "60   Santiago   Santiago de Cuba              998.4                  121   \n",
       "61  Guantánamo        Guantánamo              851.1                  104   \n",
       "\n",
       "    Temperatura máxima media (ºC)  Temperatura mínima media (ºC)  \\\n",
       "54                           32.8                           20.7   \n",
       "55                           32.3                           21.1   \n",
       "56                           33.4                           20.5   \n",
       "57                           32.4                           21.3   \n",
       "60                           32.6                           23.8   \n",
       "61                           32.9                           20.6   \n",
       "\n",
       "   Viento (dirección) Viento (rapidez) (km/h)  Humedad relativa  \\\n",
       "54                  E                    12.3                75   \n",
       "55                  E                     8.8                77   \n",
       "56                  E                     9.7                75   \n",
       "57                 ..                      ..                76   \n",
       "60                 NE                    10.6                70   \n",
       "61                NNE                     7.1                73   \n",
       "\n",
       "    Nubosidad media (octavos)  \n",
       "54                          3  \n",
       "55                          3  \n",
       "56                          4  \n",
       "57                          4  \n",
       "60                          4  \n",
       "61                          3  "
      ]
     },
     "execution_count": 22,
     "metadata": {},
     "output_type": "execute_result"
    }
   ],
   "source": [
    "clima2013[clima2013[\"Temperatura máxima media (ºC)\"] > 32]"
   ]
  },
  {
   "cell_type": "code",
   "execution_count": 32,
   "metadata": {
    "collapsed": false
   },
   "outputs": [
    {
     "data": {
      "text/html": [
       "<div>\n",
       "<table border=\"1\" class=\"dataframe\">\n",
       "  <thead>\n",
       "    <tr style=\"text-align: right;\">\n",
       "      <th></th>\n",
       "      <th>Provincia</th>\n",
       "      <th>Estación</th>\n",
       "      <th>Lluvia total (mm)</th>\n",
       "      <th>Lluvia total (días)</th>\n",
       "      <th>Temperatura máxima media (ºC)</th>\n",
       "      <th>Temperatura mínima media (ºC)</th>\n",
       "      <th>Viento (dirección)</th>\n",
       "      <th>Viento (rapidez) (km/h)</th>\n",
       "      <th>Humedad relativa</th>\n",
       "      <th>Nubosidad media (octavos)</th>\n",
       "    </tr>\n",
       "  </thead>\n",
       "  <tbody>\n",
       "    <tr>\n",
       "      <th>68</th>\n",
       "      <td>Isla de la Juventud</td>\n",
       "      <td>La Fé</td>\n",
       "      <td>1629.2</td>\n",
       "      <td>125</td>\n",
       "      <td>21.9</td>\n",
       "      <td>25.3</td>\n",
       "      <td>E</td>\n",
       "      <td>12.9</td>\n",
       "      <td>80</td>\n",
       "      <td>4</td>\n",
       "    </tr>\n",
       "  </tbody>\n",
       "</table>\n",
       "</div>"
      ],
      "text/plain": [
       "              Provincia Estación  Lluvia total (mm)  Lluvia total (días)  \\\n",
       "68  Isla de la Juventud    La Fé             1629.2                  125   \n",
       "\n",
       "    Temperatura máxima media (ºC)  Temperatura mínima media (ºC)  \\\n",
       "68                           21.9                           25.3   \n",
       "\n",
       "   Viento (dirección) Viento (rapidez) (km/h)  Humedad relativa  \\\n",
       "68                  E                    12.9                80   \n",
       "\n",
       "    Nubosidad media (octavos)  \n",
       "68                          4  "
      ]
     },
     "execution_count": 32,
     "metadata": {},
     "output_type": "execute_result"
    }
   ],
   "source": [
    "clima2013.tail(1)"
   ]
  },
  {
   "cell_type": "code",
   "execution_count": 33,
   "metadata": {
    "collapsed": false
   },
   "outputs": [
    {
     "data": {
      "text/plain": [
       "Index(['Provincia', 'Estación', 'Lluvia total (mm)', 'Lluvia total (días)',\n",
       "       'Temperatura máxima media (ºC)', 'Temperatura mínima media (ºC)',\n",
       "       'Viento (dirección)', 'Viento (rapidez) (km/h)', 'Humedad relativa',\n",
       "       'Nubosidad media (octavos)'],\n",
       "      dtype='object')"
      ]
     },
     "execution_count": 33,
     "metadata": {},
     "output_type": "execute_result"
    }
   ],
   "source": [
    "clima2013.columns"
   ]
  },
  {
   "cell_type": "code",
   "execution_count": 10,
   "metadata": {
    "collapsed": false
   },
   "outputs": [
    {
     "data": {
      "text/plain": [
       "(69, 10)"
      ]
     },
     "execution_count": 10,
     "metadata": {},
     "output_type": "execute_result"
    }
   ],
   "source": [
    "clima2013.shape"
   ]
  },
  {
   "cell_type": "code",
   "execution_count": 31,
   "metadata": {
    "collapsed": false
   },
   "outputs": [
    {
     "data": {
      "text/html": [
       "<div>\n",
       "<table border=\"1\" class=\"dataframe\">\n",
       "  <thead>\n",
       "    <tr style=\"text-align: right;\">\n",
       "      <th></th>\n",
       "      <th>Provincia</th>\n",
       "      <th>Estación</th>\n",
       "      <th>Lluvia total (mm)</th>\n",
       "      <th>Lluvia total (días)</th>\n",
       "      <th>Temperatura máxima media (ºC)</th>\n",
       "      <th>Temperatura mínima media (ºC)</th>\n",
       "      <th>Viento (dirección)</th>\n",
       "      <th>Viento (rapidez) (km/h)</th>\n",
       "      <th>Humedad relativa</th>\n",
       "      <th>Nubosidad media (octavos)</th>\n",
       "    </tr>\n",
       "  </thead>\n",
       "  <tbody>\n",
       "    <tr>\n",
       "      <th>0</th>\n",
       "      <td>Pinar del Río</td>\n",
       "      <td>Cabo de San Antonio</td>\n",
       "      <td>1812.3</td>\n",
       "      <td>122</td>\n",
       "      <td>29.5</td>\n",
       "      <td>22.7</td>\n",
       "      <td>E</td>\n",
       "      <td>9</td>\n",
       "      <td>82</td>\n",
       "      <td>4</td>\n",
       "    </tr>\n",
       "    <tr>\n",
       "      <th>1</th>\n",
       "      <td>Pinar del Río</td>\n",
       "      <td>Isabel Rubio</td>\n",
       "      <td>2066.4</td>\n",
       "      <td>134</td>\n",
       "      <td>30.1</td>\n",
       "      <td>20.7</td>\n",
       "      <td>E</td>\n",
       "      <td>9.6</td>\n",
       "      <td>80</td>\n",
       "      <td>4</td>\n",
       "    </tr>\n",
       "  </tbody>\n",
       "</table>\n",
       "</div>"
      ],
      "text/plain": [
       "       Provincia             Estación  Lluvia total (mm)  Lluvia total (días)  \\\n",
       "0  Pinar del Río  Cabo de San Antonio             1812.3                  122   \n",
       "1  Pinar del Río         Isabel Rubio             2066.4                  134   \n",
       "\n",
       "   Temperatura máxima media (ºC)  Temperatura mínima media (ºC)  \\\n",
       "0                           29.5                           22.7   \n",
       "1                           30.1                           20.7   \n",
       "\n",
       "  Viento (dirección) Viento (rapidez) (km/h)  Humedad relativa  \\\n",
       "0                  E                       9                82   \n",
       "1                  E                     9.6                80   \n",
       "\n",
       "   Nubosidad media (octavos)  \n",
       "0                          4  \n",
       "1                          4  "
      ]
     },
     "execution_count": 31,
     "metadata": {},
     "output_type": "execute_result"
    }
   ],
   "source": []
  },
  {
   "cell_type": "code",
   "execution_count": 41,
   "metadata": {
    "collapsed": false
   },
   "outputs": [
    {
     "ename": "AttributeError",
     "evalue": "'DataFrame' object has no attribute 'description'",
     "output_type": "error",
     "traceback": [
      "\u001b[0;31m---------------------------------------------------------------------------\u001b[0m",
      "\u001b[0;31mAttributeError\u001b[0m                            Traceback (most recent call last)",
      "\u001b[0;32m<ipython-input-41-3e0eef9562c6>\u001b[0m in \u001b[0;36m<module>\u001b[0;34m()\u001b[0m\n\u001b[0;32m----> 1\u001b[0;31m \u001b[0mclima2013\u001b[0m\u001b[0;34m.\u001b[0m\u001b[0mdescription\u001b[0m\u001b[0;34m\u001b[0m\u001b[0m\n\u001b[0m",
      "\u001b[0;32mc:\\users\\admin\\anaconda3.1\\lib\\site-packages\\pandas\\core\\generic.py\u001b[0m in \u001b[0;36m__getattr__\u001b[0;34m(self, name)\u001b[0m\n\u001b[1;32m   2148\u001b[0m                 \u001b[0;32mreturn\u001b[0m \u001b[0mself\u001b[0m\u001b[0;34m[\u001b[0m\u001b[0mname\u001b[0m\u001b[0;34m]\u001b[0m\u001b[0;34m\u001b[0m\u001b[0m\n\u001b[1;32m   2149\u001b[0m             raise AttributeError(\"'%s' object has no attribute '%s'\" %\n\u001b[0;32m-> 2150\u001b[0;31m                                  (type(self).__name__, name))\n\u001b[0m\u001b[1;32m   2151\u001b[0m \u001b[0;34m\u001b[0m\u001b[0m\n\u001b[1;32m   2152\u001b[0m     \u001b[0;32mdef\u001b[0m \u001b[0m__setattr__\u001b[0m\u001b[0;34m(\u001b[0m\u001b[0mself\u001b[0m\u001b[0;34m,\u001b[0m \u001b[0mname\u001b[0m\u001b[0;34m,\u001b[0m \u001b[0mvalue\u001b[0m\u001b[0;34m)\u001b[0m\u001b[0;34m:\u001b[0m\u001b[0;34m\u001b[0m\u001b[0m\n",
      "\u001b[0;31mAttributeError\u001b[0m: 'DataFrame' object has no attribute 'description'"
     ]
    }
   ],
   "source": [
    "clima2013.description"
   ]
  },
  {
   "cell_type": "code",
   "execution_count": 50,
   "metadata": {
    "collapsed": false
   },
   "outputs": [
    {
     "data": {
      "text/html": [
       "<div>\n",
       "<table border=\"1\" class=\"dataframe\">\n",
       "  <thead>\n",
       "    <tr style=\"text-align: right;\">\n",
       "      <th></th>\n",
       "      <th>Provincia</th>\n",
       "      <th>Estación</th>\n",
       "      <th>Lluvia total (mm)</th>\n",
       "      <th>Lluvia total (días)</th>\n",
       "      <th>Temperatura máxima media (ºC)</th>\n",
       "      <th>Temperatura mínima media (ºC)</th>\n",
       "      <th>Viento (dirección)</th>\n",
       "      <th>Viento (rapidez) (km/h)</th>\n",
       "      <th>Humedad relativa</th>\n",
       "      <th>Nubosidad media (octavos)</th>\n",
       "    </tr>\n",
       "  </thead>\n",
       "  <tbody>\n",
       "    <tr>\n",
       "      <th>13</th>\n",
       "      <td>Mayabeque</td>\n",
       "      <td>Batabanó</td>\n",
       "      <td>NaN</td>\n",
       "      <td>NaN</td>\n",
       "      <td>NaN</td>\n",
       "      <td>NaN</td>\n",
       "      <td>NaN</td>\n",
       "      <td>NaN</td>\n",
       "      <td>NaN</td>\n",
       "      <td>NaN</td>\n",
       "    </tr>\n",
       "  </tbody>\n",
       "</table>\n",
       "</div>"
      ],
      "text/plain": [
       "    Provincia  Estación  Lluvia total (mm)  Lluvia total (días)  \\\n",
       "13  Mayabeque  Batabanó                NaN                  NaN   \n",
       "\n",
       "    Temperatura máxima media (ºC)  Temperatura mínima media (ºC)  \\\n",
       "13                            NaN                            NaN   \n",
       "\n",
       "   Viento (dirección) Viento (rapidez) (km/h)  Humedad relativa  \\\n",
       "13                NaN                     NaN               NaN   \n",
       "\n",
       "    Nubosidad media (octavos)  \n",
       "13                        NaN  "
      ]
     },
     "execution_count": 50,
     "metadata": {},
     "output_type": "execute_result"
    }
   ],
   "source": [
    "clima2013[clima2013[\"Lluvia total (mm)\"].isnull()]"
   ]
  },
  {
   "cell_type": "code",
   "execution_count": null,
   "metadata": {
    "collapsed": true
   },
   "outputs": [],
   "source": [
    "london['Events'] = london['Events'].fillna('')"
   ]
  },
  {
   "cell_type": "code",
   "execution_count": null,
   "metadata": {
    "collapsed": true
   },
   "outputs": [],
   "source": [
    "london.dropna()"
   ]
  },
  {
   "cell_type": "code",
   "execution_count": 51,
   "metadata": {
    "collapsed": false
   },
   "outputs": [
    {
     "data": {
      "text/plain": [
       "Provincia                         object\n",
       "Estación                          object\n",
       "Lluvia total (mm)                float64\n",
       "Lluvia total (días)              float64\n",
       "Temperatura máxima media (ºC)    float64\n",
       "Temperatura mínima media (ºC)    float64\n",
       "Viento (dirección)                object\n",
       "Viento (rapidez) (km/h)           object\n",
       "Humedad relativa                 float64\n",
       "Nubosidad media (octavos)        float64\n",
       "dtype: object"
      ]
     },
     "execution_count": 51,
     "metadata": {},
     "output_type": "execute_result"
    }
   ],
   "source": [
    "clima2013.dtypes"
   ]
  },
  {
   "cell_type": "code",
   "execution_count": null,
   "metadata": {
    "collapsed": true
   },
   "outputs": [],
   "source": [
    "london['WindDirDegrees'] = london['WindDirDegrees'].astype('int64')"
   ]
  },
  {
   "cell_type": "code",
   "execution_count": 16,
   "metadata": {
    "collapsed": false
   },
   "outputs": [],
   "source": [
    "totales = pd.pivot_table(clima2013, index=[\"Provincia\"], values=[\"Lluvia total (mm)\"])"
   ]
  },
  {
   "cell_type": "code",
   "execution_count": 23,
   "metadata": {
    "collapsed": false
   },
   "outputs": [
    {
     "data": {
      "text/html": [
       "<div>\n",
       "<table border=\"1\" class=\"dataframe\">\n",
       "  <thead>\n",
       "    <tr style=\"text-align: right;\">\n",
       "      <th></th>\n",
       "      <th>Lluvia total (mm)</th>\n",
       "    </tr>\n",
       "    <tr>\n",
       "      <th>Provincia</th>\n",
       "      <th></th>\n",
       "    </tr>\n",
       "  </thead>\n",
       "  <tbody>\n",
       "    <tr>\n",
       "      <th>La Habana</th>\n",
       "      <td>1938.350000</td>\n",
       "    </tr>\n",
       "    <tr>\n",
       "      <th>Pinar del Río</th>\n",
       "      <td>1760.985714</td>\n",
       "    </tr>\n",
       "    <tr>\n",
       "      <th>Artemisa</th>\n",
       "      <td>1739.133333</td>\n",
       "    </tr>\n",
       "    <tr>\n",
       "      <th>Cienfuegos</th>\n",
       "      <td>1521.150000</td>\n",
       "    </tr>\n",
       "    <tr>\n",
       "      <th>Isla de la Juventud</th>\n",
       "      <td>1439.266667</td>\n",
       "    </tr>\n",
       "    <tr>\n",
       "      <th>Mayabeque</th>\n",
       "      <td>1427.625000</td>\n",
       "    </tr>\n",
       "    <tr>\n",
       "      <th>Villa Clara</th>\n",
       "      <td>1401.780000</td>\n",
       "    </tr>\n",
       "    <tr>\n",
       "      <th>Sancti Spíritus</th>\n",
       "      <td>1273.050000</td>\n",
       "    </tr>\n",
       "    <tr>\n",
       "      <th>Ciego de Ávila</th>\n",
       "      <td>1222.025000</td>\n",
       "    </tr>\n",
       "    <tr>\n",
       "      <th>Matanzas</th>\n",
       "      <td>1210.028571</td>\n",
       "    </tr>\n",
       "    <tr>\n",
       "      <th>Holguín</th>\n",
       "      <td>1187.733333</td>\n",
       "    </tr>\n",
       "    <tr>\n",
       "      <th>Santiago</th>\n",
       "      <td>1173.400000</td>\n",
       "    </tr>\n",
       "    <tr>\n",
       "      <th>Camagüey</th>\n",
       "      <td>1138.750000</td>\n",
       "    </tr>\n",
       "    <tr>\n",
       "      <th>Las Tunas</th>\n",
       "      <td>1101.950000</td>\n",
       "    </tr>\n",
       "    <tr>\n",
       "      <th>Granma</th>\n",
       "      <td>1059.060000</td>\n",
       "    </tr>\n",
       "    <tr>\n",
       "      <th>Guantánamo</th>\n",
       "      <td>884.740000</td>\n",
       "    </tr>\n",
       "  </tbody>\n",
       "</table>\n",
       "</div>"
      ],
      "text/plain": [
       "                     Lluvia total (mm)\n",
       "Provincia                             \n",
       "La Habana                  1938.350000\n",
       "Pinar del Río              1760.985714\n",
       "Artemisa                   1739.133333\n",
       "Cienfuegos                 1521.150000\n",
       "Isla de la Juventud        1439.266667\n",
       "Mayabeque                  1427.625000\n",
       "Villa Clara                1401.780000\n",
       "Sancti Spíritus            1273.050000\n",
       "Ciego de Ávila             1222.025000\n",
       "Matanzas                   1210.028571\n",
       "Holguín                    1187.733333\n",
       "Santiago                   1173.400000\n",
       "Camagüey                   1138.750000\n",
       "Las Tunas                  1101.950000\n",
       "Granma                     1059.060000\n",
       "Guantánamo                  884.740000"
      ]
     },
     "execution_count": 23,
     "metadata": {},
     "output_type": "execute_result"
    }
   ],
   "source": [
    "totales.sort(\"Lluvia total (mm)\", ascending=False)"
   ]
  },
  {
   "cell_type": "code",
   "execution_count": 13,
   "metadata": {
    "collapsed": false
   },
   "outputs": [
    {
     "data": {
      "text/plain": [
       "Lluvia total (mm)                1716.8\n",
       "Lluvia total (días)               130.0\n",
       "Temperatura máxima media (ºC)      30.1\n",
       "Temperatura mínima media (ºC)      20.9\n",
       "Humedad relativa                   80.0\n",
       "Nubosidad media (octavos)           4.0\n",
       "dtype: float64"
      ]
     },
     "execution_count": 13,
     "metadata": {},
     "output_type": "execute_result"
    }
   ],
   "source": [
    "climaPinar = clima2013[clima2013['Provincia'] == \"Pinar del Río\"]\n",
    "climaPinar.median()"
   ]
  },
  {
   "cell_type": "code",
   "execution_count": 33,
   "metadata": {
    "collapsed": false
   },
   "outputs": [
    {
     "data": {
      "text/plain": [
       "Provincia\n",
       "Artemisa               22.0\n",
       "Camagüey               23.1\n",
       "Ciego de Ávila         24.0\n",
       "Cienfuegos             21.2\n",
       "Granma                 22.8\n",
       "Guantánamo             25.0\n",
       "Holguín                24.2\n",
       "Isla de la Juventud    25.3\n",
       "La Habana              22.4\n",
       "Las Tunas              21.9\n",
       "Matanzas               23.9\n",
       "Mayabeque              20.4\n",
       "Pinar del Río          22.7\n",
       "Sancti Spíritus        22.3\n",
       "Santiago               23.8\n",
       "Villa Clara            21.9\n",
       "Name: Temperatura mínima media (ºC), dtype: float64"
      ]
     },
     "execution_count": 33,
     "metadata": {},
     "output_type": "execute_result"
    }
   ],
   "source": [
    "pinar = clima2013.groupby([\"Provincia\"])['Temperatura mínima media (ºC)'].aggregate(max)\n",
    "pinar"
   ]
  },
  {
   "cell_type": "code",
   "execution_count": 34,
   "metadata": {
    "collapsed": false
   },
   "outputs": [
    {
     "data": {
      "text/plain": [
       "33.4"
      ]
     },
     "execution_count": 34,
     "metadata": {},
     "output_type": "execute_result"
    }
   ],
   "source": [
    "clima2013[\"Temperatura máxima media (ºC)\"].max()"
   ]
  }
 ],
 "metadata": {
  "kernelspec": {
   "display_name": "Python 3",
   "language": "python",
   "name": "python3"
  },
  "language_info": {
   "codemirror_mode": {
    "name": "ipython",
    "version": 3
   },
   "file_extension": ".py",
   "mimetype": "text/x-python",
   "name": "python",
   "nbconvert_exporter": "python",
   "pygments_lexer": "ipython3",
   "version": "3.4.3"
  }
 },
 "nbformat": 4,
 "nbformat_minor": 0
}
