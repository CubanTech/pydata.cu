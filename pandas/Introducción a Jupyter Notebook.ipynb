{
 "cells": [
  {
   "cell_type": "markdown",
   "metadata": {
    "slideshow": {
     "slide_type": "slide"
    }
   },
   "source": [
    "# Introducción a Jupyter Notebook\n",
    "## *CubanTech Meetup #16: HackLab Python y pandas para periodismo de datos*\n",
    "##### *La Habana, 29 de julio de 2017*\n"
   ]
  },
  {
   "cell_type": "markdown",
   "metadata": {
    "slideshow": {
     "slide_type": "slide"
    }
   },
   "source": [
    "# Temas\n",
    "\n",
    "**Tipos de elementos que combina**\n",
    "   1. Texto\n",
    "   2. Código\n",
    "   3. Gráficos\n",
    "   4. Imágenes\n",
    "\n",
    "**Interfaz y controles**\n",
    "   1. Principales elementos\n",
    "   2. Teclas para acceso rápido\n",
    "   2. Obtener ayuda"
   ]
  },
  {
   "cell_type": "markdown",
   "metadata": {},
   "source": [
    "## Abrir Jupyter\n",
    "Para hacer que el notebook comience a ejecutarse en el navegador, escribe el comando siguiente en tu terminal:"
   ]
  },
  {
   "cell_type": "markdown",
   "metadata": {},
   "source": [
    "![](abrir jupyter.jpg)"
   ]
  },
  {
   "cell_type": "markdown",
   "metadata": {
    "slideshow": {
     "slide_type": "slide"
    }
   },
   "source": [
    "# 1 Texto: Formato Markdown\n",
    "\n",
    "La sintaxis de codificación de Markdown permite formatear el texto de manera simple, sin dejar de ser comprensible para un lector humano.\n",
    "\n",
    "### 1.1. Títulos, encabezamientos, epígrafes\n",
    "\n",
    "Se introducen con diferentes cantidades de signos de número, \"#\", incrementando la cantidad a medida que se incrementan las subdivisiones.\n",
    "\n",
    "### Ejemplos:"
   ]
  },
  {
   "cell_type": "markdown",
   "metadata": {
    "slideshow": {
     "slide_type": "subslide"
    }
   },
   "source": [
    "# Título principal o de primer nivel\n",
    "\n",
    "## Título de segundo nivel\n",
    "\n",
    "### Título de tercer nivel\n",
    "\n",
    "#### Título de cuarto nivel\n",
    "\n",
    "##### Título de quinto nivel\n",
    "\n",
    "###### Título de sexto nivel"
   ]
  },
  {
   "cell_type": "markdown",
   "metadata": {
    "slideshow": {
     "slide_type": "subslide"
    }
   },
   "source": [
    "# Título principal o de primer nivel\n",
    "\n",
    "## Título de segundo nivel\n",
    "\n",
    "### Título de tercer nivel\n",
    "\n",
    "#### Título de cuarto nivel\n",
    "\n",
    "##### Título de quinto nivel\n",
    "\n",
    "###### Título de sexto nivel"
   ]
  },
  {
   "cell_type": "markdown",
   "metadata": {},
   "source": [
    "### 1.2 Texto resaltado"
   ]
  },
  {
   "cell_type": "markdown",
   "metadata": {},
   "source": [
    "Cursivas --> *Al encerrar el texto entre asteriscos simples se convierte a cursivas*\n",
    "\n",
    "Negritas --> **Al encerrar el texto entre asteriscos dobles se convierte a negritas**\n",
    "\n",
    "Negritas y cursivas --> ***Al encerrar el texto entre asteriscos triples se convierte a negritas y cursivas***"
   ]
  },
  {
   "cell_type": "markdown",
   "metadata": {},
   "source": [
    "Cursivas --> *Al encerrar el texto entre asteriscos simples se convierte a cursivas*\n",
    "\n",
    "Negritas --> **Al encerrar el texto entre asteriscos dobles se convierte a negritas**\n",
    "\n",
    "Negritas y cursivas --> ***Al encerrar el texto entre asteriscos triples se convierte a negritas y cursivas***"
   ]
  },
  {
   "cell_type": "markdown",
   "metadata": {},
   "source": [
    "### 1.3. Hipervínculos\n",
    "\n",
    "Los hipervínculos se introducen colocando el texto hipervinculado entre corchetes, y a continuación la URL entre paréntesis:"
   ]
  },
  {
   "cell_type": "markdown",
   "metadata": {},
   "source": [
    "[CubanTech Meetup](www.meetup.com)\n",
    "\n",
    "[Documentación para pandas](http://pandas.sourceforge.net)"
   ]
  },
  {
   "cell_type": "markdown",
   "metadata": {},
   "source": [
    "[CubanTech Meetup](www.meetup.com/)\n",
    "\n",
    "[Documentación para pandas](http://pandas.sourceforge.net)"
   ]
  },
  {
   "cell_type": "markdown",
   "metadata": {},
   "source": [
    "## 2. Código"
   ]
  },
  {
   "cell_type": "code",
   "execution_count": 1,
   "metadata": {
    "collapsed": false
   },
   "outputs": [
    {
     "name": "stdout",
     "output_type": "stream",
     "text": [
      "Es fin de semana.\n"
     ]
    }
   ],
   "source": [
    "def diaSemana(hoy):\n",
    "    if hoy == \"Sábado\" or hoy == \"Domingo\":\n",
    "        print(\"Es fin de semana.\")\n",
    "    else: print(\"Hoy es día laboral.\")\n",
    "        \n",
    "diaSemana(\"Sábado\")"
   ]
  },
  {
   "cell_type": "markdown",
   "metadata": {},
   "source": [
    "En el código también se puede incluir texto a manera de comentario:\n",
    "\n",
    "Líneas sencillas precedidas de un símbolo de número:"
   ]
  },
  {
   "cell_type": "code",
   "execution_count": 4,
   "metadata": {
    "collapsed": true
   },
   "outputs": [],
   "source": [
    "# esto es un comentario de una sola línea"
   ]
  },
  {
   "cell_type": "markdown",
   "metadata": {},
   "source": [
    "O más de una línea, usando comillas triples:"
   ]
  },
  {
   "cell_type": "code",
   "execution_count": 3,
   "metadata": {
    "collapsed": false
   },
   "outputs": [
    {
     "data": {
      "text/plain": [
       "'Este comentario\\npuede ser subdividido\\nen varias líneas\\nde texto'"
      ]
     },
     "execution_count": 3,
     "metadata": {},
     "output_type": "execute_result"
    }
   ],
   "source": [
    "\"\"\"Este comentario\n",
    "puede ser subdividido\n",
    "en varias líneas\n",
    "de texto\"\"\""
   ]
  },
  {
   "cell_type": "markdown",
   "metadata": {},
   "source": [
    "## 3. Gráficos"
   ]
  },
  {
   "cell_type": "code",
   "execution_count": 2,
   "metadata": {
    "collapsed": false
   },
   "outputs": [],
   "source": [
    "import pandas as pd\n",
    "datos = pd.read_csv(\"ejemplo datos.csv\")"
   ]
  },
  {
   "cell_type": "code",
   "execution_count": 3,
   "metadata": {
    "collapsed": false
   },
   "outputs": [
    {
     "data": {
      "text/html": [
       "<div>\n",
       "<table border=\"1\" class=\"dataframe\">\n",
       "  <thead>\n",
       "    <tr style=\"text-align: right;\">\n",
       "      <th></th>\n",
       "      <th>Ayer</th>\n",
       "      <th>Hoy</th>\n",
       "    </tr>\n",
       "  </thead>\n",
       "  <tbody>\n",
       "    <tr>\n",
       "      <th>0</th>\n",
       "      <td>1</td>\n",
       "      <td>10</td>\n",
       "    </tr>\n",
       "    <tr>\n",
       "      <th>1</th>\n",
       "      <td>2</td>\n",
       "      <td>20</td>\n",
       "    </tr>\n",
       "    <tr>\n",
       "      <th>2</th>\n",
       "      <td>3</td>\n",
       "      <td>30</td>\n",
       "    </tr>\n",
       "    <tr>\n",
       "      <th>3</th>\n",
       "      <td>4</td>\n",
       "      <td>40</td>\n",
       "    </tr>\n",
       "    <tr>\n",
       "      <th>4</th>\n",
       "      <td>5</td>\n",
       "      <td>50</td>\n",
       "    </tr>\n",
       "  </tbody>\n",
       "</table>\n",
       "</div>"
      ],
      "text/plain": [
       "   Ayer  Hoy\n",
       "0     1   10\n",
       "1     2   20\n",
       "2     3   30\n",
       "3     4   40\n",
       "4     5   50"
      ]
     },
     "execution_count": 3,
     "metadata": {},
     "output_type": "execute_result"
    }
   ],
   "source": [
    "datos"
   ]
  },
  {
   "cell_type": "code",
   "execution_count": 4,
   "metadata": {
    "collapsed": false
   },
   "outputs": [
    {
     "data": {
      "text/plain": [
       "<matplotlib.axes._subplots.AxesSubplot at 0x9936fd0>"
      ]
     },
     "execution_count": 4,
     "metadata": {},
     "output_type": "execute_result"
    },
    {
     "data": {
      "image/png": "[encoded data removed]",
      "text/plain": [
       "<matplotlib.figure.Figure at 0x9296d30>"
      ]
     },
     "metadata": {},
     "output_type": "display_data"
    }
   ],
   "source": [
    "%matplotlib inline \n",
    "datos.plot()"
   ]
  },
  {
   "cell_type": "code",
   "execution_count": 5,
   "metadata": {
    "collapsed": false
   },
   "outputs": [
    {
     "data": {
      "text/plain": [
       "'C:\\\\Users\\\\ADMIN\\\\Desktop\\\\CubanTech Meetup'"
      ]
     },
     "execution_count": 5,
     "metadata": {},
     "output_type": "execute_result"
    }
   ],
   "source": [
    "pwd"
   ]
  },
  {
   "cell_type": "markdown",
   "metadata": {},
   "source": [
    "## 4. Imágenes\n",
    "\n",
    "Para insertar una imagen se usa la siguiente sintaxis, indicando entre paréntesis el origen del archivo (ya sea una ruta a un directorio local o a un URL si el archivo está online)."
   ]
  },
  {
   "cell_type": "raw",
   "metadata": {},
   "source": [
    "![](imagen ejemplo.jpg)"
   ]
  },
  {
   "cell_type": "markdown",
   "metadata": {},
   "source": [
    "![](imagen ejemplo.jpg)"
   ]
  },
  {
   "cell_type": "markdown",
   "metadata": {},
   "source": [
    "# Interfaz y controles\n",
    "\n",
    "\n",
    "\n"
   ]
  },
  {
   "cell_type": "markdown",
   "metadata": {},
   "source": [
    "### Principales elementos\n",
    "\n",
    "* Nombre del archivo\n",
    "* Barra de menús\n",
    "* Barra de herramientas\n",
    "* Indicador de modo (edición o comando)\n",
    "* Indicador del kernel"
   ]
  },
  {
   "cell_type": "markdown",
   "metadata": {},
   "source": [
    "### Modo de edición (borde verde + icono de lápiz en borde derecho superior)"
   ]
  },
  {
   "cell_type": "code",
   "execution_count": null,
   "metadata": {
    "collapsed": true
   },
   "outputs": [],
   "source": []
  },
  {
   "cell_type": "markdown",
   "metadata": {},
   "source": [
    "### Modo de comando (borde azul)"
   ]
  },
  {
   "cell_type": "code",
   "execution_count": null,
   "metadata": {
    "collapsed": true
   },
   "outputs": [],
   "source": []
  },
  {
   "cell_type": "markdown",
   "metadata": {},
   "source": [
    "### Combinaciones de teclas de acceso rápido\n",
    "\n",
    "![](teclas.jpg)"
   ]
  },
  {
   "cell_type": "markdown",
   "metadata": {},
   "source": [
    "### Ayuda\n",
    "\n",
    "Hay diferentes formas de acceder a información útil de ayuda en Jupyter:"
   ]
  },
  {
   "cell_type": "markdown",
   "metadata": {},
   "source": [
    "`?`\n",
    "\n",
    "Abre una introducción y descripción general de las principales características de IPython"
   ]
  },
  {
   "cell_type": "code",
   "execution_count": 8,
   "metadata": {
    "collapsed": true
   },
   "outputs": [],
   "source": [
    "?"
   ]
  },
  {
   "cell_type": "markdown",
   "metadata": {},
   "source": [
    "`%quickref`\n",
    "\n",
    "Abrir la guía rápida"
   ]
  },
  {
   "cell_type": "code",
   "execution_count": null,
   "metadata": {
    "collapsed": true
   },
   "outputs": [],
   "source": [
    "%quickref"
   ]
  },
  {
   "cell_type": "markdown",
   "metadata": {},
   "source": [
    "Ayuda interactiva:"
   ]
  },
  {
   "cell_type": "code",
   "execution_count": null,
   "metadata": {
    "collapsed": false
   },
   "outputs": [
    {
     "name": "stdout",
     "output_type": "stream",
     "text": [
      "\n",
      "Welcome to Python 3.4's help utility!\n",
      "\n",
      "If this is your first time using Python, you should definitely check out\n",
      "the tutorial on the Internet at http://docs.python.org/3.4/tutorial/.\n",
      "\n",
      "Enter the name of any module, keyword, or topic to get help on writing\n",
      "Python programs and using Python modules.  To quit this help utility and\n",
      "return to the interpreter, just type \"quit\".\n",
      "\n",
      "To get a list of available modules, keywords, symbols, or topics, type\n",
      "\"modules\", \"keywords\", \"symbols\", or \"topics\".  Each module also comes\n",
      "with a one-line summary of what it does; to list the modules whose name\n",
      "or summary contain a given string such as \"spam\", type \"modules spam\".\n",
      "\n"
     ]
    }
   ],
   "source": [
    "help()"
   ]
  },
  {
   "cell_type": "markdown",
   "metadata": {},
   "source": [
    "Ayuda para objetos específicos:"
   ]
  },
  {
   "cell_type": "code",
   "execution_count": null,
   "metadata": {
    "collapsed": false
   },
   "outputs": [],
   "source": [
    "help(\"pandas\")"
   ]
  },
  {
   "cell_type": "markdown",
   "metadata": {},
   "source": [
    "Ayuda para objetos específicos:"
   ]
  },
  {
   "cell_type": "code",
   "execution_count": null,
   "metadata": {
    "collapsed": false
   },
   "outputs": [],
   "source": [
    "sum?"
   ]
  }
 ],
 "metadata": {
  "kernelspec": {
   "display_name": "Python 3",
   "language": "python",
   "name": "python3"
  },
  "language_info": {
   "codemirror_mode": {
    "name": "ipython",
    "version": 3
   },
   "file_extension": ".py",
   "mimetype": "text/x-python",
   "name": "python",
   "nbconvert_exporter": "python",
   "pygments_lexer": "ipython3",
   "version": "3.4.3"
  }
 },
 "nbformat": 4,
 "nbformat_minor": 0
}
